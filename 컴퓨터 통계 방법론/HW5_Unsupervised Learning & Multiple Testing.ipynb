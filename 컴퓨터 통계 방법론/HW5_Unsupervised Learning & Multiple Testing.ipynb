{
  "nbformat": 4,
  "nbformat_minor": 0,
  "metadata": {
    "colab": {
      "provenance": []
    },
    "kernelspec": {
      "name": "python3",
      "display_name": "Python 3"
    },
    "language_info": {
      "name": "python"
    }
  },
  "cells": [
    {
      "cell_type": "code",
      "source": [
        "import numpy as np\n",
        "import pandas as pd\n",
        "import matplotlib.pyplot as plt\n",
        "import statsmodels.api as sm\n",
        "\n",
        "from scipy.stats import (ttest_1samp , ttest_rel , ttest_ind , t as t_dbn)\n",
        "from statsmodels.stats.multicomp import pairwise_tukeyhsd\n",
        "from statsmodels.stats.multitest import multipletests as mult_test\n",
        "\n",
        "from statsmodels.datasets import get_rdataset\n",
        "from sklearn.decomposition import PCA\n",
        "from sklearn.preprocessing import StandardScaler\n",
        "\n",
        "from sklearn.cluster import (KMeans, AgglomerativeClustering)\n",
        "from scipy.cluster.hierarchy import (dendrogram, cut_tree)"
      ],
      "metadata": {
        "id": "87v4WOiABD5r"
      },
      "execution_count": 26,
      "outputs": []
    },
    {
      "cell_type": "code",
      "source": [
        "# pip install ISLP"
      ],
      "metadata": {
        "id": "NcFG5cNznrri"
      },
      "execution_count": 27,
      "outputs": []
    },
    {
      "cell_type": "code",
      "source": [
        "from ISLP import load_data\n",
        "from ISLP.cluster import compute_linkage"
      ],
      "metadata": {
        "id": "MR-22D_8mA9w"
      },
      "execution_count": 28,
      "outputs": []
    },
    {
      "cell_type": "markdown",
      "source": [
        "## **Q 13.8**"
      ],
      "metadata": {
        "id": "_yNmrSmIKAxt"
      }
    },
    {
      "cell_type": "code",
      "execution_count": 10,
      "metadata": {
        "id": "8iSZRthPA1X6"
      },
      "outputs": [],
      "source": [
        "rng = np.random.default_rng(77)\n",
        "n, m = 20, 100\n",
        "X = rng.normal(size=(n, m))"
      ]
    },
    {
      "cell_type": "code",
      "source": [
        "X"
      ],
      "metadata": {
        "colab": {
          "base_uri": "https://localhost:8080/"
        },
        "id": "OhOo7SqlBE5e",
        "outputId": "949e61bc-839a-4997-fc50-7b1aea212e8f"
      },
      "execution_count": 11,
      "outputs": [
        {
          "output_type": "execute_result",
          "data": {
            "text/plain": [
              "array([[ 0.42776996, -0.57083756,  2.65446069, ..., -0.20534691,\n",
              "         0.86529301,  0.03591079],\n",
              "       [ 1.16898407,  2.51063762, -0.51815783, ...,  0.16062183,\n",
              "         1.3129026 , -0.69117344],\n",
              "       [-0.42519309, -0.74972173, -0.13833417, ..., -0.4729296 ,\n",
              "         0.46382257,  0.86877825],\n",
              "       ...,\n",
              "       [-0.57947888, -0.85099309,  1.56390585, ..., -0.12056691,\n",
              "         0.65434095, -0.55876252],\n",
              "       [ 0.73472009,  0.54961166,  0.7928086 , ...,  0.18102046,\n",
              "         1.06620826,  0.55924263],\n",
              "       [ 0.80605853, -0.01641129,  0.98791259, ...,  0.94794519,\n",
              "         1.64444946,  0.54308673]])"
            ]
          },
          "metadata": {},
          "execution_count": 11
        }
      ]
    },
    {
      "cell_type": "markdown",
      "source": [
        "### **(a)**"
      ],
      "metadata": {
        "id": "Q3apB6-FFsL5"
      }
    },
    {
      "cell_type": "code",
      "source": [
        "p_values = np.empty(100)\n",
        "true_mean = np.zeros(100)\n",
        "for i in range(100):\n",
        "  p_values[i] = ttest_1samp(X[:,i], 0).pvalue\n",
        "decision = pd.cut(p_values , [0, 0.05, 1], labels=['Reject H0', 'Do not reject H0'])\n",
        "truth = pd.Categorical(true_mean == 0, categories=[True , False], ordered=True)"
      ],
      "metadata": {
        "id": "UIWLTFx3BHx_"
      },
      "execution_count": 12,
      "outputs": []
    },
    {
      "cell_type": "code",
      "source": [
        "plt.hist(p_values,bins=20,edgecolor='white')\n",
        "plt.xticks(np.arange(0,1,0.1))"
      ],
      "metadata": {
        "colab": {
          "base_uri": "https://localhost:8080/",
          "height": 793
        },
        "id": "5F53_BMcHzha",
        "outputId": "3bc42a40-3ef7-4778-eb1f-d64d2b91adee"
      },
      "execution_count": 13,
      "outputs": [
        {
          "output_type": "execute_result",
          "data": {
            "text/plain": [
              "([<matplotlib.axis.XTick at 0x7fe4364e3bb0>,\n",
              "  <matplotlib.axis.XTick at 0x7fe4364e3b80>,\n",
              "  <matplotlib.axis.XTick at 0x7fe4364e3a90>,\n",
              "  <matplotlib.axis.XTick at 0x7fe436092470>,\n",
              "  <matplotlib.axis.XTick at 0x7fe436092f20>,\n",
              "  <matplotlib.axis.XTick at 0x7fe4360939d0>,\n",
              "  <matplotlib.axis.XTick at 0x7fe436092020>,\n",
              "  <matplotlib.axis.XTick at 0x7fe4360cc700>,\n",
              "  <matplotlib.axis.XTick at 0x7fe4360cd1b0>,\n",
              "  <matplotlib.axis.XTick at 0x7fe4360cdc60>],\n",
              " [Text(0.0, 0, '0.0'),\n",
              "  Text(0.1, 0, '0.1'),\n",
              "  Text(0.2, 0, '0.2'),\n",
              "  Text(0.30000000000000004, 0, '0.3'),\n",
              "  Text(0.4, 0, '0.4'),\n",
              "  Text(0.5, 0, '0.5'),\n",
              "  Text(0.6000000000000001, 0, '0.6'),\n",
              "  Text(0.7000000000000001, 0, '0.7'),\n",
              "  Text(0.8, 0, '0.8'),\n",
              "  Text(0.9, 0, '0.9')])"
            ]
          },
          "metadata": {},
          "execution_count": 13
        },
        {
          "output_type": "display_data",
          "data": {
            "text/plain": [
              "<Figure size 640x480 with 1 Axes>"
            ],
            "image/png": "[encoded data removed]"
          },
          "metadata": {}
        }
      ]
    },
    {
      "cell_type": "markdown",
      "source": [
        "### **(b)**"
      ],
      "metadata": {
        "id": "E6y1Jf9dI5W2"
      }
    },
    {
      "cell_type": "code",
      "source": [
        "pd.crosstab(decision, truth, rownames=['Decision'], colnames=['H0'])"
      ],
      "metadata": {
        "colab": {
          "base_uri": "https://localhost:8080/",
          "height": 143
        },
        "id": "iVMpRrkVGk-H",
        "outputId": "f7a52664-2e84-4b23-815a-c1b0ffc3051e"
      },
      "execution_count": 14,
      "outputs": [
        {
          "output_type": "execute_result",
          "data": {
            "text/plain": [
              "H0                True\n",
              "Decision              \n",
              "Reject H0           12\n",
              "Do not reject H0    88"
            ],
            "text/html": [
              "\n",
              "  <div id=\"df-6936d176-53e2-478e-b874-ad50e0e77233\" class=\"colab-df-container\">\n",
              "    <div>\n",
              "<style scoped>\n",
              "    .dataframe tbody tr th:only-of-type {\n",
              "        vertical-align: middle;\n",
              "    }\n",
              "\n",
              "    .dataframe tbody tr th {\n",
              "        vertical-align: top;\n",
              "    }\n",
              "\n",
              "    .dataframe thead th {\n",
              "        text-align: right;\n",
              "    }\n",
              "</style>\n",
              "<table border=\"1\" class=\"dataframe\">\n",
              "  <thead>\n",
              "    <tr style=\"text-align: right;\">\n",
              "      <th>H0</th>\n",
              "      <th>True</th>\n",
              "    </tr>\n",
              "    <tr>\n",
              "      <th>Decision</th>\n",
              "      <th></th>\n",
              "    </tr>\n",
              "  </thead>\n",
              "  <tbody>\n",
              "    <tr>\n",
              "      <th>Reject H0</th>\n",
              "      <td>12</td>\n",
              "    </tr>\n",
              "    <tr>\n",
              "      <th>Do not reject H0</th>\n",
              "      <td>88</td>\n",
              "    </tr>\n",
              "  </tbody>\n",
              "</table>\n",
              "</div>\n",
              "    <div class=\"colab-df-buttons\">\n",
              "\n",
              "  <div class=\"colab-df-container\">\n",
              "    <button class=\"colab-df-convert\" onclick=\"convertToInteractive('df-6936d176-53e2-478e-b874-ad50e0e77233')\"\n",
              "            title=\"Convert this dataframe to an interactive table.\"\n",
              "            style=\"display:none;\">\n",
              "\n",
              "  <svg xmlns=\"http://www.w3.org/2000/svg\" height=\"24px\" viewBox=\"0 -960 960 960\">\n",
              "    <path d=\"M120-120v-720h720v720H120Zm60-500h600v-160H180v160Zm220 220h160v-160H400v160Zm0 220h160v-160H400v160ZM180-400h160v-160H180v160Zm440 0h160v-160H620v160ZM180-180h160v-160H180v160Zm440 0h160v-160H620v160Z\"/>\n",
              "  </svg>\n",
              "    </button>\n",
              "\n",
              "  <style>\n",
              "    .colab-df-container {\n",
              "      display:flex;\n",
              "      gap: 12px;\n",
              "    }\n",
              "\n",
              "    .colab-df-convert {\n",
              "      background-color: #E8F0FE;\n",
              "      border: none;\n",
              "      border-radius: 50%;\n",
              "      cursor: pointer;\n",
              "      display: none;\n",
              "      fill: #1967D2;\n",
              "      height: 32px;\n",
              "      padding: 0 0 0 0;\n",
              "      width: 32px;\n",
              "    }\n",
              "\n",
              "    .colab-df-convert:hover {\n",
              "      background-color: #E2EBFA;\n",
              "      box-shadow: 0px 1px 2px rgba(60, 64, 67, 0.3), 0px 1px 3px 1px rgba(60, 64, 67, 0.15);\n",
              "      fill: #174EA6;\n",
              "    }\n",
              "\n",
              "    .colab-df-buttons div {\n",
              "      margin-bottom: 4px;\n",
              "    }\n",
              "\n",
              "    [theme=dark] .colab-df-convert {\n",
              "      background-color: #3B4455;\n",
              "      fill: #D2E3FC;\n",
              "    }\n",
              "\n",
              "    [theme=dark] .colab-df-convert:hover {\n",
              "      background-color: #434B5C;\n",
              "      box-shadow: 0px 1px 3px 1px rgba(0, 0, 0, 0.15);\n",
              "      filter: drop-shadow(0px 1px 2px rgba(0, 0, 0, 0.3));\n",
              "      fill: #FFFFFF;\n",
              "    }\n",
              "  </style>\n",
              "\n",
              "    <script>\n",
              "      const buttonEl =\n",
              "        document.querySelector('#df-6936d176-53e2-478e-b874-ad50e0e77233 button.colab-df-convert');\n",
              "      buttonEl.style.display =\n",
              "        google.colab.kernel.accessAllowed ? 'block' : 'none';\n",
              "\n",
              "      async function convertToInteractive(key) {\n",
              "        const element = document.querySelector('#df-6936d176-53e2-478e-b874-ad50e0e77233');\n",
              "        const dataTable =\n",
              "          await google.colab.kernel.invokeFunction('convertToInteractive',\n",
              "                                                    [key], {});\n",
              "        if (!dataTable) return;\n",
              "\n",
              "        const docLinkHtml = 'Like what you see? Visit the ' +\n",
              "          '<a target=\"_blank\" href=https://colab.research.google.com/notebooks/data_table.ipynb>data table notebook</a>'\n",
              "          + ' to learn more about interactive tables.';\n",
              "        element.innerHTML = '';\n",
              "        dataTable['output_type'] = 'display_data';\n",
              "        await google.colab.output.renderOutput(dataTable, element);\n",
              "        const docLink = document.createElement('div');\n",
              "        docLink.innerHTML = docLinkHtml;\n",
              "        element.appendChild(docLink);\n",
              "      }\n",
              "    </script>\n",
              "  </div>\n",
              "\n",
              "\n",
              "<div id=\"df-f640cfe0-7383-43be-a690-0b4e4c694843\">\n",
              "  <button class=\"colab-df-quickchart\" onclick=\"quickchart('df-f640cfe0-7383-43be-a690-0b4e4c694843')\"\n",
              "            title=\"Suggest charts\"\n",
              "            style=\"display:none;\">\n",
              "\n",
              "<svg xmlns=\"http://www.w3.org/2000/svg\" height=\"24px\"viewBox=\"0 0 24 24\"\n",
              "     width=\"24px\">\n",
              "    <g>\n",
              "        <path d=\"M19 3H5c-1.1 0-2 .9-2 2v14c0 1.1.9 2 2 2h14c1.1 0 2-.9 2-2V5c0-1.1-.9-2-2-2zM9 17H7v-7h2v7zm4 0h-2V7h2v10zm4 0h-2v-4h2v4z\"/>\n",
              "    </g>\n",
              "</svg>\n",
              "  </button>\n",
              "\n",
              "<style>\n",
              "  .colab-df-quickchart {\n",
              "      --bg-color: #E8F0FE;\n",
              "      --fill-color: #1967D2;\n",
              "      --hover-bg-color: #E2EBFA;\n",
              "      --hover-fill-color: #174EA6;\n",
              "      --disabled-fill-color: #AAA;\n",
              "      --disabled-bg-color: #DDD;\n",
              "  }\n",
              "\n",
              "  [theme=dark] .colab-df-quickchart {\n",
              "      --bg-color: #3B4455;\n",
              "      --fill-color: #D2E3FC;\n",
              "      --hover-bg-color: #434B5C;\n",
              "      --hover-fill-color: #FFFFFF;\n",
              "      --disabled-bg-color: #3B4455;\n",
              "      --disabled-fill-color: #666;\n",
              "  }\n",
              "\n",
              "  .colab-df-quickchart {\n",
              "    background-color: var(--bg-color);\n",
              "    border: none;\n",
              "    border-radius: 50%;\n",
              "    cursor: pointer;\n",
              "    display: none;\n",
              "    fill: var(--fill-color);\n",
              "    height: 32px;\n",
              "    padding: 0;\n",
              "    width: 32px;\n",
              "  }\n",
              "\n",
              "  .colab-df-quickchart:hover {\n",
              "    background-color: var(--hover-bg-color);\n",
              "    box-shadow: 0 1px 2px rgba(60, 64, 67, 0.3), 0 1px 3px 1px rgba(60, 64, 67, 0.15);\n",
              "    fill: var(--button-hover-fill-color);\n",
              "  }\n",
              "\n",
              "  .colab-df-quickchart-complete:disabled,\n",
              "  .colab-df-quickchart-complete:disabled:hover {\n",
              "    background-color: var(--disabled-bg-color);\n",
              "    fill: var(--disabled-fill-color);\n",
              "    box-shadow: none;\n",
              "  }\n",
              "\n",
              "  .colab-df-spinner {\n",
              "    border: 2px solid var(--fill-color);\n",
              "    border-color: transparent;\n",
              "    border-bottom-color: var(--fill-color);\n",
              "    animation:\n",
              "      spin 1s steps(1) infinite;\n",
              "  }\n",
              "\n",
              "  @keyframes spin {\n",
              "    0% {\n",
              "      border-color: transparent;\n",
              "      border-bottom-color: var(--fill-color);\n",
              "      border-left-color: var(--fill-color);\n",
              "    }\n",
              "    20% {\n",
              "      border-color: transparent;\n",
              "      border-left-color: var(--fill-color);\n",
              "      border-top-color: var(--fill-color);\n",
              "    }\n",
              "    30% {\n",
              "      border-color: transparent;\n",
              "      border-left-color: var(--fill-color);\n",
              "      border-top-color: var(--fill-color);\n",
              "      border-right-color: var(--fill-color);\n",
              "    }\n",
              "    40% {\n",
              "      border-color: transparent;\n",
              "      border-right-color: var(--fill-color);\n",
              "      border-top-color: var(--fill-color);\n",
              "    }\n",
              "    60% {\n",
              "      border-color: transparent;\n",
              "      border-right-color: var(--fill-color);\n",
              "    }\n",
              "    80% {\n",
              "      border-color: transparent;\n",
              "      border-right-color: var(--fill-color);\n",
              "      border-bottom-color: var(--fill-color);\n",
              "    }\n",
              "    90% {\n",
              "      border-color: transparent;\n",
              "      border-bottom-color: var(--fill-color);\n",
              "    }\n",
              "  }\n",
              "</style>\n",
              "\n",
              "  <script>\n",
              "    async function quickchart(key) {\n",
              "      const quickchartButtonEl =\n",
              "        document.querySelector('#' + key + ' button');\n",
              "      quickchartButtonEl.disabled = true;  // To prevent multiple clicks.\n",
              "      quickchartButtonEl.classList.add('colab-df-spinner');\n",
              "      try {\n",
              "        const charts = await google.colab.kernel.invokeFunction(\n",
              "            'suggestCharts', [key], {});\n",
              "      } catch (error) {\n",
              "        console.error('Error during call to suggestCharts:', error);\n",
              "      }\n",
              "      quickchartButtonEl.classList.remove('colab-df-spinner');\n",
              "      quickchartButtonEl.classList.add('colab-df-quickchart-complete');\n",
              "    }\n",
              "    (() => {\n",
              "      let quickchartButtonEl =\n",
              "        document.querySelector('#df-f640cfe0-7383-43be-a690-0b4e4c694843 button');\n",
              "      quickchartButtonEl.style.display =\n",
              "        google.colab.kernel.accessAllowed ? 'block' : 'none';\n",
              "    })();\n",
              "  </script>\n",
              "</div>\n",
              "    </div>\n",
              "  </div>\n"
            ]
          },
          "metadata": {},
          "execution_count": 14
        }
      ]
    },
    {
      "cell_type": "markdown",
      "source": [
        "### **(c)**"
      ],
      "metadata": {
        "id": "VSG17uNAJL4P"
      }
    },
    {
      "cell_type": "code",
      "source": [
        "reject, bonf = mult_test(p_values, method = \"bonferroni\")[:2]\n",
        "num_rej_bonf = np.sum(reject*np.ones(100))\n",
        "print(\"number of rejection with Bonferroni method =\", num_rej_bonf)"
      ],
      "metadata": {
        "colab": {
          "base_uri": "https://localhost:8080/"
        },
        "id": "bIF2bO0tHvWX",
        "outputId": "6b7e7a25-da2f-43d3-efe3-cdf785e798cf"
      },
      "execution_count": 15,
      "outputs": [
        {
          "output_type": "stream",
          "name": "stdout",
          "text": [
            "number of rejection with Bonferroni method = 0.0\n"
          ]
        }
      ]
    },
    {
      "cell_type": "code",
      "source": [
        "reject, holm = mult_test(p_values, method = \"holm\", alpha=0.05)[:2]\n",
        "num_rej_holm = np.sum(reject*np.ones(100))\n",
        "print(\"number of rejection with Holm's method =\", num_rej_holm)"
      ],
      "metadata": {
        "colab": {
          "base_uri": "https://localhost:8080/"
        },
        "id": "v4MrM6HELXOH",
        "outputId": "79b9549e-6c0e-4cc0-d8e9-f113991f08eb"
      },
      "execution_count": 16,
      "outputs": [
        {
          "output_type": "stream",
          "name": "stdout",
          "text": [
            "number of rejection with Holm's method = 0.0\n"
          ]
        }
      ]
    },
    {
      "cell_type": "markdown",
      "source": [
        "### **(d)**"
      ],
      "metadata": {
        "id": "7DBQ99ONMRsN"
      }
    },
    {
      "cell_type": "code",
      "source": [
        "q_values = mult_test(p_values, method = \"fdr_bh\")[1]\n",
        "q_values"
      ],
      "metadata": {
        "colab": {
          "base_uri": "https://localhost:8080/"
        },
        "id": "UIen7ZmiMAa9",
        "outputId": "636d8810-cbe2-41cf-e38c-bbd52f830917"
      },
      "execution_count": 17,
      "outputs": [
        {
          "output_type": "execute_result",
          "data": {
            "text/plain": [
              "array([0.98960162, 0.94823149, 0.95078618, 0.98704084, 0.98960162,\n",
              "       0.83847606, 0.98624927, 0.98960162, 0.94823149, 0.94823149,\n",
              "       0.68871132, 0.98960162, 0.67730514, 0.94823149, 0.98960162,\n",
              "       0.68871132, 0.98960162, 0.98960162, 0.98960162, 0.98960162,\n",
              "       0.98960162, 0.94823149, 0.94823149, 0.98960162, 0.98960162,\n",
              "       0.2126287 , 0.94823149, 0.98960162, 0.9513673 , 0.98960162,\n",
              "       0.98960162, 0.98960162, 0.98960162, 0.98960162, 0.98960162,\n",
              "       0.79442808, 0.94823149, 0.94823149, 0.94823149, 0.94823149,\n",
              "       0.95769483, 0.15097526, 0.98960162, 0.60247229, 0.15097526,\n",
              "       0.98624927, 0.83847606, 0.98028769, 0.98960162, 0.98960162,\n",
              "       0.70710935, 0.20152707, 0.68871132, 0.94823149, 0.94823149,\n",
              "       0.94823149, 0.94823149, 0.98960162, 0.79442808, 0.98624927,\n",
              "       0.99081403, 0.98960162, 0.94823149, 0.94823149, 0.15097526,\n",
              "       0.67730514, 0.98960162, 0.34754236, 0.98960162, 0.7084739 ,\n",
              "       0.98960162, 0.98960162, 0.9513673 , 0.94823149, 0.98960162,\n",
              "       0.98960162, 0.98960162, 0.05863378, 0.98960162, 0.98960162,\n",
              "       0.20152707, 0.68871132, 0.42779036, 0.94823149, 0.98960162,\n",
              "       0.98960162, 0.98960162, 0.98960162, 0.98960162, 0.42779036,\n",
              "       0.94823149, 0.34754236, 0.41134841, 0.05863378, 0.94823149,\n",
              "       0.98960162, 0.98624927, 0.98960162, 0.10332934, 0.94823149])"
            ]
          },
          "metadata": {},
          "execution_count": 17
        }
      ]
    },
    {
      "cell_type": "code",
      "source": [
        "(q_values <= 0.05).sum()"
      ],
      "metadata": {
        "colab": {
          "base_uri": "https://localhost:8080/"
        },
        "id": "WX-oiGMkMpQm",
        "outputId": "5e68431e-fb84-4697-c134-2dc8bf3eb876"
      },
      "execution_count": 18,
      "outputs": [
        {
          "output_type": "execute_result",
          "data": {
            "text/plain": [
              "0"
            ]
          },
          "metadata": {},
          "execution_count": 18
        }
      ]
    },
    {
      "cell_type": "markdown",
      "source": [
        "### **(e)**"
      ],
      "metadata": {
        "id": "c6TVWY5tM8fy"
      }
    },
    {
      "cell_type": "code",
      "source": [
        "performance = np.sum(X,axis=0)\n",
        "performance"
      ],
      "metadata": {
        "colab": {
          "base_uri": "https://localhost:8080/"
        },
        "id": "bCzV4mpVOF20",
        "outputId": "e45b1089-d6f4-4ca3-a4e4-f810b8d87467"
      },
      "execution_count": 19,
      "outputs": [
        {
          "output_type": "execute_result",
          "data": {
            "text/plain": [
              "array([ -0.12588126,  -5.10971433,   3.86368435,   2.75192316,\n",
              "         0.37732542,  -5.40865239,  -2.2641082 ,   1.16536936,\n",
              "        -4.7727091 ,  -5.14411145,   6.77899143,   1.61039934,\n",
              "        -5.11554277,   3.53531225,   0.08901736,   6.66782711,\n",
              "         0.80797767,  -0.58450994,  -0.6116252 ,   1.22009344,\n",
              "        -1.74744444,  -4.73241688,   3.94293146,   0.74128386,\n",
              "         1.09426439,  -7.7304064 ,  -4.49164739,  -2.20629809,\n",
              "        -3.00440598,  -1.98404418,  -0.4619815 ,   0.68984406,\n",
              "        -1.19860614,   1.08206619,   2.06064662,   3.90667437,\n",
              "        -3.94282378,  -3.02637022,  -4.13796641,  -3.75464662,\n",
              "         2.72870056,   9.23204639,  -0.69578571,  -6.72245645,\n",
              "       -11.07672632,   2.84087726,  -4.32186496,  -3.29845043,\n",
              "        -2.21682141,  -2.17836666,   7.21283034,   9.63975578,\n",
              "        -6.20069325,  -4.28565073,  -3.45008182,   3.17076762,\n",
              "         3.39562976,  -1.97993117,   5.9308365 ,  -2.74957666,\n",
              "         0.05231656,   0.41211865,  -3.8926235 ,   4.39640021,\n",
              "       -11.15758299, -10.29683746,  -1.95275355,   9.4991855 ,\n",
              "        -0.12942876,  -5.66530332,  -1.81133504,   1.1805407 ,\n",
              "        -3.89655562,   2.96766739,   1.39351461,  -1.67167762,\n",
              "         1.73447038,  13.73365123,   0.1336533 ,  -1.3226415 ,\n",
              "         9.37616114,  -7.08557975,  10.38032643,  -2.0259544 ,\n",
              "        -0.46325822,  -0.33292005,   1.8939762 ,  -0.53843029,\n",
              "        -1.55269706, -10.141886  ,   5.49340966,   7.96267883,\n",
              "        10.0525502 ,  12.86680157,   4.95938611,  -0.32316583,\n",
              "        -2.95708533,   0.79240169,  12.68137557,   4.36927533])"
            ]
          },
          "metadata": {},
          "execution_count": 19
        }
      ]
    },
    {
      "cell_type": "code",
      "source": [
        "best_10_idx = np.argsort(performance)[-10:]\n",
        "best_10_p_values = [p_values[i] for i in best_10_idx]\n",
        "best_10_p_values"
      ],
      "metadata": {
        "colab": {
          "base_uri": "https://localhost:8080/"
        },
        "id": "R752AdOyOXYv",
        "outputId": "c25df107-9376-4526-bace-e59a2ed146fb"
      },
      "execution_count": 20,
      "outputs": [
        {
          "output_type": "execute_result",
          "data": {
            "text/plain": [
              "[0.03822965999073228,\n",
              " 0.008889217554356694,\n",
              " 0.014875325358609014,\n",
              " 0.03659608132400176,\n",
              " 0.016122165219132574,\n",
              " 0.049361809583004526,\n",
              " 0.05989065019398282,\n",
              " 0.003099880255080984,\n",
              " 0.0010281118533028986,\n",
              " 0.0011726756527197465]"
            ]
          },
          "metadata": {},
          "execution_count": 20
        }
      ]
    },
    {
      "cell_type": "code",
      "source": [
        "for idx in best_10_idx:\n",
        "  print(performance[idx])"
      ],
      "metadata": {
        "colab": {
          "base_uri": "https://localhost:8080/"
        },
        "id": "aQbXqhzuPH8A",
        "outputId": "65ecbbe9-d55f-49eb-a3ee-22e0f666c22c"
      },
      "execution_count": 21,
      "outputs": [
        {
          "output_type": "stream",
          "name": "stdout",
          "text": [
            "7.962678830617275\n",
            "9.232046389837484\n",
            "9.376161141857795\n",
            "9.499185498455603\n",
            "9.63975578073554\n",
            "10.052550198162539\n",
            "10.380326431455366\n",
            "12.68137557178267\n",
            "12.866801570758865\n",
            "13.733651225958951\n"
          ]
        }
      ]
    },
    {
      "cell_type": "code",
      "source": [
        "reject, bonf = mult_test(best_10_p_values, method = \"bonferroni\")[:2]\n",
        "num_rej_bonf = np.sum(reject*np.ones(10))\n",
        "print(\"number of rejection with Bonferroni method =\", num_rej_bonf)"
      ],
      "metadata": {
        "colab": {
          "base_uri": "https://localhost:8080/"
        },
        "id": "VdsDGO0fOKNV",
        "outputId": "45cf9088-ef8d-4418-c304-4e0f5059bd3a"
      },
      "execution_count": 22,
      "outputs": [
        {
          "output_type": "stream",
          "name": "stdout",
          "text": [
            "number of rejection with Bonferroni method = 3.0\n"
          ]
        }
      ]
    },
    {
      "cell_type": "code",
      "source": [
        "reject, holm = mult_test(best_10_p_values, method = \"holm\", alpha=0.05)[:2]\n",
        "num_rej_holm = np.sum(reject*np.ones(10))\n",
        "print(\"number of rejection with Holm's method =\", num_rej_holm)"
      ],
      "metadata": {
        "colab": {
          "base_uri": "https://localhost:8080/"
        },
        "id": "1uaI-AaZPzsf",
        "outputId": "66ce5a6c-d548-4f09-9712-db0c6d3f995c"
      },
      "execution_count": 23,
      "outputs": [
        {
          "output_type": "stream",
          "name": "stdout",
          "text": [
            "number of rejection with Holm's method = 3.0\n"
          ]
        }
      ]
    },
    {
      "cell_type": "code",
      "source": [
        "small_10_p_values_idx = np.argsort(p_values)[:10]\n",
        "small_10_p_values = [p_values[i] for i in small_10_p_values_idx]\n",
        "small_10_p_values"
      ],
      "metadata": {
        "colab": {
          "base_uri": "https://localhost:8080/"
        },
        "id": "RUCUbPdURZTb",
        "outputId": "1b9082bf-3bdd-49b3-bd8a-a5fdbd720d08"
      },
      "execution_count": 24,
      "outputs": [
        {
          "output_type": "execute_result",
          "data": {
            "text/plain": [
              "[0.0010281118533028986,\n",
              " 0.0011726756527197465,\n",
              " 0.003099880255080984,\n",
              " 0.006180309091729862,\n",
              " 0.008889217554356694,\n",
              " 0.009058515372165156,\n",
              " 0.014875325358609014,\n",
              " 0.016122165219132574,\n",
              " 0.019136583291686167,\n",
              " 0.03659608132400176]"
            ]
          },
          "metadata": {},
          "execution_count": 24
        }
      ]
    },
    {
      "cell_type": "code",
      "source": [
        "reject, bonf = mult_test(small_10_p_values, method = \"bonferroni\")[:2]\n",
        "num_rej_bonf = np.sum(reject*np.ones(10))\n",
        "print(\"number of rejection with Bonferroni method =\", num_rej_bonf)\n",
        "\n",
        "reject, holm = mult_test(small_10_p_values, method = \"holm\", alpha=0.05)[:2]\n",
        "num_rej_holm = np.sum(reject*np.ones(10))\n",
        "print(\"number of rejection with Holm's method =\", num_rej_holm)"
      ],
      "metadata": {
        "colab": {
          "base_uri": "https://localhost:8080/"
        },
        "id": "YwweLJa5QEXk",
        "outputId": "03428562-63b6-41d6-98e1-f99e09356734"
      },
      "execution_count": 25,
      "outputs": [
        {
          "output_type": "stream",
          "name": "stdout",
          "text": [
            "number of rejection with Bonferroni method = 3.0\n",
            "number of rejection with Holm's method = 4.0\n"
          ]
        }
      ]
    },
    {
      "cell_type": "markdown",
      "source": [
        "# **Q 12.2**"
      ],
      "metadata": {
        "id": "JoqOoGr0n2T6"
      }
    },
    {
      "cell_type": "code",
      "source": [
        "import numpy as np\n",
        "import pandas as pd\n",
        "import matplotlib.pyplot as plt\n",
        "import statsmodels.api as sm\n",
        "\n",
        "from scipy.stats import (ttest_1samp , ttest_rel , ttest_ind , t as t_dbn)\n",
        "from statsmodels.stats.multicomp import pairwise_tukeyhsd\n",
        "from statsmodels.stats.multitest import multipletests as mult_test\n",
        "\n",
        "from statsmodels.datasets import get_rdataset\n",
        "from sklearn.decomposition import PCA\n",
        "from sklearn.preprocessing import StandardScaler\n",
        "\n",
        "from sklearn.cluster import (KMeans, AgglomerativeClustering)\n",
        "from scipy.cluster.hierarchy import (dendrogram, cut_tree)\n",
        "\n",
        "from ISLP import load_data\n",
        "from ISLP.cluster import compute_linkage"
      ],
      "metadata": {
        "id": "dmhaVI6SoQTm"
      },
      "execution_count": 29,
      "outputs": []
    },
    {
      "cell_type": "code",
      "source": [
        "X = np.array([[0, 0.3, 0.4, 0.7],[0.3, 0, 0.5, 0.8],[0.4, 0.5, 0, 0.45],[0.7, 0.8, 0.45, 0]])\n",
        "X"
      ],
      "metadata": {
        "colab": {
          "base_uri": "https://localhost:8080/"
        },
        "id": "XIPvDifXo_c2",
        "outputId": "5672b311-a16c-4978-dcfb-56338147995d"
      },
      "execution_count": 37,
      "outputs": [
        {
          "output_type": "execute_result",
          "data": {
            "text/plain": [
              "array([[0.  , 0.3 , 0.4 , 0.7 ],\n",
              "       [0.3 , 0.  , 0.5 , 0.8 ],\n",
              "       [0.4 , 0.5 , 0.  , 0.45],\n",
              "       [0.7 , 0.8 , 0.45, 0.  ]])"
            ]
          },
          "metadata": {},
          "execution_count": 37
        }
      ]
    },
    {
      "cell_type": "markdown",
      "source": [
        "### **(a)**"
      ],
      "metadata": {
        "id": "JIJFt6a9tMTL"
      }
    },
    {
      "cell_type": "code",
      "source": [
        "HClust =  AgglomerativeClustering\n",
        "hc_comp = HClust(linkage='complete', distance_threshold=0, n_clusters=None, metric='precomputed')\n",
        "hc_comp.fit(X)\n",
        "linkage_comp = compute_linkage(hc_comp)\n",
        "fig, ax = plt.subplots(1, 1, figsize=(8,8))\n",
        "cargs = {'color_threshold':-np.inf, 'above_threshold_color':'black'}\n",
        "dendrogram(linkage_comp, ax=ax, **cargs)\n",
        "ax.set_title(\"Complete Linkage with Dissimilarity\")"
      ],
      "metadata": {
        "id": "L7HyJ6MDR9hw",
        "colab": {
          "base_uri": "https://localhost:8080/",
          "height": 721
        },
        "outputId": "a4ed03da-ad28-49ba-b532-1aa0d921b0ac"
      },
      "execution_count": 39,
      "outputs": [
        {
          "output_type": "execute_result",
          "data": {
            "text/plain": [
              "Text(0.5, 1.0, 'Complete Linkage with Dissimilarity')"
            ]
          },
          "metadata": {},
          "execution_count": 39
        },
        {
          "output_type": "display_data",
          "data": {
            "text/plain": [
              "<Figure size 800x800 with 1 Axes>"
            ],
            "image/png": "[encoded data removed]"
          },
          "metadata": {}
        }
      ]
    },
    {
      "cell_type": "markdown",
      "source": [
        "### **(b)**"
      ],
      "metadata": {
        "id": "Ma43PQ7dtJFI"
      }
    },
    {
      "cell_type": "code",
      "source": [
        "HClust =  AgglomerativeClustering\n",
        "hc_sing = HClust(linkage='single', distance_threshold=0, n_clusters=None, metric='precomputed')\n",
        "hc_sing.fit(X)\n",
        "linkage_sing = compute_linkage(hc_sing)\n",
        "fig, ax = plt.subplots(1, 1, figsize=(8,8))\n",
        "cargs = {'color_threshold':-np.inf, 'above_threshold_color':'black'}\n",
        "dendrogram(linkage_sing, ax=ax, **cargs)\n",
        "ax.set_title(\"Single Linkage with Dissimilarity\")"
      ],
      "metadata": {
        "colab": {
          "base_uri": "https://localhost:8080/",
          "height": 721
        },
        "id": "_xa04FW8pltA",
        "outputId": "46fa826c-0c30-4fc7-98c2-9bee124cb4f9"
      },
      "execution_count": 40,
      "outputs": [
        {
          "output_type": "execute_result",
          "data": {
            "text/plain": [
              "Text(0.5, 1.0, 'Single Linkage with Dissimilarity')"
            ]
          },
          "metadata": {},
          "execution_count": 40
        },
        {
          "output_type": "display_data",
          "data": {
            "text/plain": [
              "<Figure size 800x800 with 1 Axes>"
            ],
            "image/png": "[encoded data removed]"
          },
          "metadata": {}
        }
      ]
    },
    {
      "cell_type": "markdown",
      "source": [
        "### **(c)**"
      ],
      "metadata": {
        "id": "GcNoGAQdt8ce"
      }
    },
    {
      "cell_type": "code",
      "source": [
        "cut_tree(linkage_comp, n_clusters=2).T"
      ],
      "metadata": {
        "colab": {
          "base_uri": "https://localhost:8080/"
        },
        "id": "8k4DA0VMt7KA",
        "outputId": "f4595984-3fb9-4772-a3f3-d994080c26c4"
      },
      "execution_count": 43,
      "outputs": [
        {
          "output_type": "execute_result",
          "data": {
            "text/plain": [
              "array([[0, 0, 1, 1]])"
            ]
          },
          "metadata": {},
          "execution_count": 43
        }
      ]
    },
    {
      "cell_type": "markdown",
      "source": [
        "### **(d)**"
      ],
      "metadata": {
        "id": "_K_nxaL2t-QK"
      }
    },
    {
      "cell_type": "code",
      "source": [
        "cut_tree(linkage_sing, n_clusters=2).T"
      ],
      "metadata": {
        "colab": {
          "base_uri": "https://localhost:8080/"
        },
        "id": "VZZOYn9Cq21i",
        "outputId": "41f8decd-d0b1-4987-9e69-c8d609a1b74a"
      },
      "execution_count": 42,
      "outputs": [
        {
          "output_type": "execute_result",
          "data": {
            "text/plain": [
              "array([[0, 0, 0, 1]])"
            ]
          },
          "metadata": {},
          "execution_count": 42
        }
      ]
    },
    {
      "cell_type": "markdown",
      "source": [
        "### **(e)**"
      ],
      "metadata": {
        "id": "uIKI_mEpt_rL"
      }
    },
    {
      "cell_type": "code",
      "source": [
        "perm = [2,3,0,1]\n",
        "X_prime = np.zeros((4,4))\n",
        "for i in range(4):\n",
        "  for j in range(4):\n",
        "    X_prime[i][j] = X[perm[i]][perm[j]]\n",
        "X_prime"
      ],
      "metadata": {
        "colab": {
          "base_uri": "https://localhost:8080/"
        },
        "id": "QViR8WQWtWUV",
        "outputId": "2392ceb1-6e83-4d66-f1cf-5a1a11cfd331"
      },
      "execution_count": 45,
      "outputs": [
        {
          "output_type": "execute_result",
          "data": {
            "text/plain": [
              "array([[0.  , 0.45, 0.4 , 0.5 ],\n",
              "       [0.45, 0.  , 0.7 , 0.8 ],\n",
              "       [0.4 , 0.7 , 0.  , 0.3 ],\n",
              "       [0.5 , 0.8 , 0.3 , 0.  ]])"
            ]
          },
          "metadata": {},
          "execution_count": 45
        }
      ]
    },
    {
      "cell_type": "code",
      "source": [
        "HClust =  AgglomerativeClustering\n",
        "hc_comp = HClust(linkage='complete', distance_threshold=0.4, n_clusters=None, metric='precomputed')\n",
        "hc_comp.fit(X)\n",
        "linkage_comp = compute_linkage(hc_comp)\n",
        "fig, ax = plt.subplots(1, 1, figsize=(8,8))\n",
        "cargs = {'color_threshold':-np.inf, 'above_threshold_color':'black'}\n",
        "dendrogram(linkage_comp, ax=ax, **cargs)\n",
        "ax.set_title(\"Complete Linkage with Dissimilarity\")"
      ],
      "metadata": {
        "colab": {
          "base_uri": "https://localhost:8080/",
          "height": 721
        },
        "id": "hUWCfFNUvCBG",
        "outputId": "7e517496-e6bc-4e28-f264-b20ec733f5b9"
      },
      "execution_count": 56,
      "outputs": [
        {
          "output_type": "execute_result",
          "data": {
            "text/plain": [
              "Text(0.5, 1.0, 'Complete Linkage with Dissimilarity')"
            ]
          },
          "metadata": {},
          "execution_count": 56
        },
        {
          "output_type": "display_data",
          "data": {
            "text/plain": [
              "<Figure size 800x800 with 1 Axes>"
            ],
            "image/png": "[encoded data removed]"
          },
          "metadata": {}
        }
      ]
    },
    {
      "cell_type": "markdown",
      "source": [
        "# **Q 12.3**"
      ],
      "metadata": {
        "id": "yU1m3R4W6L8D"
      }
    },
    {
      "cell_type": "markdown",
      "source": [
        "### **(a)**"
      ],
      "metadata": {
        "id": "elPZ7ODU6R6K"
      }
    },
    {
      "cell_type": "code",
      "source": [
        "X = np.array([[1,4,0],[1,3,0],[0,4,0],[5,1,0],[6,2,0],[4,0,0]])\n",
        "X"
      ],
      "metadata": {
        "colab": {
          "base_uri": "https://localhost:8080/"
        },
        "id": "3yqSISVd6ewx",
        "outputId": "bbc89183-df8e-4cad-a006-cf87349b0814"
      },
      "execution_count": 65,
      "outputs": [
        {
          "output_type": "execute_result",
          "data": {
            "text/plain": [
              "array([[1, 4, 0],\n",
              "       [1, 3, 0],\n",
              "       [0, 4, 0],\n",
              "       [5, 1, 0],\n",
              "       [6, 2, 0],\n",
              "       [4, 0, 0]])"
            ]
          },
          "metadata": {},
          "execution_count": 65
        }
      ]
    },
    {
      "cell_type": "code",
      "source": [
        "plt.scatter(X[:,0],X[:,1])"
      ],
      "metadata": {
        "colab": {
          "base_uri": "https://localhost:8080/",
          "height": 448
        },
        "id": "vywGM_9d6wk5",
        "outputId": "a893ecbb-a55c-4c5f-d6b3-016d384f8e1f"
      },
      "execution_count": 61,
      "outputs": [
        {
          "output_type": "execute_result",
          "data": {
            "text/plain": [
              "<matplotlib.collections.PathCollection at 0x7fe432574e20>"
            ]
          },
          "metadata": {},
          "execution_count": 61
        },
        {
          "output_type": "display_data",
          "data": {
            "text/plain": [
              "<Figure size 640x480 with 1 Axes>"
            ],
            "image/png": "[encoded data removed]"
          },
          "metadata": {}
        }
      ]
    },
    {
      "cell_type": "markdown",
      "source": [
        "### **(b)**"
      ],
      "metadata": {
        "id": "783M30pm6YN0"
      }
    },
    {
      "cell_type": "code",
      "source": [
        "np.random.seed(77)\n",
        "X[:,2] = np.random.choice(2,6)\n",
        "X[:,2]"
      ],
      "metadata": {
        "colab": {
          "base_uri": "https://localhost:8080/"
        },
        "id": "Bngbrhm_7nCm",
        "outputId": "52ff4a2c-31b4-43ef-961a-5f0325f4e4e3"
      },
      "execution_count": 80,
      "outputs": [
        {
          "output_type": "execute_result",
          "data": {
            "text/plain": [
              "array([1, 1, 0, 0, 1, 1])"
            ]
          },
          "metadata": {},
          "execution_count": 80
        }
      ]
    },
    {
      "cell_type": "markdown",
      "source": [
        "### **(c)**"
      ],
      "metadata": {
        "id": "41ijgutN6Zdu"
      }
    },
    {
      "cell_type": "code",
      "source": [
        "C = np.zeros((2,2))\n",
        "for i in range(6):\n",
        "  C[0,:] = np.mean(X[X[:,2]==0][:,:2],axis=0)\n",
        "  C[1,:] = np.mean(X[X[:,2]==1][:,:2],axis=0)\n",
        "C"
      ],
      "metadata": {
        "colab": {
          "base_uri": "https://localhost:8080/"
        },
        "id": "9yKRLblv6gFt",
        "outputId": "5505b31f-9baf-476e-f3f7-255b92ec13d1"
      },
      "execution_count": 81,
      "outputs": [
        {
          "output_type": "execute_result",
          "data": {
            "text/plain": [
              "array([[2.5 , 2.5 ],\n",
              "       [3.  , 2.25]])"
            ]
          },
          "metadata": {},
          "execution_count": 81
        }
      ]
    },
    {
      "cell_type": "markdown",
      "source": [
        "### **(d)**"
      ],
      "metadata": {
        "id": "_6Qrsm5l6a-H"
      }
    },
    {
      "cell_type": "code",
      "source": [
        "np.sum(np.square(X[0,:2]-C[0,:]))"
      ],
      "metadata": {
        "colab": {
          "base_uri": "https://localhost:8080/"
        },
        "id": "W9h8189eZjyj",
        "outputId": "7a14ca99-4878-4ef9-c034-6c9ebcaa6a6b"
      },
      "execution_count": 82,
      "outputs": [
        {
          "output_type": "execute_result",
          "data": {
            "text/plain": [
              "4.5"
            ]
          },
          "metadata": {},
          "execution_count": 82
        }
      ]
    },
    {
      "cell_type": "code",
      "source": [
        "for i in range(6):\n",
        "  if np.sum(np.square(X[i,:2]-C[0,:])) <= np.sum(np.square(X[i,:2]-C[1,:])): # if C1 is closer to the sample\n",
        "    X[i,2] = 0 # assign cluster 0\n",
        "  else:\n",
        "    X[i,2] = 1\n",
        "X[:,2]"
      ],
      "metadata": {
        "colab": {
          "base_uri": "https://localhost:8080/"
        },
        "id": "ZvlGHUtT6gct",
        "outputId": "5e48e8f4-1607-4581-f967-4e97d4b54909"
      },
      "execution_count": 88,
      "outputs": [
        {
          "output_type": "execute_result",
          "data": {
            "text/plain": [
              "array([0, 0, 0, 1, 1, 1])"
            ]
          },
          "metadata": {},
          "execution_count": 88
        }
      ]
    },
    {
      "cell_type": "markdown",
      "source": [
        "### **(e)**"
      ],
      "metadata": {
        "id": "vbO1zzpM6dHF"
      }
    },
    {
      "cell_type": "code",
      "source": [
        "cluster_before = X[:,2]\n",
        "cluster_before"
      ],
      "metadata": {
        "colab": {
          "base_uri": "https://localhost:8080/"
        },
        "id": "aYz_KsRB6g1n",
        "outputId": "f361b495-1d17-4554-9e59-8be1b153ad4b"
      },
      "execution_count": 84,
      "outputs": [
        {
          "output_type": "execute_result",
          "data": {
            "text/plain": [
              "array([0, 0, 0, 1, 1, 1])"
            ]
          },
          "metadata": {},
          "execution_count": 84
        }
      ]
    },
    {
      "cell_type": "code",
      "source": [
        "cluster_after = np.empty(6)\n",
        "while (cluster_after != cluster_before).any():\n",
        "  for i in range(6):\n",
        "    C[0,:] = np.mean(X[X[:,2]==0][:,:2],axis=0)\n",
        "    C[1,:] = np.mean(X[X[:,2]==1][:,:2],axis=0)\n",
        "  for i in range(6):\n",
        "    if np.sum(np.square(X[i,:2]-C[0,:])) <= np.sum(np.square(X[i,:2]-C[1,:])): # if C1 is closer to the sample\n",
        "      X[i,2] = 0 # assign cluster 0\n",
        "    else:\n",
        "      X[i,2] = 1\n",
        "  cluster_after = X[:,2]\n",
        "print(cluster_before)\n",
        "print(cluster_after)"
      ],
      "metadata": {
        "colab": {
          "base_uri": "https://localhost:8080/"
        },
        "id": "qV5q4JEvacnr",
        "outputId": "0e819175-9614-4e04-bf32-1ed86e800c0a"
      },
      "execution_count": 87,
      "outputs": [
        {
          "output_type": "stream",
          "name": "stdout",
          "text": [
            "[0 0 0 1 1 1]\n",
            "[0. 0. 0. 1. 1. 1.]\n"
          ]
        }
      ]
    },
    {
      "cell_type": "markdown",
      "source": [
        "### **(f)**"
      ],
      "metadata": {
        "id": "3vHVDpa-6cKr"
      }
    },
    {
      "cell_type": "code",
      "source": [
        "plt.scatter(X[X[:,2]==0][:,0],X[X[:,2]==0][:,1],color='b')\n",
        "plt.scatter(X[X[:,2]==1][:,0],X[X[:,2]==1][:,1],color='r')"
      ],
      "metadata": {
        "colab": {
          "base_uri": "https://localhost:8080/",
          "height": 448
        },
        "id": "Kzf75f2TvM5o",
        "outputId": "25f1c727-4dd5-4f59-f5ef-a0baa30feb7d"
      },
      "execution_count": 90,
      "outputs": [
        {
          "output_type": "execute_result",
          "data": {
            "text/plain": [
              "<matplotlib.collections.PathCollection at 0x7fe4327c8eb0>"
            ]
          },
          "metadata": {},
          "execution_count": 90
        },
        {
          "output_type": "display_data",
          "data": {
            "text/plain": [
              "<Figure size 640x480 with 1 Axes>"
            ],
            "image/png": "[encoded data removed]"
          },
          "metadata": {}
        }
      ]
    },
    {
      "cell_type": "markdown",
      "source": [
        "# **Q 12.8**"
      ],
      "metadata": {
        "id": "LrsLBI00fpn2"
      }
    },
    {
      "cell_type": "markdown",
      "source": [
        "### **(a)**"
      ],
      "metadata": {
        "id": "43dmwUJ_fuZ7"
      }
    },
    {
      "cell_type": "code",
      "source": [
        "USArrests = get_rdataset('USArrests').data\n",
        "USArrests.head()"
      ],
      "metadata": {
        "colab": {
          "base_uri": "https://localhost:8080/",
          "height": 237
        },
        "id": "UWWWUOEqdQS1",
        "outputId": "8c90bc26-af15-4779-8474-a784d4c447af"
      },
      "execution_count": 91,
      "outputs": [
        {
          "output_type": "execute_result",
          "data": {
            "text/plain": [
              "            Murder  Assault  UrbanPop  Rape\n",
              "rownames                                   \n",
              "Alabama       13.2      236        58  21.2\n",
              "Alaska        10.0      263        48  44.5\n",
              "Arizona        8.1      294        80  31.0\n",
              "Arkansas       8.8      190        50  19.5\n",
              "California     9.0      276        91  40.6"
            ],
            "text/html": [
              "\n",
              "  <div id=\"df-f59d6f08-f219-4fc4-891f-dd0043b8c5ca\" class=\"colab-df-container\">\n",
              "    <div>\n",
              "<style scoped>\n",
              "    .dataframe tbody tr th:only-of-type {\n",
              "        vertical-align: middle;\n",
              "    }\n",
              "\n",
              "    .dataframe tbody tr th {\n",
              "        vertical-align: top;\n",
              "    }\n",
              "\n",
              "    .dataframe thead th {\n",
              "        text-align: right;\n",
              "    }\n",
              "</style>\n",
              "<table border=\"1\" class=\"dataframe\">\n",
              "  <thead>\n",
              "    <tr style=\"text-align: right;\">\n",
              "      <th></th>\n",
              "      <th>Murder</th>\n",
              "      <th>Assault</th>\n",
              "      <th>UrbanPop</th>\n",
              "      <th>Rape</th>\n",
              "    </tr>\n",
              "    <tr>\n",
              "      <th>rownames</th>\n",
              "      <th></th>\n",
              "      <th></th>\n",
              "      <th></th>\n",
              "      <th></th>\n",
              "    </tr>\n",
              "  </thead>\n",
              "  <tbody>\n",
              "    <tr>\n",
              "      <th>Alabama</th>\n",
              "      <td>13.2</td>\n",
              "      <td>236</td>\n",
              "      <td>58</td>\n",
              "      <td>21.2</td>\n",
              "    </tr>\n",
              "    <tr>\n",
              "      <th>Alaska</th>\n",
              "      <td>10.0</td>\n",
              "      <td>263</td>\n",
              "      <td>48</td>\n",
              "      <td>44.5</td>\n",
              "    </tr>\n",
              "    <tr>\n",
              "      <th>Arizona</th>\n",
              "      <td>8.1</td>\n",
              "      <td>294</td>\n",
              "      <td>80</td>\n",
              "      <td>31.0</td>\n",
              "    </tr>\n",
              "    <tr>\n",
              "      <th>Arkansas</th>\n",
              "      <td>8.8</td>\n",
              "      <td>190</td>\n",
              "      <td>50</td>\n",
              "      <td>19.5</td>\n",
              "    </tr>\n",
              "    <tr>\n",
              "      <th>California</th>\n",
              "      <td>9.0</td>\n",
              "      <td>276</td>\n",
              "      <td>91</td>\n",
              "      <td>40.6</td>\n",
              "    </tr>\n",
              "  </tbody>\n",
              "</table>\n",
              "</div>\n",
              "    <div class=\"colab-df-buttons\">\n",
              "\n",
              "  <div class=\"colab-df-container\">\n",
              "    <button class=\"colab-df-convert\" onclick=\"convertToInteractive('df-f59d6f08-f219-4fc4-891f-dd0043b8c5ca')\"\n",
              "            title=\"Convert this dataframe to an interactive table.\"\n",
              "            style=\"display:none;\">\n",
              "\n",
              "  <svg xmlns=\"http://www.w3.org/2000/svg\" height=\"24px\" viewBox=\"0 -960 960 960\">\n",
              "    <path d=\"M120-120v-720h720v720H120Zm60-500h600v-160H180v160Zm220 220h160v-160H400v160Zm0 220h160v-160H400v160ZM180-400h160v-160H180v160Zm440 0h160v-160H620v160ZM180-180h160v-160H180v160Zm440 0h160v-160H620v160Z\"/>\n",
              "  </svg>\n",
              "    </button>\n",
              "\n",
              "  <style>\n",
              "    .colab-df-container {\n",
              "      display:flex;\n",
              "      gap: 12px;\n",
              "    }\n",
              "\n",
              "    .colab-df-convert {\n",
              "      background-color: #E8F0FE;\n",
              "      border: none;\n",
              "      border-radius: 50%;\n",
              "      cursor: pointer;\n",
              "      display: none;\n",
              "      fill: #1967D2;\n",
              "      height: 32px;\n",
              "      padding: 0 0 0 0;\n",
              "      width: 32px;\n",
              "    }\n",
              "\n",
              "    .colab-df-convert:hover {\n",
              "      background-color: #E2EBFA;\n",
              "      box-shadow: 0px 1px 2px rgba(60, 64, 67, 0.3), 0px 1px 3px 1px rgba(60, 64, 67, 0.15);\n",
              "      fill: #174EA6;\n",
              "    }\n",
              "\n",
              "    .colab-df-buttons div {\n",
              "      margin-bottom: 4px;\n",
              "    }\n",
              "\n",
              "    [theme=dark] .colab-df-convert {\n",
              "      background-color: #3B4455;\n",
              "      fill: #D2E3FC;\n",
              "    }\n",
              "\n",
              "    [theme=dark] .colab-df-convert:hover {\n",
              "      background-color: #434B5C;\n",
              "      box-shadow: 0px 1px 3px 1px rgba(0, 0, 0, 0.15);\n",
              "      filter: drop-shadow(0px 1px 2px rgba(0, 0, 0, 0.3));\n",
              "      fill: #FFFFFF;\n",
              "    }\n",
              "  </style>\n",
              "\n",
              "    <script>\n",
              "      const buttonEl =\n",
              "        document.querySelector('#df-f59d6f08-f219-4fc4-891f-dd0043b8c5ca button.colab-df-convert');\n",
              "      buttonEl.style.display =\n",
              "        google.colab.kernel.accessAllowed ? 'block' : 'none';\n",
              "\n",
              "      async function convertToInteractive(key) {\n",
              "        const element = document.querySelector('#df-f59d6f08-f219-4fc4-891f-dd0043b8c5ca');\n",
              "        const dataTable =\n",
              "          await google.colab.kernel.invokeFunction('convertToInteractive',\n",
              "                                                    [key], {});\n",
              "        if (!dataTable) return;\n",
              "\n",
              "        const docLinkHtml = 'Like what you see? Visit the ' +\n",
              "          '<a target=\"_blank\" href=https://colab.research.google.com/notebooks/data_table.ipynb>data table notebook</a>'\n",
              "          + ' to learn more about interactive tables.';\n",
              "        element.innerHTML = '';\n",
              "        dataTable['output_type'] = 'display_data';\n",
              "        await google.colab.output.renderOutput(dataTable, element);\n",
              "        const docLink = document.createElement('div');\n",
              "        docLink.innerHTML = docLinkHtml;\n",
              "        element.appendChild(docLink);\n",
              "      }\n",
              "    </script>\n",
              "  </div>\n",
              "\n",
              "\n",
              "<div id=\"df-3bd7c799-463e-4eb5-8181-36045faaf2da\">\n",
              "  <button class=\"colab-df-quickchart\" onclick=\"quickchart('df-3bd7c799-463e-4eb5-8181-36045faaf2da')\"\n",
              "            title=\"Suggest charts\"\n",
              "            style=\"display:none;\">\n",
              "\n",
              "<svg xmlns=\"http://www.w3.org/2000/svg\" height=\"24px\"viewBox=\"0 0 24 24\"\n",
              "     width=\"24px\">\n",
              "    <g>\n",
              "        <path d=\"M19 3H5c-1.1 0-2 .9-2 2v14c0 1.1.9 2 2 2h14c1.1 0 2-.9 2-2V5c0-1.1-.9-2-2-2zM9 17H7v-7h2v7zm4 0h-2V7h2v10zm4 0h-2v-4h2v4z\"/>\n",
              "    </g>\n",
              "</svg>\n",
              "  </button>\n",
              "\n",
              "<style>\n",
              "  .colab-df-quickchart {\n",
              "      --bg-color: #E8F0FE;\n",
              "      --fill-color: #1967D2;\n",
              "      --hover-bg-color: #E2EBFA;\n",
              "      --hover-fill-color: #174EA6;\n",
              "      --disabled-fill-color: #AAA;\n",
              "      --disabled-bg-color: #DDD;\n",
              "  }\n",
              "\n",
              "  [theme=dark] .colab-df-quickchart {\n",
              "      --bg-color: #3B4455;\n",
              "      --fill-color: #D2E3FC;\n",
              "      --hover-bg-color: #434B5C;\n",
              "      --hover-fill-color: #FFFFFF;\n",
              "      --disabled-bg-color: #3B4455;\n",
              "      --disabled-fill-color: #666;\n",
              "  }\n",
              "\n",
              "  .colab-df-quickchart {\n",
              "    background-color: var(--bg-color);\n",
              "    border: none;\n",
              "    border-radius: 50%;\n",
              "    cursor: pointer;\n",
              "    display: none;\n",
              "    fill: var(--fill-color);\n",
              "    height: 32px;\n",
              "    padding: 0;\n",
              "    width: 32px;\n",
              "  }\n",
              "\n",
              "  .colab-df-quickchart:hover {\n",
              "    background-color: var(--hover-bg-color);\n",
              "    box-shadow: 0 1px 2px rgba(60, 64, 67, 0.3), 0 1px 3px 1px rgba(60, 64, 67, 0.15);\n",
              "    fill: var(--button-hover-fill-color);\n",
              "  }\n",
              "\n",
              "  .colab-df-quickchart-complete:disabled,\n",
              "  .colab-df-quickchart-complete:disabled:hover {\n",
              "    background-color: var(--disabled-bg-color);\n",
              "    fill: var(--disabled-fill-color);\n",
              "    box-shadow: none;\n",
              "  }\n",
              "\n",
              "  .colab-df-spinner {\n",
              "    border: 2px solid var(--fill-color);\n",
              "    border-color: transparent;\n",
              "    border-bottom-color: var(--fill-color);\n",
              "    animation:\n",
              "      spin 1s steps(1) infinite;\n",
              "  }\n",
              "\n",
              "  @keyframes spin {\n",
              "    0% {\n",
              "      border-color: transparent;\n",
              "      border-bottom-color: var(--fill-color);\n",
              "      border-left-color: var(--fill-color);\n",
              "    }\n",
              "    20% {\n",
              "      border-color: transparent;\n",
              "      border-left-color: var(--fill-color);\n",
              "      border-top-color: var(--fill-color);\n",
              "    }\n",
              "    30% {\n",
              "      border-color: transparent;\n",
              "      border-left-color: var(--fill-color);\n",
              "      border-top-color: var(--fill-color);\n",
              "      border-right-color: var(--fill-color);\n",
              "    }\n",
              "    40% {\n",
              "      border-color: transparent;\n",
              "      border-right-color: var(--fill-color);\n",
              "      border-top-color: var(--fill-color);\n",
              "    }\n",
              "    60% {\n",
              "      border-color: transparent;\n",
              "      border-right-color: var(--fill-color);\n",
              "    }\n",
              "    80% {\n",
              "      border-color: transparent;\n",
              "      border-right-color: var(--fill-color);\n",
              "      border-bottom-color: var(--fill-color);\n",
              "    }\n",
              "    90% {\n",
              "      border-color: transparent;\n",
              "      border-bottom-color: var(--fill-color);\n",
              "    }\n",
              "  }\n",
              "</style>\n",
              "\n",
              "  <script>\n",
              "    async function quickchart(key) {\n",
              "      const quickchartButtonEl =\n",
              "        document.querySelector('#' + key + ' button');\n",
              "      quickchartButtonEl.disabled = true;  // To prevent multiple clicks.\n",
              "      quickchartButtonEl.classList.add('colab-df-spinner');\n",
              "      try {\n",
              "        const charts = await google.colab.kernel.invokeFunction(\n",
              "            'suggestCharts', [key], {});\n",
              "      } catch (error) {\n",
              "        console.error('Error during call to suggestCharts:', error);\n",
              "      }\n",
              "      quickchartButtonEl.classList.remove('colab-df-spinner');\n",
              "      quickchartButtonEl.classList.add('colab-df-quickchart-complete');\n",
              "    }\n",
              "    (() => {\n",
              "      let quickchartButtonEl =\n",
              "        document.querySelector('#df-3bd7c799-463e-4eb5-8181-36045faaf2da button');\n",
              "      quickchartButtonEl.style.display =\n",
              "        google.colab.kernel.accessAllowed ? 'block' : 'none';\n",
              "    })();\n",
              "  </script>\n",
              "</div>\n",
              "    </div>\n",
              "  </div>\n"
            ]
          },
          "metadata": {},
          "execution_count": 91
        }
      ]
    },
    {
      "cell_type": "code",
      "source": [
        "scaler = StandardScaler(with_std=True, with_mean=True)\n",
        "USArrests_scaled = scaler.fit_transform(USArrests)"
      ],
      "metadata": {
        "id": "xS8ItroThnXG"
      },
      "execution_count": 92,
      "outputs": []
    },
    {
      "cell_type": "code",
      "source": [
        "pcaUS = PCA()\n",
        "pcaUS.fit(USArrests_scaled)\n",
        "pcaUS.mean_"
      ],
      "metadata": {
        "colab": {
          "base_uri": "https://localhost:8080/"
        },
        "id": "zcBpJQbrh3b8",
        "outputId": "cd80147a-8fdc-45b2-9556-47d79ea03653"
      },
      "execution_count": 93,
      "outputs": [
        {
          "output_type": "execute_result",
          "data": {
            "text/plain": [
              "array([-7.10542736e-17,  1.38777878e-16, -4.39648318e-16,  8.59312621e-16])"
            ]
          },
          "metadata": {},
          "execution_count": 93
        }
      ]
    },
    {
      "cell_type": "code",
      "source": [
        "pcaUS.explained_variance_ratio_"
      ],
      "metadata": {
        "colab": {
          "base_uri": "https://localhost:8080/"
        },
        "id": "SlSSf8LiiEFK",
        "outputId": "55340ccb-38a5-4bb0-8a7b-6bd6b48ce48b"
      },
      "execution_count": 100,
      "outputs": [
        {
          "output_type": "execute_result",
          "data": {
            "text/plain": [
              "array([0.62006039, 0.24744129, 0.0891408 , 0.04335752])"
            ]
          },
          "metadata": {},
          "execution_count": 100
        }
      ]
    },
    {
      "cell_type": "code",
      "source": [
        "scores = pcaUS.transform(USArrests_scaled)"
      ],
      "metadata": {
        "id": "5l7Y0XHciY3t"
      },
      "execution_count": 95,
      "outputs": []
    },
    {
      "cell_type": "code",
      "source": [
        "i, j = 0, 1 # which components\n",
        "fig , ax = plt.subplots(1, 1, figsize=(8, 8))\n",
        "ax.scatter(scores[:,0], scores[:,1])\n",
        "ax.set_xlabel('PC%d' % (i+1))\n",
        "ax.set_ylabel('PC%d' % (j+1))\n",
        "for k in range(pcaUS.components_.shape[1]):\n",
        "  ax.arrow(0, 0, pcaUS.components_[i,k], pcaUS.components_[j,k])\n",
        "  ax.text(pcaUS.components_[i,k], pcaUS.components_[j,k], USArrests.columns[k])"
      ],
      "metadata": {
        "colab": {
          "base_uri": "https://localhost:8080/",
          "height": 696
        },
        "id": "hjaYDgytibQ6",
        "outputId": "918daa6b-e701-4985-e2af-004a6de55539"
      },
      "execution_count": 96,
      "outputs": [
        {
          "output_type": "display_data",
          "data": {
            "text/plain": [
              "<Figure size 800x800 with 1 Axes>"
            ],
            "image/png": "[encoded data removed]"
          },
          "metadata": {}
        }
      ]
    },
    {
      "cell_type": "code",
      "source": [
        "scale_arrow = s_ = 2\n",
        "scores[:,1] *= -1\n",
        "pcaUS.components_[1] *= -1 # flip the y-axis\n",
        "fig , ax = plt.subplots(1, 1, figsize=(8, 8))\n",
        "ax.scatter(scores[:,0], scores[:,1])\n",
        "ax.set_xlabel('PC%d' % (i+1))\n",
        "ax.set_ylabel('PC%d' % (j+1))\n",
        "for k in range(pcaUS.components_.shape[1]):\n",
        "  ax.arrow(0, 0, s_*pcaUS.components_[i,k], s_*pcaUS.components_[j,k])\n",
        "  ax.text(s_*pcaUS.components_[i,k],\n",
        "  s_*pcaUS.components_[j,k],\n",
        "  USArrests.columns[k])"
      ],
      "metadata": {
        "colab": {
          "base_uri": "https://localhost:8080/",
          "height": 696
        },
        "id": "tHcQPN_9imWZ",
        "outputId": "6c93b5a7-82ef-46f5-c410-fdcdc3b3f80f"
      },
      "execution_count": 98,
      "outputs": [
        {
          "output_type": "display_data",
          "data": {
            "text/plain": [
              "<Figure size 800x800 with 1 Axes>"
            ],
            "image/png": "[encoded data removed]"
          },
          "metadata": {}
        }
      ]
    },
    {
      "cell_type": "markdown",
      "source": [
        "### **(b)**"
      ],
      "metadata": {
        "id": "H6fr-WJ3fxBR"
      }
    },
    {
      "cell_type": "code",
      "source": [
        "phi = pcaUS.components_\n",
        "phi"
      ],
      "metadata": {
        "colab": {
          "base_uri": "https://localhost:8080/"
        },
        "id": "ihA3O4Z0fxmr",
        "outputId": "23b0a80f-3869-43c2-b70e-a929a14399b5"
      },
      "execution_count": 101,
      "outputs": [
        {
          "output_type": "execute_result",
          "data": {
            "text/plain": [
              "array([[ 0.53589947,  0.58318363,  0.27819087,  0.54343209],\n",
              "       [-0.41818087, -0.1879856 ,  0.87280619,  0.16731864],\n",
              "       [-0.34123273, -0.26814843, -0.37801579,  0.81777791],\n",
              "       [ 0.6492278 , -0.74340748,  0.13387773,  0.08902432]])"
            ]
          },
          "metadata": {},
          "execution_count": 101
        }
      ]
    },
    {
      "cell_type": "code",
      "source": [
        "n = len(USArrests_scaled[:,0])\n",
        "n"
      ],
      "metadata": {
        "colab": {
          "base_uri": "https://localhost:8080/"
        },
        "id": "aWkMu3tckuZv",
        "outputId": "9e0a8737-5078-4258-c0ab-65cd6ad6391b"
      },
      "execution_count": 103,
      "outputs": [
        {
          "output_type": "execute_result",
          "data": {
            "text/plain": [
              "50"
            ]
          },
          "metadata": {},
          "execution_count": 103
        }
      ]
    },
    {
      "cell_type": "code",
      "source": [
        "USArrests_scaled"
      ],
      "metadata": {
        "colab": {
          "base_uri": "https://localhost:8080/"
        },
        "id": "08fhIQw1mPbi",
        "outputId": "7afa6cc2-2e98-44c7-f5b3-843d5d027e9b"
      },
      "execution_count": 106,
      "outputs": [
        {
          "output_type": "execute_result",
          "data": {
            "text/plain": [
              "array([[ 1.25517927,  0.79078716, -0.52619514, -0.00345116],\n",
              "       [ 0.51301858,  1.11805959, -1.22406668,  2.50942392],\n",
              "       [ 0.07236067,  1.49381682,  1.00912225,  1.05346626],\n",
              "       [ 0.23470832,  0.23321191, -1.08449238, -0.18679398],\n",
              "       [ 0.28109336,  1.2756352 ,  1.77678094,  2.08881393],\n",
              "       [ 0.02597562,  0.40290872,  0.86954794,  1.88390137],\n",
              "       [-1.04088037, -0.73648418,  0.79976079, -1.09272319],\n",
              "       [-0.43787481,  0.81502956,  0.45082502, -0.58583422],\n",
              "       [ 1.76541475,  1.99078607,  1.00912225,  1.1505301 ],\n",
              "       [ 2.22926518,  0.48775713, -0.38662083,  0.49265293],\n",
              "       [-0.57702994, -1.51224105,  1.21848371, -0.11129987],\n",
              "       [-1.20322802, -0.61527217, -0.80534376, -0.75839217],\n",
              "       [ 0.60578867,  0.94836277,  1.21848371,  0.29852525],\n",
              "       [-0.13637203, -0.70012057, -0.03768506, -0.0250209 ],\n",
              "       [-1.29599811, -1.39102904, -0.5959823 , -1.07115345],\n",
              "       [-0.41468229, -0.67587817,  0.03210209, -0.34856705],\n",
              "       [ 0.44344101, -0.74860538, -0.94491807, -0.53190987],\n",
              "       [ 1.76541475,  0.94836277,  0.03210209,  0.10439756],\n",
              "       [-1.31919063, -1.06375661, -1.01470522, -1.44862395],\n",
              "       [ 0.81452136,  1.56654403,  0.10188925,  0.70835037],\n",
              "       [-0.78576263, -0.26375734,  1.35805802, -0.53190987],\n",
              "       [ 1.00006153,  1.02108998,  0.59039932,  1.49564599],\n",
              "       [-1.1800355 , -1.19708982,  0.03210209, -0.68289807],\n",
              "       [ 1.9277624 ,  1.06957478, -1.5032153 , -0.44563089],\n",
              "       [ 0.28109336,  0.0877575 ,  0.31125071,  0.75148985],\n",
              "       [-0.41468229, -0.74860538, -0.87513091, -0.521125  ],\n",
              "       [-0.80895515, -0.83345379, -0.24704653, -0.51034012],\n",
              "       [ 1.02325405,  0.98472638,  1.0789094 ,  2.671197  ],\n",
              "       [-1.31919063, -1.37890783, -0.66576945, -1.26528114],\n",
              "       [-0.08998698, -0.14254532,  1.63720664, -0.26228808],\n",
              "       [ 0.83771388,  1.38472601,  0.31125071,  1.17209984],\n",
              "       [ 0.76813632,  1.00896878,  1.42784517,  0.52500755],\n",
              "       [ 1.20879423,  2.01502847, -1.43342815, -0.55347961],\n",
              "       [-1.62069341, -1.52436225, -1.5032153 , -1.50254831],\n",
              "       [-0.11317951, -0.61527217,  0.66018648,  0.01811858],\n",
              "       [-0.27552716, -0.23951493,  0.1716764 , -0.13286962],\n",
              "       [-0.66980002, -0.14254532,  0.10188925,  0.87012344],\n",
              "       [-0.34510472, -0.78496898,  0.45082502, -0.68289807],\n",
              "       [-1.01768785,  0.03927269,  1.49763233, -1.39469959],\n",
              "       [ 1.53348953,  1.3119988 , -1.22406668,  0.13675217],\n",
              "       [-0.92491776, -1.027393  , -1.43342815, -0.90938037],\n",
              "       [ 1.25517927,  0.20896951, -0.45640799,  0.61128652],\n",
              "       [ 1.13921666,  0.36654512,  1.00912225,  0.46029832],\n",
              "       [-1.06407289, -0.61527217,  1.00912225,  0.17989166],\n",
              "       [-1.29599811, -1.48799864, -2.34066115, -1.08193832],\n",
              "       [ 0.16513075, -0.17890893, -0.17725937, -0.05737552],\n",
              "       [-0.87853272, -0.31224214,  0.52061217,  0.53579242],\n",
              "       [-0.48425985, -1.08799901, -1.85215107, -1.28685088],\n",
              "       [-1.20322802, -1.42739264,  0.03210209, -1.1250778 ],\n",
              "       [-0.22914211, -0.11830292, -0.38662083, -0.60740397]])"
            ]
          },
          "metadata": {},
          "execution_count": 106
        }
      ]
    },
    {
      "cell_type": "code",
      "source": [
        "pcaUS.explained_variance_"
      ],
      "metadata": {
        "colab": {
          "base_uri": "https://localhost:8080/"
        },
        "id": "7rNyzqA8oHmX",
        "outputId": "bc7c1b78-9a9e-4686-c5bd-6070df7eea31"
      },
      "execution_count": 116,
      "outputs": [
        {
          "output_type": "execute_result",
          "data": {
            "text/plain": [
              "array([2.53085875, 1.00996444, 0.36383998, 0.17696948])"
            ]
          },
          "metadata": {},
          "execution_count": 116
        }
      ]
    },
    {
      "cell_type": "code",
      "source": [
        "pcaUS.explained_variance_ratio_"
      ],
      "metadata": {
        "colab": {
          "base_uri": "https://localhost:8080/"
        },
        "id": "8qc2r0iMoAaV",
        "outputId": "d995e6af-4ef4-49a9-a574-660cd467abe9"
      },
      "execution_count": 115,
      "outputs": [
        {
          "output_type": "execute_result",
          "data": {
            "text/plain": [
              "array([0.62006039, 0.24744129, 0.0891408 , 0.04335752])"
            ]
          },
          "metadata": {},
          "execution_count": 115
        }
      ]
    },
    {
      "cell_type": "code",
      "source": [
        "pc = []\n",
        "for p in range(4):\n",
        "  num = 0\n",
        "  din = 0\n",
        "  for i in range(n):\n",
        "    temp = 0\n",
        "    for j in range(4):\n",
        "      temp += phi[p][j]*USArrests_scaled[i][j]\n",
        "      din += USArrests_scaled[i][j]**2\n",
        "    num += temp**2\n",
        "  pc.append(num/din)\n",
        "pc"
      ],
      "metadata": {
        "colab": {
          "base_uri": "https://localhost:8080/"
        },
        "id": "QtRY7Luqky9q",
        "outputId": "47f62efd-6ac0-49a4-cdee-220a7ad6135a"
      },
      "execution_count": 122,
      "outputs": [
        {
          "output_type": "execute_result",
          "data": {
            "text/plain": [
              "[0.6200603947873733,\n",
              " 0.24744128813496027,\n",
              " 0.08914079514520752,\n",
              " 0.043357521932458835]"
            ]
          },
          "metadata": {},
          "execution_count": 122
        }
      ]
    },
    {
      "cell_type": "code",
      "source": [
        "np.sum(pc)"
      ],
      "metadata": {
        "colab": {
          "base_uri": "https://localhost:8080/"
        },
        "id": "RZk4WsngmFB7",
        "outputId": "aac41db1-d82a-432f-80da-84af0a82e4b2"
      },
      "execution_count": 123,
      "outputs": [
        {
          "output_type": "execute_result",
          "data": {
            "text/plain": [
              "0.9999999999999999"
            ]
          },
          "metadata": {},
          "execution_count": 123
        }
      ]
    },
    {
      "cell_type": "markdown",
      "source": [
        "# **Q 12.9**"
      ],
      "metadata": {
        "id": "lwYsLyygqAnK"
      }
    },
    {
      "cell_type": "markdown",
      "source": [
        "### **(a)**"
      ],
      "metadata": {
        "id": "Hr2wFyLcqD61"
      }
    },
    {
      "cell_type": "code",
      "source": [
        "HClust =  AgglomerativeClustering\n",
        "hc_comp = HClust(linkage='complete', distance_threshold=0, n_clusters=None, metric='euclidean')\n",
        "hc_comp.fit(USArrests)\n",
        "linkage_comp = compute_linkage(hc_comp)\n",
        "fig, ax = plt.subplots(1, 1, figsize=(8,8))\n",
        "cargs = {'color_threshold':-np.inf, 'above_threshold_color':'black'}\n",
        "dendrogram(linkage_comp, ax=ax, **cargs)\n",
        "ax.set_title(\"Complete Linkage of USArrests\")"
      ],
      "metadata": {
        "colab": {
          "base_uri": "https://localhost:8080/",
          "height": 717
        },
        "id": "2XyOQNyUpDhf",
        "outputId": "a1b9992f-7d54-45b0-8887-6cf695e8f359"
      },
      "execution_count": 125,
      "outputs": [
        {
          "output_type": "execute_result",
          "data": {
            "text/plain": [
              "Text(0.5, 1.0, 'Complete Linkage of USArrests')"
            ]
          },
          "metadata": {},
          "execution_count": 125
        },
        {
          "output_type": "display_data",
          "data": {
            "text/plain": [
              "<Figure size 800x800 with 1 Axes>"
            ],
            "image/png": "[encoded data removed]"
          },
          "metadata": {}
        }
      ]
    },
    {
      "cell_type": "markdown",
      "source": [
        "### **(b)**"
      ],
      "metadata": {
        "id": "3at0cIgtqI8L"
      }
    },
    {
      "cell_type": "code",
      "source": [
        "print(cut_tree(linkage_comp, n_clusters=3).T[0][:10])\n",
        "print(cut_tree(linkage_comp, n_clusters=3).T[0][10:20])\n",
        "print(cut_tree(linkage_comp, n_clusters=3).T[0][20:30])\n",
        "print(cut_tree(linkage_comp, n_clusters=3).T[0][30:40])\n",
        "print(cut_tree(linkage_comp, n_clusters=3).T[0][40:50])"
      ],
      "metadata": {
        "colab": {
          "base_uri": "https://localhost:8080/"
        },
        "id": "2WEM85IOqJg-",
        "outputId": "43fb0eed-82c3-4ce4-f73a-9c4d764c6f7e"
      },
      "execution_count": 128,
      "outputs": [
        {
          "output_type": "stream",
          "name": "stdout",
          "text": [
            "[0 0 0 1 0 1 2 0 0 1]\n",
            "[2 2 0 2 2 2 2 0 2 0]\n",
            "[1 0 2 0 1 2 2 0 2 1]\n",
            "[0 0 0 2 2 1 1 2 1 0]\n",
            "[2 1 1 2 2 1 1 2 2 1]\n"
          ]
        }
      ]
    },
    {
      "cell_type": "markdown",
      "source": [
        "### **(c)**"
      ],
      "metadata": {
        "id": "VOHKIDk4qKIx"
      }
    },
    {
      "cell_type": "code",
      "source": [
        "np.std(USArrests_scaled)"
      ],
      "metadata": {
        "colab": {
          "base_uri": "https://localhost:8080/"
        },
        "id": "7SiDIIN6qLl7",
        "outputId": "0116fc1c-6827-4fec-9bab-4eadffaf198d"
      },
      "execution_count": 130,
      "outputs": [
        {
          "output_type": "execute_result",
          "data": {
            "text/plain": [
              "1.0"
            ]
          },
          "metadata": {},
          "execution_count": 130
        }
      ]
    },
    {
      "cell_type": "code",
      "source": [
        "HClust =  AgglomerativeClustering\n",
        "hc_comp = HClust(linkage='complete', distance_threshold=0, n_clusters=None, metric='euclidean')\n",
        "hc_comp.fit(USArrests_scaled)\n",
        "linkage_comp = compute_linkage(hc_comp)\n",
        "fig, ax = plt.subplots(1, 1, figsize=(8,8))\n",
        "cargs = {'color_threshold':-np.inf, 'above_threshold_color':'black'}\n",
        "dendrogram(linkage_comp, ax=ax, **cargs)\n",
        "ax.set_title(\"Complete Linkage of USArrests\")"
      ],
      "metadata": {
        "colab": {
          "base_uri": "https://localhost:8080/",
          "height": 717
        },
        "id": "JjdTl-uRsWjF",
        "outputId": "948e3aa2-2c1e-4f9d-8e69-0ad60c1bf83e"
      },
      "execution_count": 131,
      "outputs": [
        {
          "output_type": "execute_result",
          "data": {
            "text/plain": [
              "Text(0.5, 1.0, 'Complete Linkage of USArrests')"
            ]
          },
          "metadata": {},
          "execution_count": 131
        },
        {
          "output_type": "display_data",
          "data": {
            "text/plain": [
              "<Figure size 800x800 with 1 Axes>"
            ],
            "image/png": "[encoded data removed]"
          },
          "metadata": {}
        }
      ]
    },
    {
      "cell_type": "code",
      "source": [
        "print(cut_tree(linkage_comp, n_clusters=3).T[0][:10])\n",
        "print(cut_tree(linkage_comp, n_clusters=3).T[0][10:20])\n",
        "print(cut_tree(linkage_comp, n_clusters=3).T[0][20:30])\n",
        "print(cut_tree(linkage_comp, n_clusters=3).T[0][30:40])\n",
        "print(cut_tree(linkage_comp, n_clusters=3).T[0][40:50])"
      ],
      "metadata": {
        "colab": {
          "base_uri": "https://localhost:8080/"
        },
        "id": "s5aZ5OcJshDN",
        "outputId": "4ce2a4f3-8612-4ce0-e3e1-8e66ccd7eec7"
      },
      "execution_count": 132,
      "outputs": [
        {
          "output_type": "stream",
          "name": "stdout",
          "text": [
            "[0 0 1 2 1 1 2 2 1 0]\n",
            "[2 2 1 2 2 2 2 0 2 1]\n",
            "[2 1 2 0 2 2 2 1 2 2]\n",
            "[1 1 0 2 2 2 2 2 2 0]\n",
            "[2 0 1 2 2 2 2 2 2 2]\n"
          ]
        }
      ]
    },
    {
      "cell_type": "markdown",
      "source": [
        "# **Q 12.13**"
      ],
      "metadata": {
        "id": "t2MMsoC63S-G"
      }
    },
    {
      "cell_type": "markdown",
      "source": [
        "### **(a)**"
      ],
      "metadata": {
        "id": "doCG8WUB3WJj"
      }
    },
    {
      "cell_type": "code",
      "source": [
        "Genes = pd.read_csv(\"/content/Ch12Ex13.csv\",header=None)\n",
        "Genes.head()"
      ],
      "metadata": {
        "colab": {
          "base_uri": "https://localhost:8080/",
          "height": 255
        },
        "id": "RXZONV8iqNDz",
        "outputId": "448254fd-380a-4263-81b7-cc0b088bc6e0"
      },
      "execution_count": 133,
      "outputs": [
        {
          "output_type": "execute_result",
          "data": {
            "text/plain": [
              "         0         1         2         3         4         5         6   \\\n",
              "0 -0.961933  0.441803 -0.975005  1.417504  0.818815  0.316294 -0.024967   \n",
              "1 -0.292526 -1.139267  0.195837 -1.281121 -0.251439  2.511997 -0.922206   \n",
              "2  0.258788 -0.972845  0.588486 -0.800258 -1.820398 -2.058924 -0.064764   \n",
              "3 -1.152132 -2.213168 -0.861525  0.630925  0.951772 -1.165724 -0.391559   \n",
              "4  0.195783  0.593306  0.282992  0.247147  1.978668 -0.871018 -0.989715   \n",
              "\n",
              "         7         8         9   ...        30        31        32        33  \\\n",
              "0 -0.063966  0.031497 -0.350311  ... -0.509591 -0.216725 -0.055506 -0.484449   \n",
              "1  0.059543 -1.409645 -0.656712  ...  1.700708  0.007290  0.099062  0.563853   \n",
              "2  1.592124 -0.173117 -0.121087  ... -0.615472  0.009999  0.945810 -0.318521   \n",
              "3  1.063619 -0.350009 -1.489058  ... -0.284277  0.198946 -0.091833  0.349628   \n",
              "4 -1.032253 -1.109654 -0.385142  ... -0.692998 -0.845707 -0.177497 -0.166491   \n",
              "\n",
              "         34        35        36        37        38        39  \n",
              "0 -0.521581  1.949135  1.324335  0.468147  1.061100  1.655970  \n",
              "1 -0.257275 -0.581781 -0.169887 -0.542304  0.312939 -1.284377  \n",
              "2 -0.117889  0.621366 -0.070764  0.401682 -0.016227 -0.526553  \n",
              "3 -0.298910  1.513696  0.671185  0.010855 -1.043689  1.625275  \n",
              "4  1.483155 -1.687946 -0.141430  0.200778 -0.675942  2.220611  \n",
              "\n",
              "[5 rows x 40 columns]"
            ],
            "text/html": [
              "\n",
              "  <div id=\"df-19dbd5d4-4c63-4dea-9220-9d11393a2649\" class=\"colab-df-container\">\n",
              "    <div>\n",
              "<style scoped>\n",
              "    .dataframe tbody tr th:only-of-type {\n",
              "        vertical-align: middle;\n",
              "    }\n",
              "\n",
              "    .dataframe tbody tr th {\n",
              "        vertical-align: top;\n",
              "    }\n",
              "\n",
              "    .dataframe thead th {\n",
              "        text-align: right;\n",
              "    }\n",
              "</style>\n",
              "<table border=\"1\" class=\"dataframe\">\n",
              "  <thead>\n",
              "    <tr style=\"text-align: right;\">\n",
              "      <th></th>\n",
              "      <th>0</th>\n",
              "      <th>1</th>\n",
              "      <th>2</th>\n",
              "      <th>3</th>\n",
              "      <th>4</th>\n",
              "      <th>5</th>\n",
              "      <th>6</th>\n",
              "      <th>7</th>\n",
              "      <th>8</th>\n",
              "      <th>9</th>\n",
              "      <th>...</th>\n",
              "      <th>30</th>\n",
              "      <th>31</th>\n",
              "      <th>32</th>\n",
              "      <th>33</th>\n",
              "      <th>34</th>\n",
              "      <th>35</th>\n",
              "      <th>36</th>\n",
              "      <th>37</th>\n",
              "      <th>38</th>\n",
              "      <th>39</th>\n",
              "    </tr>\n",
              "  </thead>\n",
              "  <tbody>\n",
              "    <tr>\n",
              "      <th>0</th>\n",
              "      <td>-0.961933</td>\n",
              "      <td>0.441803</td>\n",
              "      <td>-0.975005</td>\n",
              "      <td>1.417504</td>\n",
              "      <td>0.818815</td>\n",
              "      <td>0.316294</td>\n",
              "      <td>-0.024967</td>\n",
              "      <td>-0.063966</td>\n",
              "      <td>0.031497</td>\n",
              "      <td>-0.350311</td>\n",
              "      <td>...</td>\n",
              "      <td>-0.509591</td>\n",
              "      <td>-0.216725</td>\n",
              "      <td>-0.055506</td>\n",
              "      <td>-0.484449</td>\n",
              "      <td>-0.521581</td>\n",
              "      <td>1.949135</td>\n",
              "      <td>1.324335</td>\n",
              "      <td>0.468147</td>\n",
              "      <td>1.061100</td>\n",
              "      <td>1.655970</td>\n",
              "    </tr>\n",
              "    <tr>\n",
              "      <th>1</th>\n",
              "      <td>-0.292526</td>\n",
              "      <td>-1.139267</td>\n",
              "      <td>0.195837</td>\n",
              "      <td>-1.281121</td>\n",
              "      <td>-0.251439</td>\n",
              "      <td>2.511997</td>\n",
              "      <td>-0.922206</td>\n",
              "      <td>0.059543</td>\n",
              "      <td>-1.409645</td>\n",
              "      <td>-0.656712</td>\n",
              "      <td>...</td>\n",
              "      <td>1.700708</td>\n",
              "      <td>0.007290</td>\n",
              "      <td>0.099062</td>\n",
              "      <td>0.563853</td>\n",
              "      <td>-0.257275</td>\n",
              "      <td>-0.581781</td>\n",
              "      <td>-0.169887</td>\n",
              "      <td>-0.542304</td>\n",
              "      <td>0.312939</td>\n",
              "      <td>-1.284377</td>\n",
              "    </tr>\n",
              "    <tr>\n",
              "      <th>2</th>\n",
              "      <td>0.258788</td>\n",
              "      <td>-0.972845</td>\n",
              "      <td>0.588486</td>\n",
              "      <td>-0.800258</td>\n",
              "      <td>-1.820398</td>\n",
              "      <td>-2.058924</td>\n",
              "      <td>-0.064764</td>\n",
              "      <td>1.592124</td>\n",
              "      <td>-0.173117</td>\n",
              "      <td>-0.121087</td>\n",
              "      <td>...</td>\n",
              "      <td>-0.615472</td>\n",
              "      <td>0.009999</td>\n",
              "      <td>0.945810</td>\n",
              "      <td>-0.318521</td>\n",
              "      <td>-0.117889</td>\n",
              "      <td>0.621366</td>\n",
              "      <td>-0.070764</td>\n",
              "      <td>0.401682</td>\n",
              "      <td>-0.016227</td>\n",
              "      <td>-0.526553</td>\n",
              "    </tr>\n",
              "    <tr>\n",
              "      <th>3</th>\n",
              "      <td>-1.152132</td>\n",
              "      <td>-2.213168</td>\n",
              "      <td>-0.861525</td>\n",
              "      <td>0.630925</td>\n",
              "      <td>0.951772</td>\n",
              "      <td>-1.165724</td>\n",
              "      <td>-0.391559</td>\n",
              "      <td>1.063619</td>\n",
              "      <td>-0.350009</td>\n",
              "      <td>-1.489058</td>\n",
              "      <td>...</td>\n",
              "      <td>-0.284277</td>\n",
              "      <td>0.198946</td>\n",
              "      <td>-0.091833</td>\n",
              "      <td>0.349628</td>\n",
              "      <td>-0.298910</td>\n",
              "      <td>1.513696</td>\n",
              "      <td>0.671185</td>\n",
              "      <td>0.010855</td>\n",
              "      <td>-1.043689</td>\n",
              "      <td>1.625275</td>\n",
              "    </tr>\n",
              "    <tr>\n",
              "      <th>4</th>\n",
              "      <td>0.195783</td>\n",
              "      <td>0.593306</td>\n",
              "      <td>0.282992</td>\n",
              "      <td>0.247147</td>\n",
              "      <td>1.978668</td>\n",
              "      <td>-0.871018</td>\n",
              "      <td>-0.989715</td>\n",
              "      <td>-1.032253</td>\n",
              "      <td>-1.109654</td>\n",
              "      <td>-0.385142</td>\n",
              "      <td>...</td>\n",
              "      <td>-0.692998</td>\n",
              "      <td>-0.845707</td>\n",
              "      <td>-0.177497</td>\n",
              "      <td>-0.166491</td>\n",
              "      <td>1.483155</td>\n",
              "      <td>-1.687946</td>\n",
              "      <td>-0.141430</td>\n",
              "      <td>0.200778</td>\n",
              "      <td>-0.675942</td>\n",
              "      <td>2.220611</td>\n",
              "    </tr>\n",
              "  </tbody>\n",
              "</table>\n",
              "<p>5 rows × 40 columns</p>\n",
              "</div>\n",
              "    <div class=\"colab-df-buttons\">\n",
              "\n",
              "  <div class=\"colab-df-container\">\n",
              "    <button class=\"colab-df-convert\" onclick=\"convertToInteractive('df-19dbd5d4-4c63-4dea-9220-9d11393a2649')\"\n",
              "            title=\"Convert this dataframe to an interactive table.\"\n",
              "            style=\"display:none;\">\n",
              "\n",
              "  <svg xmlns=\"http://www.w3.org/2000/svg\" height=\"24px\" viewBox=\"0 -960 960 960\">\n",
              "    <path d=\"M120-120v-720h720v720H120Zm60-500h600v-160H180v160Zm220 220h160v-160H400v160Zm0 220h160v-160H400v160ZM180-400h160v-160H180v160Zm440 0h160v-160H620v160ZM180-180h160v-160H180v160Zm440 0h160v-160H620v160Z\"/>\n",
              "  </svg>\n",
              "    </button>\n",
              "\n",
              "  <style>\n",
              "    .colab-df-container {\n",
              "      display:flex;\n",
              "      gap: 12px;\n",
              "    }\n",
              "\n",
              "    .colab-df-convert {\n",
              "      background-color: #E8F0FE;\n",
              "      border: none;\n",
              "      border-radius: 50%;\n",
              "      cursor: pointer;\n",
              "      display: none;\n",
              "      fill: #1967D2;\n",
              "      height: 32px;\n",
              "      padding: 0 0 0 0;\n",
              "      width: 32px;\n",
              "    }\n",
              "\n",
              "    .colab-df-convert:hover {\n",
              "      background-color: #E2EBFA;\n",
              "      box-shadow: 0px 1px 2px rgba(60, 64, 67, 0.3), 0px 1px 3px 1px rgba(60, 64, 67, 0.15);\n",
              "      fill: #174EA6;\n",
              "    }\n",
              "\n",
              "    .colab-df-buttons div {\n",
              "      margin-bottom: 4px;\n",
              "    }\n",
              "\n",
              "    [theme=dark] .colab-df-convert {\n",
              "      background-color: #3B4455;\n",
              "      fill: #D2E3FC;\n",
              "    }\n",
              "\n",
              "    [theme=dark] .colab-df-convert:hover {\n",
              "      background-color: #434B5C;\n",
              "      box-shadow: 0px 1px 3px 1px rgba(0, 0, 0, 0.15);\n",
              "      filter: drop-shadow(0px 1px 2px rgba(0, 0, 0, 0.3));\n",
              "      fill: #FFFFFF;\n",
              "    }\n",
              "  </style>\n",
              "\n",
              "    <script>\n",
              "      const buttonEl =\n",
              "        document.querySelector('#df-19dbd5d4-4c63-4dea-9220-9d11393a2649 button.colab-df-convert');\n",
              "      buttonEl.style.display =\n",
              "        google.colab.kernel.accessAllowed ? 'block' : 'none';\n",
              "\n",
              "      async function convertToInteractive(key) {\n",
              "        const element = document.querySelector('#df-19dbd5d4-4c63-4dea-9220-9d11393a2649');\n",
              "        const dataTable =\n",
              "          await google.colab.kernel.invokeFunction('convertToInteractive',\n",
              "                                                    [key], {});\n",
              "        if (!dataTable) return;\n",
              "\n",
              "        const docLinkHtml = 'Like what you see? Visit the ' +\n",
              "          '<a target=\"_blank\" href=https://colab.research.google.com/notebooks/data_table.ipynb>data table notebook</a>'\n",
              "          + ' to learn more about interactive tables.';\n",
              "        element.innerHTML = '';\n",
              "        dataTable['output_type'] = 'display_data';\n",
              "        await google.colab.output.renderOutput(dataTable, element);\n",
              "        const docLink = document.createElement('div');\n",
              "        docLink.innerHTML = docLinkHtml;\n",
              "        element.appendChild(docLink);\n",
              "      }\n",
              "    </script>\n",
              "  </div>\n",
              "\n",
              "\n",
              "<div id=\"df-99045560-8d3b-4eb3-94a9-6da600453ce5\">\n",
              "  <button class=\"colab-df-quickchart\" onclick=\"quickchart('df-99045560-8d3b-4eb3-94a9-6da600453ce5')\"\n",
              "            title=\"Suggest charts\"\n",
              "            style=\"display:none;\">\n",
              "\n",
              "<svg xmlns=\"http://www.w3.org/2000/svg\" height=\"24px\"viewBox=\"0 0 24 24\"\n",
              "     width=\"24px\">\n",
              "    <g>\n",
              "        <path d=\"M19 3H5c-1.1 0-2 .9-2 2v14c0 1.1.9 2 2 2h14c1.1 0 2-.9 2-2V5c0-1.1-.9-2-2-2zM9 17H7v-7h2v7zm4 0h-2V7h2v10zm4 0h-2v-4h2v4z\"/>\n",
              "    </g>\n",
              "</svg>\n",
              "  </button>\n",
              "\n",
              "<style>\n",
              "  .colab-df-quickchart {\n",
              "      --bg-color: #E8F0FE;\n",
              "      --fill-color: #1967D2;\n",
              "      --hover-bg-color: #E2EBFA;\n",
              "      --hover-fill-color: #174EA6;\n",
              "      --disabled-fill-color: #AAA;\n",
              "      --disabled-bg-color: #DDD;\n",
              "  }\n",
              "\n",
              "  [theme=dark] .colab-df-quickchart {\n",
              "      --bg-color: #3B4455;\n",
              "      --fill-color: #D2E3FC;\n",
              "      --hover-bg-color: #434B5C;\n",
              "      --hover-fill-color: #FFFFFF;\n",
              "      --disabled-bg-color: #3B4455;\n",
              "      --disabled-fill-color: #666;\n",
              "  }\n",
              "\n",
              "  .colab-df-quickchart {\n",
              "    background-color: var(--bg-color);\n",
              "    border: none;\n",
              "    border-radius: 50%;\n",
              "    cursor: pointer;\n",
              "    display: none;\n",
              "    fill: var(--fill-color);\n",
              "    height: 32px;\n",
              "    padding: 0;\n",
              "    width: 32px;\n",
              "  }\n",
              "\n",
              "  .colab-df-quickchart:hover {\n",
              "    background-color: var(--hover-bg-color);\n",
              "    box-shadow: 0 1px 2px rgba(60, 64, 67, 0.3), 0 1px 3px 1px rgba(60, 64, 67, 0.15);\n",
              "    fill: var(--button-hover-fill-color);\n",
              "  }\n",
              "\n",
              "  .colab-df-quickchart-complete:disabled,\n",
              "  .colab-df-quickchart-complete:disabled:hover {\n",
              "    background-color: var(--disabled-bg-color);\n",
              "    fill: var(--disabled-fill-color);\n",
              "    box-shadow: none;\n",
              "  }\n",
              "\n",
              "  .colab-df-spinner {\n",
              "    border: 2px solid var(--fill-color);\n",
              "    border-color: transparent;\n",
              "    border-bottom-color: var(--fill-color);\n",
              "    animation:\n",
              "      spin 1s steps(1) infinite;\n",
              "  }\n",
              "\n",
              "  @keyframes spin {\n",
              "    0% {\n",
              "      border-color: transparent;\n",
              "      border-bottom-color: var(--fill-color);\n",
              "      border-left-color: var(--fill-color);\n",
              "    }\n",
              "    20% {\n",
              "      border-color: transparent;\n",
              "      border-left-color: var(--fill-color);\n",
              "      border-top-color: var(--fill-color);\n",
              "    }\n",
              "    30% {\n",
              "      border-color: transparent;\n",
              "      border-left-color: var(--fill-color);\n",
              "      border-top-color: var(--fill-color);\n",
              "      border-right-color: var(--fill-color);\n",
              "    }\n",
              "    40% {\n",
              "      border-color: transparent;\n",
              "      border-right-color: var(--fill-color);\n",
              "      border-top-color: var(--fill-color);\n",
              "    }\n",
              "    60% {\n",
              "      border-color: transparent;\n",
              "      border-right-color: var(--fill-color);\n",
              "    }\n",
              "    80% {\n",
              "      border-color: transparent;\n",
              "      border-right-color: var(--fill-color);\n",
              "      border-bottom-color: var(--fill-color);\n",
              "    }\n",
              "    90% {\n",
              "      border-color: transparent;\n",
              "      border-bottom-color: var(--fill-color);\n",
              "    }\n",
              "  }\n",
              "</style>\n",
              "\n",
              "  <script>\n",
              "    async function quickchart(key) {\n",
              "      const quickchartButtonEl =\n",
              "        document.querySelector('#' + key + ' button');\n",
              "      quickchartButtonEl.disabled = true;  // To prevent multiple clicks.\n",
              "      quickchartButtonEl.classList.add('colab-df-spinner');\n",
              "      try {\n",
              "        const charts = await google.colab.kernel.invokeFunction(\n",
              "            'suggestCharts', [key], {});\n",
              "      } catch (error) {\n",
              "        console.error('Error during call to suggestCharts:', error);\n",
              "      }\n",
              "      quickchartButtonEl.classList.remove('colab-df-spinner');\n",
              "      quickchartButtonEl.classList.add('colab-df-quickchart-complete');\n",
              "    }\n",
              "    (() => {\n",
              "      let quickchartButtonEl =\n",
              "        document.querySelector('#df-99045560-8d3b-4eb3-94a9-6da600453ce5 button');\n",
              "      quickchartButtonEl.style.display =\n",
              "        google.colab.kernel.accessAllowed ? 'block' : 'none';\n",
              "    })();\n",
              "  </script>\n",
              "</div>\n",
              "    </div>\n",
              "  </div>\n"
            ]
          },
          "metadata": {},
          "execution_count": 133
        }
      ]
    },
    {
      "cell_type": "code",
      "source": [
        "Genes.shape"
      ],
      "metadata": {
        "colab": {
          "base_uri": "https://localhost:8080/"
        },
        "id": "dt1OW7l-4Kyc",
        "outputId": "37c3f87e-5411-4c64-d5e1-7dad9db4c405"
      },
      "execution_count": 134,
      "outputs": [
        {
          "output_type": "execute_result",
          "data": {
            "text/plain": [
              "(1000, 40)"
            ]
          },
          "metadata": {},
          "execution_count": 134
        }
      ]
    },
    {
      "cell_type": "markdown",
      "source": [
        "### **(b)**"
      ],
      "metadata": {
        "id": "SxOVF88L3bC4"
      }
    },
    {
      "cell_type": "code",
      "source": [
        "corr_matrix = (Genes.transpose()).corr()\n",
        "print(corr_matrix)"
      ],
      "metadata": {
        "colab": {
          "base_uri": "https://localhost:8080/"
        },
        "id": "gS2SvTCk3b0i",
        "outputId": "b0fd0945-e8e1-4dda-e8f6-0d1cc55fe2b2"
      },
      "execution_count": 137,
      "outputs": [
        {
          "output_type": "stream",
          "name": "stdout",
          "text": [
            "          0         1         2         3         4         5         6    \\\n",
            "0    1.000000 -0.232669 -0.080650  0.241167  0.113527 -0.213879  0.151273   \n",
            "1   -0.232669  1.000000 -0.355712  0.120525 -0.374779  0.298627 -0.015189   \n",
            "2   -0.080650 -0.355712  1.000000 -0.144035 -0.184695 -0.231885  0.058840   \n",
            "3    0.241167  0.120525 -0.144035  1.000000  0.151851 -0.118362 -0.107088   \n",
            "4    0.113527 -0.374779 -0.184695  0.151851  1.000000 -0.097715  0.040587   \n",
            "..        ...       ...       ...       ...       ...       ...       ...   \n",
            "995 -0.041858  0.089107  0.181904  0.017418 -0.158308 -0.064343 -0.223018   \n",
            "996  0.007666 -0.273232  0.229767 -0.022768  0.096145  0.040062  0.103200   \n",
            "997 -0.186221  0.060401 -0.042442  0.036338 -0.001575 -0.041796 -0.331822   \n",
            "998 -0.126661 -0.069104  0.219789 -0.063557 -0.182823 -0.121470  0.068331   \n",
            "999  0.180729 -0.113426 -0.027445  0.037852 -0.096418 -0.285549 -0.057606   \n",
            "\n",
            "          7         8         9    ...       990       991       992  \\\n",
            "0   -0.032803 -0.114383 -0.023098  ... -0.113958 -0.081826 -0.034052   \n",
            "1   -0.023418  0.032397 -0.012036  ...  0.213711  0.036695 -0.127391   \n",
            "2    0.341249  0.139537 -0.161749  ...  0.126791 -0.085841  0.064385   \n",
            "3   -0.388322  0.101264  0.134230  ... -0.250065 -0.308789  0.035239   \n",
            "4   -0.354890 -0.216590  0.016368  ... -0.341933 -0.087498 -0.073843   \n",
            "..        ...       ...       ...  ...       ...       ...       ...   \n",
            "995  0.160195 -0.022936  0.005640  ...  0.202912 -0.147918  0.008553   \n",
            "996 -0.249607  0.400212 -0.163257  ... -0.217579  0.201014 -0.089831   \n",
            "997 -0.180705  0.361405 -0.071157  ... -0.260542  0.144476  0.266855   \n",
            "998  0.122606 -0.132148 -0.030069  ...  0.179514 -0.194944  0.345337   \n",
            "999  0.183572 -0.289288  0.109731  ...  0.255274  0.035052  0.237170   \n",
            "\n",
            "          993       994       995       996       997       998       999  \n",
            "0    0.060364  0.271900 -0.041858  0.007666 -0.186221 -0.126661  0.180729  \n",
            "1    0.095488 -0.300223  0.089107 -0.273232  0.060401 -0.069104 -0.113426  \n",
            "2   -0.029761  0.039550  0.181904  0.229767 -0.042442  0.219789 -0.027445  \n",
            "3   -0.128026  0.111962  0.017418 -0.022768  0.036338 -0.063557  0.037852  \n",
            "4   -0.076164  0.222282 -0.158308  0.096145 -0.001575 -0.182823 -0.096418  \n",
            "..        ...       ...       ...       ...       ...       ...       ...  \n",
            "995  0.053372 -0.203279  1.000000 -0.164277 -0.028225  0.266981  0.117946  \n",
            "996  0.137340  0.207013 -0.164277  1.000000 -0.081840 -0.178102 -0.251932  \n",
            "997  0.077059  0.116639 -0.028225 -0.081840  1.000000 -0.056227  0.003861  \n",
            "998  0.020983 -0.040761  0.266981 -0.178102 -0.056227  1.000000  0.246251  \n",
            "999  0.053488  0.138976  0.117946 -0.251932  0.003861  0.246251  1.000000  \n",
            "\n",
            "[1000 rows x 1000 columns]\n"
          ]
        }
      ]
    },
    {
      "cell_type": "code",
      "source": [
        "corD = 1 - np.corrcoef(Genes.transpose())\n",
        "corD.shape"
      ],
      "metadata": {
        "colab": {
          "base_uri": "https://localhost:8080/"
        },
        "id": "Qdv2JBnt6DXa",
        "outputId": "70787106-bf4b-4dd7-f8cc-cf5cf8c81d63"
      },
      "execution_count": 145,
      "outputs": [
        {
          "output_type": "execute_result",
          "data": {
            "text/plain": [
              "(40, 40)"
            ]
          },
          "metadata": {},
          "execution_count": 145
        }
      ]
    },
    {
      "cell_type": "code",
      "source": [
        "hc_cor = HClust(linkage='complete', distance_threshold=0, n_clusters=None, metric='precomputed')\n",
        "hc_cor.fit(corD)\n",
        "linkage_cor = compute_linkage(hc_cor)\n",
        "fig , ax = plt.subplots(1, 1, figsize=(8, 8))\n",
        "dendrogram(linkage_cor , ax=ax, **cargs)\n",
        "ax.set_title(\"Complete Linkage with Correlation -Based Dissimilarity\")"
      ],
      "metadata": {
        "colab": {
          "base_uri": "https://localhost:8080/",
          "height": 720
        },
        "id": "T-oHqJDV5bYf",
        "outputId": "8144117e-2fd5-4e70-d607-9cfa65d48194"
      },
      "execution_count": 151,
      "outputs": [
        {
          "output_type": "execute_result",
          "data": {
            "text/plain": [
              "Text(0.5, 1.0, 'Complete Linkage with Correlation -Based Dissimilarity')"
            ]
          },
          "metadata": {},
          "execution_count": 151
        },
        {
          "output_type": "display_data",
          "data": {
            "text/plain": [
              "<Figure size 800x800 with 1 Axes>"
            ],
            "image/png": "[encoded data removed]"
          },
          "metadata": {}
        }
      ]
    },
    {
      "cell_type": "code",
      "source": [
        "print(cut_tree(linkage_cor, n_clusters=3).T[0][:10])\n",
        "print(cut_tree(linkage_cor, n_clusters=3).T[0][10:20])\n",
        "print(cut_tree(linkage_cor, n_clusters=3).T[0][20:30])\n",
        "print(cut_tree(linkage_cor, n_clusters=3).T[0][30:40])"
      ],
      "metadata": {
        "colab": {
          "base_uri": "https://localhost:8080/"
        },
        "id": "igqhSQcnAA61",
        "outputId": "95001eab-63db-45f8-8c5f-5b014dbecbfc"
      },
      "execution_count": 154,
      "outputs": [
        {
          "output_type": "stream",
          "name": "stdout",
          "text": [
            "[0 1 2 2 1 2 1 2 1 1]\n",
            "[0 2 1 2 0 1 1 1 1 2]\n",
            "[1 1 1 1 1 1 1 1 1 1]\n",
            "[1 1 1 1 1 1 1 1 1 1]\n"
          ]
        }
      ]
    },
    {
      "cell_type": "markdown",
      "source": [
        "### **(c)**"
      ],
      "metadata": {
        "id": "wOPYirTKBwrV"
      }
    },
    {
      "cell_type": "code",
      "source": [
        "c1 = [23,29,38,36,37,22,28,27,31,26,35,39,34,20,21,24,25,30,32,33]\n",
        "c2 = [1,18,15,6,8,4,16,12,9,17,0,10,14,2,3,19,7,13,5,11]"
      ],
      "metadata": {
        "id": "6ExtzWdFBHrU"
      },
      "execution_count": 157,
      "outputs": []
    },
    {
      "cell_type": "code",
      "source": [
        "Genes.head()"
      ],
      "metadata": {
        "colab": {
          "base_uri": "https://localhost:8080/",
          "height": 255
        },
        "id": "rZCODQ-fCNxN",
        "outputId": "1345a543-7526-4213-8f12-49500728e6e8"
      },
      "execution_count": 158,
      "outputs": [
        {
          "output_type": "execute_result",
          "data": {
            "text/plain": [
              "         0         1         2         3         4         5         6   \\\n",
              "0 -0.961933  0.441803 -0.975005  1.417504  0.818815  0.316294 -0.024967   \n",
              "1 -0.292526 -1.139267  0.195837 -1.281121 -0.251439  2.511997 -0.922206   \n",
              "2  0.258788 -0.972845  0.588486 -0.800258 -1.820398 -2.058924 -0.064764   \n",
              "3 -1.152132 -2.213168 -0.861525  0.630925  0.951772 -1.165724 -0.391559   \n",
              "4  0.195783  0.593306  0.282992  0.247147  1.978668 -0.871018 -0.989715   \n",
              "\n",
              "         7         8         9   ...        30        31        32        33  \\\n",
              "0 -0.063966  0.031497 -0.350311  ... -0.509591 -0.216725 -0.055506 -0.484449   \n",
              "1  0.059543 -1.409645 -0.656712  ...  1.700708  0.007290  0.099062  0.563853   \n",
              "2  1.592124 -0.173117 -0.121087  ... -0.615472  0.009999  0.945810 -0.318521   \n",
              "3  1.063619 -0.350009 -1.489058  ... -0.284277  0.198946 -0.091833  0.349628   \n",
              "4 -1.032253 -1.109654 -0.385142  ... -0.692998 -0.845707 -0.177497 -0.166491   \n",
              "\n",
              "         34        35        36        37        38        39  \n",
              "0 -0.521581  1.949135  1.324335  0.468147  1.061100  1.655970  \n",
              "1 -0.257275 -0.581781 -0.169887 -0.542304  0.312939 -1.284377  \n",
              "2 -0.117889  0.621366 -0.070764  0.401682 -0.016227 -0.526553  \n",
              "3 -0.298910  1.513696  0.671185  0.010855 -1.043689  1.625275  \n",
              "4  1.483155 -1.687946 -0.141430  0.200778 -0.675942  2.220611  \n",
              "\n",
              "[5 rows x 40 columns]"
            ],
            "text/html": [
              "\n",
              "  <div id=\"df-5da9bd84-5be1-4278-b9e0-9d7b5228701e\" class=\"colab-df-container\">\n",
              "    <div>\n",
              "<style scoped>\n",
              "    .dataframe tbody tr th:only-of-type {\n",
              "        vertical-align: middle;\n",
              "    }\n",
              "\n",
              "    .dataframe tbody tr th {\n",
              "        vertical-align: top;\n",
              "    }\n",
              "\n",
              "    .dataframe thead th {\n",
              "        text-align: right;\n",
              "    }\n",
              "</style>\n",
              "<table border=\"1\" class=\"dataframe\">\n",
              "  <thead>\n",
              "    <tr style=\"text-align: right;\">\n",
              "      <th></th>\n",
              "      <th>0</th>\n",
              "      <th>1</th>\n",
              "      <th>2</th>\n",
              "      <th>3</th>\n",
              "      <th>4</th>\n",
              "      <th>5</th>\n",
              "      <th>6</th>\n",
              "      <th>7</th>\n",
              "      <th>8</th>\n",
              "      <th>9</th>\n",
              "      <th>...</th>\n",
              "      <th>30</th>\n",
              "      <th>31</th>\n",
              "      <th>32</th>\n",
              "      <th>33</th>\n",
              "      <th>34</th>\n",
              "      <th>35</th>\n",
              "      <th>36</th>\n",
              "      <th>37</th>\n",
              "      <th>38</th>\n",
              "      <th>39</th>\n",
              "    </tr>\n",
              "  </thead>\n",
              "  <tbody>\n",
              "    <tr>\n",
              "      <th>0</th>\n",
              "      <td>-0.961933</td>\n",
              "      <td>0.441803</td>\n",
              "      <td>-0.975005</td>\n",
              "      <td>1.417504</td>\n",
              "      <td>0.818815</td>\n",
              "      <td>0.316294</td>\n",
              "      <td>-0.024967</td>\n",
              "      <td>-0.063966</td>\n",
              "      <td>0.031497</td>\n",
              "      <td>-0.350311</td>\n",
              "      <td>...</td>\n",
              "      <td>-0.509591</td>\n",
              "      <td>-0.216725</td>\n",
              "      <td>-0.055506</td>\n",
              "      <td>-0.484449</td>\n",
              "      <td>-0.521581</td>\n",
              "      <td>1.949135</td>\n",
              "      <td>1.324335</td>\n",
              "      <td>0.468147</td>\n",
              "      <td>1.061100</td>\n",
              "      <td>1.655970</td>\n",
              "    </tr>\n",
              "    <tr>\n",
              "      <th>1</th>\n",
              "      <td>-0.292526</td>\n",
              "      <td>-1.139267</td>\n",
              "      <td>0.195837</td>\n",
              "      <td>-1.281121</td>\n",
              "      <td>-0.251439</td>\n",
              "      <td>2.511997</td>\n",
              "      <td>-0.922206</td>\n",
              "      <td>0.059543</td>\n",
              "      <td>-1.409645</td>\n",
              "      <td>-0.656712</td>\n",
              "      <td>...</td>\n",
              "      <td>1.700708</td>\n",
              "      <td>0.007290</td>\n",
              "      <td>0.099062</td>\n",
              "      <td>0.563853</td>\n",
              "      <td>-0.257275</td>\n",
              "      <td>-0.581781</td>\n",
              "      <td>-0.169887</td>\n",
              "      <td>-0.542304</td>\n",
              "      <td>0.312939</td>\n",
              "      <td>-1.284377</td>\n",
              "    </tr>\n",
              "    <tr>\n",
              "      <th>2</th>\n",
              "      <td>0.258788</td>\n",
              "      <td>-0.972845</td>\n",
              "      <td>0.588486</td>\n",
              "      <td>-0.800258</td>\n",
              "      <td>-1.820398</td>\n",
              "      <td>-2.058924</td>\n",
              "      <td>-0.064764</td>\n",
              "      <td>1.592124</td>\n",
              "      <td>-0.173117</td>\n",
              "      <td>-0.121087</td>\n",
              "      <td>...</td>\n",
              "      <td>-0.615472</td>\n",
              "      <td>0.009999</td>\n",
              "      <td>0.945810</td>\n",
              "      <td>-0.318521</td>\n",
              "      <td>-0.117889</td>\n",
              "      <td>0.621366</td>\n",
              "      <td>-0.070764</td>\n",
              "      <td>0.401682</td>\n",
              "      <td>-0.016227</td>\n",
              "      <td>-0.526553</td>\n",
              "    </tr>\n",
              "    <tr>\n",
              "      <th>3</th>\n",
              "      <td>-1.152132</td>\n",
              "      <td>-2.213168</td>\n",
              "      <td>-0.861525</td>\n",
              "      <td>0.630925</td>\n",
              "      <td>0.951772</td>\n",
              "      <td>-1.165724</td>\n",
              "      <td>-0.391559</td>\n",
              "      <td>1.063619</td>\n",
              "      <td>-0.350009</td>\n",
              "      <td>-1.489058</td>\n",
              "      <td>...</td>\n",
              "      <td>-0.284277</td>\n",
              "      <td>0.198946</td>\n",
              "      <td>-0.091833</td>\n",
              "      <td>0.349628</td>\n",
              "      <td>-0.298910</td>\n",
              "      <td>1.513696</td>\n",
              "      <td>0.671185</td>\n",
              "      <td>0.010855</td>\n",
              "      <td>-1.043689</td>\n",
              "      <td>1.625275</td>\n",
              "    </tr>\n",
              "    <tr>\n",
              "      <th>4</th>\n",
              "      <td>0.195783</td>\n",
              "      <td>0.593306</td>\n",
              "      <td>0.282992</td>\n",
              "      <td>0.247147</td>\n",
              "      <td>1.978668</td>\n",
              "      <td>-0.871018</td>\n",
              "      <td>-0.989715</td>\n",
              "      <td>-1.032253</td>\n",
              "      <td>-1.109654</td>\n",
              "      <td>-0.385142</td>\n",
              "      <td>...</td>\n",
              "      <td>-0.692998</td>\n",
              "      <td>-0.845707</td>\n",
              "      <td>-0.177497</td>\n",
              "      <td>-0.166491</td>\n",
              "      <td>1.483155</td>\n",
              "      <td>-1.687946</td>\n",
              "      <td>-0.141430</td>\n",
              "      <td>0.200778</td>\n",
              "      <td>-0.675942</td>\n",
              "      <td>2.220611</td>\n",
              "    </tr>\n",
              "  </tbody>\n",
              "</table>\n",
              "<p>5 rows × 40 columns</p>\n",
              "</div>\n",
              "    <div class=\"colab-df-buttons\">\n",
              "\n",
              "  <div class=\"colab-df-container\">\n",
              "    <button class=\"colab-df-convert\" onclick=\"convertToInteractive('df-5da9bd84-5be1-4278-b9e0-9d7b5228701e')\"\n",
              "            title=\"Convert this dataframe to an interactive table.\"\n",
              "            style=\"display:none;\">\n",
              "\n",
              "  <svg xmlns=\"http://www.w3.org/2000/svg\" height=\"24px\" viewBox=\"0 -960 960 960\">\n",
              "    <path d=\"M120-120v-720h720v720H120Zm60-500h600v-160H180v160Zm220 220h160v-160H400v160Zm0 220h160v-160H400v160ZM180-400h160v-160H180v160Zm440 0h160v-160H620v160ZM180-180h160v-160H180v160Zm440 0h160v-160H620v160Z\"/>\n",
              "  </svg>\n",
              "    </button>\n",
              "\n",
              "  <style>\n",
              "    .colab-df-container {\n",
              "      display:flex;\n",
              "      gap: 12px;\n",
              "    }\n",
              "\n",
              "    .colab-df-convert {\n",
              "      background-color: #E8F0FE;\n",
              "      border: none;\n",
              "      border-radius: 50%;\n",
              "      cursor: pointer;\n",
              "      display: none;\n",
              "      fill: #1967D2;\n",
              "      height: 32px;\n",
              "      padding: 0 0 0 0;\n",
              "      width: 32px;\n",
              "    }\n",
              "\n",
              "    .colab-df-convert:hover {\n",
              "      background-color: #E2EBFA;\n",
              "      box-shadow: 0px 1px 2px rgba(60, 64, 67, 0.3), 0px 1px 3px 1px rgba(60, 64, 67, 0.15);\n",
              "      fill: #174EA6;\n",
              "    }\n",
              "\n",
              "    .colab-df-buttons div {\n",
              "      margin-bottom: 4px;\n",
              "    }\n",
              "\n",
              "    [theme=dark] .colab-df-convert {\n",
              "      background-color: #3B4455;\n",
              "      fill: #D2E3FC;\n",
              "    }\n",
              "\n",
              "    [theme=dark] .colab-df-convert:hover {\n",
              "      background-color: #434B5C;\n",
              "      box-shadow: 0px 1px 3px 1px rgba(0, 0, 0, 0.15);\n",
              "      filter: drop-shadow(0px 1px 2px rgba(0, 0, 0, 0.3));\n",
              "      fill: #FFFFFF;\n",
              "    }\n",
              "  </style>\n",
              "\n",
              "    <script>\n",
              "      const buttonEl =\n",
              "        document.querySelector('#df-5da9bd84-5be1-4278-b9e0-9d7b5228701e button.colab-df-convert');\n",
              "      buttonEl.style.display =\n",
              "        google.colab.kernel.accessAllowed ? 'block' : 'none';\n",
              "\n",
              "      async function convertToInteractive(key) {\n",
              "        const element = document.querySelector('#df-5da9bd84-5be1-4278-b9e0-9d7b5228701e');\n",
              "        const dataTable =\n",
              "          await google.colab.kernel.invokeFunction('convertToInteractive',\n",
              "                                                    [key], {});\n",
              "        if (!dataTable) return;\n",
              "\n",
              "        const docLinkHtml = 'Like what you see? Visit the ' +\n",
              "          '<a target=\"_blank\" href=https://colab.research.google.com/notebooks/data_table.ipynb>data table notebook</a>'\n",
              "          + ' to learn more about interactive tables.';\n",
              "        element.innerHTML = '';\n",
              "        dataTable['output_type'] = 'display_data';\n",
              "        await google.colab.output.renderOutput(dataTable, element);\n",
              "        const docLink = document.createElement('div');\n",
              "        docLink.innerHTML = docLinkHtml;\n",
              "        element.appendChild(docLink);\n",
              "      }\n",
              "    </script>\n",
              "  </div>\n",
              "\n",
              "\n",
              "<div id=\"df-8d5d77c7-6759-476f-a5c4-da2bdbba5d13\">\n",
              "  <button class=\"colab-df-quickchart\" onclick=\"quickchart('df-8d5d77c7-6759-476f-a5c4-da2bdbba5d13')\"\n",
              "            title=\"Suggest charts\"\n",
              "            style=\"display:none;\">\n",
              "\n",
              "<svg xmlns=\"http://www.w3.org/2000/svg\" height=\"24px\"viewBox=\"0 0 24 24\"\n",
              "     width=\"24px\">\n",
              "    <g>\n",
              "        <path d=\"M19 3H5c-1.1 0-2 .9-2 2v14c0 1.1.9 2 2 2h14c1.1 0 2-.9 2-2V5c0-1.1-.9-2-2-2zM9 17H7v-7h2v7zm4 0h-2V7h2v10zm4 0h-2v-4h2v4z\"/>\n",
              "    </g>\n",
              "</svg>\n",
              "  </button>\n",
              "\n",
              "<style>\n",
              "  .colab-df-quickchart {\n",
              "      --bg-color: #E8F0FE;\n",
              "      --fill-color: #1967D2;\n",
              "      --hover-bg-color: #E2EBFA;\n",
              "      --hover-fill-color: #174EA6;\n",
              "      --disabled-fill-color: #AAA;\n",
              "      --disabled-bg-color: #DDD;\n",
              "  }\n",
              "\n",
              "  [theme=dark] .colab-df-quickchart {\n",
              "      --bg-color: #3B4455;\n",
              "      --fill-color: #D2E3FC;\n",
              "      --hover-bg-color: #434B5C;\n",
              "      --hover-fill-color: #FFFFFF;\n",
              "      --disabled-bg-color: #3B4455;\n",
              "      --disabled-fill-color: #666;\n",
              "  }\n",
              "\n",
              "  .colab-df-quickchart {\n",
              "    background-color: var(--bg-color);\n",
              "    border: none;\n",
              "    border-radius: 50%;\n",
              "    cursor: pointer;\n",
              "    display: none;\n",
              "    fill: var(--fill-color);\n",
              "    height: 32px;\n",
              "    padding: 0;\n",
              "    width: 32px;\n",
              "  }\n",
              "\n",
              "  .colab-df-quickchart:hover {\n",
              "    background-color: var(--hover-bg-color);\n",
              "    box-shadow: 0 1px 2px rgba(60, 64, 67, 0.3), 0 1px 3px 1px rgba(60, 64, 67, 0.15);\n",
              "    fill: var(--button-hover-fill-color);\n",
              "  }\n",
              "\n",
              "  .colab-df-quickchart-complete:disabled,\n",
              "  .colab-df-quickchart-complete:disabled:hover {\n",
              "    background-color: var(--disabled-bg-color);\n",
              "    fill: var(--disabled-fill-color);\n",
              "    box-shadow: none;\n",
              "  }\n",
              "\n",
              "  .colab-df-spinner {\n",
              "    border: 2px solid var(--fill-color);\n",
              "    border-color: transparent;\n",
              "    border-bottom-color: var(--fill-color);\n",
              "    animation:\n",
              "      spin 1s steps(1) infinite;\n",
              "  }\n",
              "\n",
              "  @keyframes spin {\n",
              "    0% {\n",
              "      border-color: transparent;\n",
              "      border-bottom-color: var(--fill-color);\n",
              "      border-left-color: var(--fill-color);\n",
              "    }\n",
              "    20% {\n",
              "      border-color: transparent;\n",
              "      border-left-color: var(--fill-color);\n",
              "      border-top-color: var(--fill-color);\n",
              "    }\n",
              "    30% {\n",
              "      border-color: transparent;\n",
              "      border-left-color: var(--fill-color);\n",
              "      border-top-color: var(--fill-color);\n",
              "      border-right-color: var(--fill-color);\n",
              "    }\n",
              "    40% {\n",
              "      border-color: transparent;\n",
              "      border-right-color: var(--fill-color);\n",
              "      border-top-color: var(--fill-color);\n",
              "    }\n",
              "    60% {\n",
              "      border-color: transparent;\n",
              "      border-right-color: var(--fill-color);\n",
              "    }\n",
              "    80% {\n",
              "      border-color: transparent;\n",
              "      border-right-color: var(--fill-color);\n",
              "      border-bottom-color: var(--fill-color);\n",
              "    }\n",
              "    90% {\n",
              "      border-color: transparent;\n",
              "      border-bottom-color: var(--fill-color);\n",
              "    }\n",
              "  }\n",
              "</style>\n",
              "\n",
              "  <script>\n",
              "    async function quickchart(key) {\n",
              "      const quickchartButtonEl =\n",
              "        document.querySelector('#' + key + ' button');\n",
              "      quickchartButtonEl.disabled = true;  // To prevent multiple clicks.\n",
              "      quickchartButtonEl.classList.add('colab-df-spinner');\n",
              "      try {\n",
              "        const charts = await google.colab.kernel.invokeFunction(\n",
              "            'suggestCharts', [key], {});\n",
              "      } catch (error) {\n",
              "        console.error('Error during call to suggestCharts:', error);\n",
              "      }\n",
              "      quickchartButtonEl.classList.remove('colab-df-spinner');\n",
              "      quickchartButtonEl.classList.add('colab-df-quickchart-complete');\n",
              "    }\n",
              "    (() => {\n",
              "      let quickchartButtonEl =\n",
              "        document.querySelector('#df-8d5d77c7-6759-476f-a5c4-da2bdbba5d13 button');\n",
              "      quickchartButtonEl.style.display =\n",
              "        google.colab.kernel.accessAllowed ? 'block' : 'none';\n",
              "    })();\n",
              "  </script>\n",
              "</div>\n",
              "    </div>\n",
              "  </div>\n"
            ]
          },
          "metadata": {},
          "execution_count": 158
        }
      ]
    },
    {
      "cell_type": "code",
      "source": [
        "l1 = len(c1)\n",
        "l2 = len(c2)\n",
        "avg1 = np.zeros(1000)\n",
        "avg2 = np.zeros(1000)\n",
        "for i in range(l1):\n",
        "  avg1 += Genes.iloc[:,c1[i]]\n",
        "avg1 = avg1/l1\n",
        "for i in range(l2):\n",
        "  avg2 += Genes.iloc[:,c2[i]]\n",
        "avg2 = avg1/l2\n",
        "\n",
        "diff = np.abs(avg1-avg2)\n",
        "imp_gene = np.argmax(diff)\n",
        "print(imp_gene)\n"
      ],
      "metadata": {
        "colab": {
          "base_uri": "https://localhost:8080/"
        },
        "id": "PAgAbyt_CV7D",
        "outputId": "67158897-982c-47f9-f75e-538d1ff5ef56"
      },
      "execution_count": 163,
      "outputs": [
        {
          "output_type": "stream",
          "name": "stdout",
          "text": [
            "550\n"
          ]
        }
      ]
    },
    {
      "cell_type": "code",
      "source": [
        "print(avg1[550],avg2[550])"
      ],
      "metadata": {
        "id": "e8urAhB6Fb6l",
        "outputId": "5b357b64-b3ea-427f-83c8-d966cdbac176",
        "colab": {
          "base_uri": "https://localhost:8080/"
        }
      },
      "execution_count": 164,
      "outputs": [
        {
          "output_type": "stream",
          "name": "stdout",
          "text": [
            "2.5246711 0.126233555\n"
          ]
        }
      ]
    },
    {
      "cell_type": "code",
      "source": [
        "hc_cor = HClust(linkage='single', distance_threshold=0, n_clusters=None, metric='precomputed')\n",
        "hc_cor.fit(corD)\n",
        "linkage_cor = compute_linkage(hc_cor)\n",
        "fig , ax = plt.subplots(1, 1, figsize=(8, 8))\n",
        "dendrogram(linkage_cor , ax=ax, **cargs)\n",
        "ax.set_title(\"Single Linkage with Correlation -Based Dissimilarity\")"
      ],
      "metadata": {
        "colab": {
          "base_uri": "https://localhost:8080/",
          "height": 720
        },
        "id": "IBQ_Fs2f9jHm",
        "outputId": "cdbcb777-cc07-4a9f-c784-054bfae0c3fb"
      },
      "execution_count": 149,
      "outputs": [
        {
          "output_type": "execute_result",
          "data": {
            "text/plain": [
              "Text(0.5, 1.0, 'Single Linkage with Correlation -Based Dissimilarity')"
            ]
          },
          "metadata": {},
          "execution_count": 149
        },
        {
          "output_type": "display_data",
          "data": {
            "text/plain": [
              "<Figure size 800x800 with 1 Axes>"
            ],
            "image/png": "[encoded data removed]"
          },
          "metadata": {}
        }
      ]
    },
    {
      "cell_type": "markdown",
      "source": [
        "### **(c)**"
      ],
      "metadata": {
        "id": "Gmstc_Rp3cOQ"
      }
    },
    {
      "cell_type": "code",
      "source": [],
      "metadata": {
        "id": "wSqTp3un3c4N"
      },
      "execution_count": null,
      "outputs": []
    }
  ]
}