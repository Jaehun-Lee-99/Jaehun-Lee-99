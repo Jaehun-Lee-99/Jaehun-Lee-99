{
  "cells": [
    {
      "cell_type": "markdown",
      "metadata": {
        "id": "BtdMyK3VjZMT"
      },
      "source": [
        "## **[Week 3] NumPy & Plotting data**\n",
        "Today, we will learn about NumPy Basics and How to plot data."
      ]
    },
    {
      "cell_type": "markdown",
      "source": [
        "## **NumPy**\n",
        "\n",
        "1. NumPy is the fundamental package for scientific computing in Python and is used to perform computations on multi-dimensional data easily and effectively.\n",
        "2. Numpy provides a new data structure called arrays which allow efficient vector and matrix operations and a number of linear algebra operations"
      ],
      "metadata": {
        "id": "qVPMjt3Eb6lh"
      }
    },
    {
      "cell_type": "markdown",
      "metadata": {
        "id": "9WtAr1qFjgBc"
      },
      "source": [
        "### Import NumPy package\n",
        "\n"
      ]
    },
    {
      "cell_type": "code",
      "execution_count": null,
      "metadata": {
        "id": "ZtQUge1Ij6U_"
      },
      "outputs": [],
      "source": [
        "#Import numpy library\n",
        "import numpy as np"
      ]
    },
    {
      "cell_type": "markdown",
      "metadata": {
        "id": "BsaheuZzgSEC"
      },
      "source": [
        "### Scalar, Vector, Matrix, Tensor\n",
        "```np.array``` is a central data structure of the NumPy library"
      ]
    },
    {
      "cell_type": "code",
      "execution_count": null,
      "metadata": {
        "id": "weWPFtzzgSEC"
      },
      "outputs": [],
      "source": [
        "# define a scalar\n",
        "a = np.array(1)\n",
        "print('a = ', a.__repr__())\n",
        "print('dimension of a: ', a.ndim)\n",
        "print('shape of a: ', a.shape)\n",
        "\n",
        "# define a vector\n",
        "b = np.array([1., 2., 3.])\n",
        "print('\\nb = ', b.__repr__())\n",
        "print('dimension of b: ', b.ndim)\n",
        "print('shape of b: ', b.shape)\n",
        "\n",
        "# define a matrix\n",
        "c = np.array([[1., 2., 3.], [4., 5., 6.]])\n",
        "print('\\nc = ',c.__repr__())\n",
        "print('dimension of c: ', c.ndim)\n",
        "print('shape of c: ', c.shape)\n",
        "\n",
        "# define a tensor (N-dimensional array)\n",
        "d = np.array([[[[1., 2., 3.], [1., 2., 3.], [1., 2., 3.]],\n",
        "               [[4., 5., 6.], [4., 5., 6.], [4., 5., 6.]]],\n",
        "              [[[7., 8., 9.], [7., 8., 9.], [7., 8., 9.]],\n",
        "               [[10., 11., 12.], [10., 11., 12.], [10., 11., 12.]]]])\n",
        "print('\\nd = ',d.__repr__())\n",
        "print('dimension of d: ', d.ndim)\n",
        "print('shape of d: ', d.shape)"
      ]
    },
    {
      "cell_type": "markdown",
      "metadata": {
        "id": "v0O7ya42kHRo"
      },
      "source": [
        "### NumPy array creation functions\n",
        "NumPy provides many functions to define NumPy arrays"
      ]
    },
    {
      "cell_type": "code",
      "source": [
        "a = np.zeros(10)\n",
        "a, a.shape"
      ],
      "metadata": {
        "id": "pOjd7CZPfyfg"
      },
      "execution_count": null,
      "outputs": []
    },
    {
      "cell_type": "code",
      "source": [
        "a = np.ones(10)\n",
        "a, a.shape"
      ],
      "metadata": {
        "id": "O9hY7bIXfy_A"
      },
      "execution_count": null,
      "outputs": []
    },
    {
      "cell_type": "code",
      "source": [
        "a = np.arange(0, 10, 1)\n",
        "a, a.shape"
      ],
      "metadata": {
        "id": "JaGwVbnOfzOi"
      },
      "execution_count": null,
      "outputs": []
    },
    {
      "cell_type": "code",
      "source": [
        "a = np.linspace(0,2,9)\n",
        "a, a.shape"
      ],
      "metadata": {
        "id": "XZweoEzMfzhV"
      },
      "execution_count": null,
      "outputs": []
    },
    {
      "cell_type": "code",
      "source": [
        "a = np.random.random((2,3,4))\n",
        "a, a.shape"
      ],
      "metadata": {
        "id": "VdsLzYN2gN7I"
      },
      "execution_count": null,
      "outputs": []
    },
    {
      "cell_type": "code",
      "execution_count": null,
      "metadata": {
        "scrolled": true,
        "id": "oFAyv8QvgSED"
      },
      "outputs": [],
      "source": [
        "# Convert datatype of elements\n",
        "a = np.arange(10)\n",
        "print(a.dtype)   # original datatype\n",
        "\n",
        "b = a.astype(np.float64) # convert to float\n",
        "print(b.dtype)"
      ]
    },
    {
      "cell_type": "markdown",
      "metadata": {
        "id": "Muu34ANY5aNb"
      },
      "source": [
        "### Indexing & Slicing"
      ]
    },
    {
      "cell_type": "code",
      "execution_count": null,
      "metadata": {
        "id": "Q1p5MNGlww4-"
      },
      "outputs": [],
      "source": [
        "# numpy arrays can be indexed.\n",
        "a = np.ones(5)\n",
        "print(a)\n",
        "\n",
        "a[0] = 6\n",
        "a[4] = 2\n",
        "print(a)"
      ]
    },
    {
      "cell_type": "code",
      "execution_count": null,
      "metadata": {
        "id": "v7j1W7xzgSEE"
      },
      "outputs": [],
      "source": [
        "# -1 indicates last element\n",
        "a[-1]"
      ]
    },
    {
      "cell_type": "code",
      "execution_count": null,
      "metadata": {
        "scrolled": true,
        "id": "ygP8yQONgSEE"
      },
      "outputs": [],
      "source": [
        "# include 0 index and exclude -1 (last) index of element\n",
        "a[0:-1]"
      ]
    },
    {
      "cell_type": "code",
      "execution_count": null,
      "metadata": {
        "id": "QSkD0WVTgSEE"
      },
      "outputs": [],
      "source": [
        "# for 2 dimensional array\n",
        "a = np.arange(1, 13).reshape(3, 4)\n",
        "a"
      ]
    },
    {
      "cell_type": "code",
      "execution_count": null,
      "metadata": {
        "id": "rn3Q_Ry7gSEE"
      },
      "outputs": [],
      "source": [
        "# indexing the first row\n",
        "a[0]"
      ]
    },
    {
      "cell_type": "code",
      "execution_count": null,
      "metadata": {
        "id": "2RiBSQBRgSEE"
      },
      "outputs": [],
      "source": [
        "# indexing second element of the first row\n",
        "a[0, 1]"
      ]
    },
    {
      "cell_type": "code",
      "execution_count": null,
      "metadata": {
        "id": "4BkjBhI5gSEE"
      },
      "outputs": [],
      "source": [
        "# slicing with respect to both 1 , 2 - dimensional elements\n",
        "a[0:3:2, 1:4:2]"
      ]
    },
    {
      "cell_type": "markdown",
      "source": [
        "### Shape Manipulation"
      ],
      "metadata": {
        "id": "c_2LN5Z6jQEp"
      }
    },
    {
      "cell_type": "code",
      "execution_count": null,
      "metadata": {
        "id": "Trl2ehzixpXm"
      },
      "outputs": [],
      "source": [
        "# reshape\n",
        "\n",
        "a = np.arange(10)\n",
        "print(a, a.shape)\n",
        "\n",
        "b = a.reshape(2,5)\n",
        "print(b, b.shape)"
      ]
    },
    {
      "cell_type": "code",
      "execution_count": null,
      "metadata": {
        "id": "GXn17JpJgSEF"
      },
      "outputs": [],
      "source": [
        "# add an additional dimension\n",
        "print(a.shape)\n",
        "a[None].shape  # add extra dimension in first dim"
      ]
    },
    {
      "cell_type": "code",
      "execution_count": null,
      "metadata": {
        "id": "3si41v08gSEF"
      },
      "outputs": [],
      "source": [
        "# add in second dim\n",
        "a[:, None].shape"
      ]
    },
    {
      "cell_type": "code",
      "execution_count": null,
      "metadata": {
        "id": "V5zFQfePgSEF"
      },
      "outputs": [],
      "source": [
        "# add in last dim\n",
        "a[..., None].shape"
      ]
    },
    {
      "cell_type": "code",
      "execution_count": null,
      "metadata": {
        "id": "OtPnJprwgSEF"
      },
      "outputs": [],
      "source": [
        "# add in second last dim\n",
        "a[..., None, :].shape"
      ]
    },
    {
      "cell_type": "code",
      "source": [
        "# stack\n",
        "a = np.ones((3,2))\n",
        "b = np.zeros((3,2))\n",
        "print(np.vstack([a, b]))\n",
        "print(np.hstack([a, b]))"
      ],
      "metadata": {
        "id": "X4yJAuQijm6H"
      },
      "execution_count": null,
      "outputs": []
    },
    {
      "cell_type": "code",
      "source": [
        "# concatenate\n",
        "print(np.concatenate([a, b], axis=0))\n",
        "print(np.concatenate([a, b], axis=1))"
      ],
      "metadata": {
        "id": "NTeJCZSzjt30"
      },
      "execution_count": null,
      "outputs": []
    },
    {
      "cell_type": "code",
      "source": [
        "# matrix transpose\n",
        "a = np.arange(10).reshape(2,5)\n",
        "print(a)\n",
        "print(a.T)\n",
        "print(a.transpose())"
      ],
      "metadata": {
        "id": "jq-a1Wu3kJa2"
      },
      "execution_count": null,
      "outputs": []
    },
    {
      "cell_type": "code",
      "source": [
        "# tensor transpose\n",
        "a = np.arange(24).reshape(2,3,4)\n",
        "print(a, a.shape)\n",
        "\n",
        "# swap axis 0 and 2\n",
        "b = np.transpose(a, [2, 1, 0])\n",
        "print(b, b.shape)"
      ],
      "metadata": {
        "id": "e8sLvhqJkURD"
      },
      "execution_count": null,
      "outputs": []
    },
    {
      "cell_type": "markdown",
      "metadata": {
        "id": "ZdBNp8Gn5ewE"
      },
      "source": [
        "### Numpy Operations (Math)"
      ]
    },
    {
      "cell_type": "code",
      "execution_count": null,
      "metadata": {
        "id": "58MCYFcTjbUH"
      },
      "outputs": [],
      "source": [
        "# Basic mathematical functions in the numpy module are available and operate elementwise on arrays.\n",
        "# support all basic numerical operations such as +. -. *, /, ** ..\n",
        "a = np.arange(0, 3, 1)\n",
        "b = np.arange(1, 4, 1)\n",
        "print('a = ', a.__repr__())\n",
        "print('b = ', b.__repr__(), end='\\n')\n",
        "\n",
        "print('a = ', a)\n",
        "print('a + 5 = ', a + 5)\n",
        "print('a^2 = ', a ** 2)\n",
        "print('sin(a) = ', np.sin(a))\n",
        "print('logical operation of a < 1: ', a < 1)"
      ]
    },
    {
      "cell_type": "code",
      "execution_count": null,
      "metadata": {
        "id": "bRXHUlQIgSEF"
      },
      "outputs": [],
      "source": [
        "# operator * is not vector multiplication but elementwise multiplication.\n",
        "print('array a = ', a)\n",
        "print('array b = ', b)\n",
        "a * b"
      ]
    },
    {
      "cell_type": "code",
      "execution_count": null,
      "metadata": {
        "id": "Cdz_jWE5gSEG"
      },
      "outputs": [],
      "source": [
        "# for vector multiplication, we use the dot function to compute inner products of vectors\n",
        "# 0*1 + 1*2 + 2*3 = 8\n",
        "np.dot(a, b), a@b"
      ]
    },
    {
      "cell_type": "code",
      "execution_count": null,
      "metadata": {
        "id": "WuwHj6LKyDdl"
      },
      "outputs": [],
      "source": [
        "# Matrix multiplication\n",
        "\n",
        "a = np.array([[1,2],[3,4]])\n",
        "b = np.array([[4,3],[2,1]])\n",
        "\n",
        "np.matmul(a,b), np.dot(a,b), a@b"
      ]
    },
    {
      "cell_type": "code",
      "execution_count": null,
      "metadata": {
        "id": "OtFbtKLNgSEJ"
      },
      "outputs": [],
      "source": [
        "# using np.ndarray.method()\n",
        "a = np.arange(6).reshape(2,3)\n",
        "print('array a = ', a)\n",
        "print('max value of each column: ', a.max(axis = 0)) # max of each column\n",
        "print('min value of each row:', a.min(axis = 1)) # min of each row\n",
        "print('sums of all elements:', a.sum()) # sum of all elements\n",
        "print('sums of each row:', a.sum(axis = 1)) # sum of each row\n",
        "print('max value of array (matrix) c:', a.max()) # max of c"
      ]
    },
    {
      "cell_type": "code",
      "execution_count": null,
      "metadata": {
        "id": "4U8q8jlbgSEK"
      },
      "outputs": [],
      "source": [
        "# take operation while keeping dimension\n",
        "np.sum(a, axis=0, keepdims=True)"
      ]
    },
    {
      "cell_type": "code",
      "execution_count": null,
      "metadata": {
        "id": "Np5wpt1AgSEK"
      },
      "outputs": [],
      "source": [
        "np.sum(a, axis=1, keepdims=True)"
      ]
    },
    {
      "cell_type": "markdown",
      "metadata": {
        "id": "wm5gY8i1pjZ1"
      },
      "source": [
        "### Broadcasting\n",
        "Broadcasting is a powerful mechanism that allows numpy to work with arrays of different shapes when computing mathematical operations."
      ]
    },
    {
      "cell_type": "code",
      "source": [
        "# Vector and scalar\n",
        "a = np.arange(3)\n",
        "b = 2.\n",
        "\n",
        "print(\"a = \", a, \"/ b = \", b)\n",
        "print(\"a+b = \", a+b)\n",
        "print(\"a-b = \", a-b)\n",
        "print(\"a*b = \", a*b)\n",
        "print(\"a/b = \", a/b)"
      ],
      "metadata": {
        "id": "mp-jWUYwpgOc"
      },
      "execution_count": null,
      "outputs": []
    },
    {
      "cell_type": "code",
      "source": [
        "# Matrix and vector\n",
        "a = np.arange(1, 7).reshape(2, 3)\n",
        "b = np.arange(1, 4)\n",
        "\n",
        "print(\"a = \", a, \"/ b = \", b)\n",
        "print(\"a+b = \", a+b)\n",
        "print(\"a-b = \", a-b)\n",
        "print(\"a*b = \", a*b)\n",
        "print(\"a/b = \", a/b)"
      ],
      "metadata": {
        "id": "mSb9IDHvpgFF"
      },
      "execution_count": null,
      "outputs": []
    },
    {
      "cell_type": "code",
      "source": [
        "# Tensor and matrix\n",
        "a = np.arange(1, 13).reshape(2, 2, 3)\n",
        "b = np.arange(1, 7).reshape(2, 3)\n",
        "\n",
        "print(\"a = \", a, \"/ b = \", b)\n",
        "print(\"a+b = \", a+b)\n",
        "print(\"a-b = \", a-b)\n",
        "print(\"a*b = \", a*b)\n",
        "print(\"a/b = \", a/b)"
      ],
      "metadata": {
        "id": "jQ8DUwPwpf4y"
      },
      "execution_count": null,
      "outputs": []
    },
    {
      "cell_type": "markdown",
      "metadata": {
        "id": "oaEg599cgSEM"
      },
      "source": [
        "### Boolean Array Indexing (Masking)\n"
      ]
    },
    {
      "cell_type": "code",
      "execution_count": null,
      "metadata": {
        "id": "UF5h9zG3gSEM"
      },
      "outputs": [],
      "source": [
        "a = np.arange(1, 10).reshape(3, 3)\n",
        "print('a = ', a.__repr__())"
      ]
    },
    {
      "cell_type": "code",
      "execution_count": null,
      "metadata": {
        "id": "v_nwmikjgSEM"
      },
      "outputs": [],
      "source": [
        "# Support element-wise logical operation (return as True or False)\n",
        "even = a % 2 == 0\n",
        "print(even.__repr__())"
      ]
    },
    {
      "cell_type": "code",
      "execution_count": null,
      "metadata": {
        "id": "B81F_FnYgSEM"
      },
      "outputs": [],
      "source": [
        "# indexing the elements corresponding to its True boolean index and return as a rank 1 array\n",
        "a[even]"
      ]
    },
    {
      "cell_type": "code",
      "source": [],
      "metadata": {
        "id": "Lh-RpiXzr6Ru"
      },
      "execution_count": null,
      "outputs": []
    },
    {
      "cell_type": "markdown",
      "metadata": {
        "id": "YWl2YSMh9jY3"
      },
      "source": [
        "### Copy in numpy\n",
        "\n",
        "3 cases of copying NumPy array"
      ]
    },
    {
      "cell_type": "code",
      "execution_count": null,
      "metadata": {
        "id": "5Z9CfjBk8pVU"
      },
      "outputs": [],
      "source": [
        "# Case 1\n",
        "\n",
        "a = np.zeros((2,2))\n",
        "b = a #No copy at all # Share both the data and properties(e.g., dimension of array)\n",
        "print('b: \\n', b.__repr__())\n",
        "\n",
        "b[1,1] = 1\n",
        "print('b: \\n', b.__repr__())\n",
        "print('a: \\n', a.__repr__()) # a is also changed\n",
        "\n",
        "\n",
        "b.shape = (1,4)\n",
        "print('shape of a: ', a.shape) #The shape of a is also changed"
      ]
    },
    {
      "cell_type": "code",
      "execution_count": null,
      "metadata": {
        "id": "gf89X3s-0KyY"
      },
      "outputs": [],
      "source": [
        "# Case 2 : Shallow copy\n",
        "\n",
        "a = np.zeros((2,2))\n",
        "b = a.view()                    #Shallow copy # Share the data but not properties(e.g., dimension of array)\n",
        "print('b: \\n', b.__repr__())\n",
        "\n",
        "b[1,1] = 1\n",
        "print('b: \\n', b.__repr__())\n",
        "print('a: \\n', a.__repr__())    # a is also changed!!\n",
        "\n",
        "b.shape = (1,4)\n",
        "print('shape of a: ', a.shape)  #The shape of a is not changed"
      ]
    },
    {
      "cell_type": "code",
      "execution_count": null,
      "metadata": {
        "id": "hRSify8d9qNT"
      },
      "outputs": [],
      "source": [
        "# Case 3 : Deep copy\n",
        "\n",
        "a=np.zeros((2,2))\n",
        "c = a.copy()                  #Deep copy # Create an independet variable not sharing both the data and properties\n",
        "print('c: \\n', c.__repr__())\n",
        "\n",
        "c[1,1] =1\n",
        "print('c: \\n', c.__repr__())\n",
        "print('a: \\n', a.__repr__())   # a is not changed"
      ]
    },
    {
      "cell_type": "markdown",
      "source": [
        "## Plotting data\n",
        "\n",
        "Matplotlib is a popular libarary for creating static, animated, interactive visualizations in Python."
      ],
      "metadata": {
        "id": "_sPrb-ylsNHh"
      }
    },
    {
      "cell_type": "markdown",
      "source": [
        "### Import matplotlib"
      ],
      "metadata": {
        "id": "Go3Y64HFt2hj"
      }
    },
    {
      "cell_type": "code",
      "source": [
        "import matplotlib.pyplot as plt"
      ],
      "metadata": {
        "id": "ntkVi1KFtqfL"
      },
      "execution_count": null,
      "outputs": []
    },
    {
      "cell_type": "markdown",
      "source": [
        "### Generate data & Define a function"
      ],
      "metadata": {
        "id": "908iFVpYuIA_"
      }
    },
    {
      "cell_type": "code",
      "source": [
        "x_temp = np.arange(0, 10, 0.01)\n",
        "x = np.linspace(0, 10, 1000)\n",
        "print(x_temp.shape, x.shape)\n",
        "\n",
        "y = 3*x**2 - 20*x + 25"
      ],
      "metadata": {
        "id": "rieX9I4iv2SO"
      },
      "execution_count": null,
      "outputs": []
    },
    {
      "cell_type": "markdown",
      "source": [
        "### Plot the function"
      ],
      "metadata": {
        "id": "NGtOA1DQvhtY"
      }
    },
    {
      "cell_type": "code",
      "source": [
        "plt.plot(x, y, label='3x^2 - 20x + 25', color='red')\n",
        "plt.grid()\n",
        "plt.xlabel('X axis')\n",
        "plt.ylabel('Y axis')\n",
        "plt.legend()\n",
        "plt.show()"
      ],
      "metadata": {
        "id": "-X4CPwSCvlD6"
      },
      "execution_count": null,
      "outputs": []
    },
    {
      "cell_type": "code",
      "source": [
        "plt.scatter(x, y, label='3x^2 - 20x + 25', color='green', s=1)\n",
        "plt.grid()\n",
        "plt.xlabel('X axis')\n",
        "plt.ylabel('Y axis')\n",
        "plt.legend()\n",
        "plt.show()"
      ],
      "metadata": {
        "id": "cI789obwxzV3"
      },
      "execution_count": null,
      "outputs": []
    },
    {
      "cell_type": "markdown",
      "source": [
        "## Exercises\n",
        "\n",
        "We are going to generate 100 data points from each of 3 multivariate normal distributions:\n",
        "\\begin{align*}\n",
        "&X\\sim\\mathcal{N}(\\mu, \\Sigma),\\\\\n",
        "&\\text{where}\\quad \\mu_1=\\begin{bmatrix} 0 & 10 \\end{bmatrix}, \\quad \\mu_2=\\begin{bmatrix} 10 & 0 \\end{bmatrix},\\quad \\mu_3=\\begin{bmatrix} 20 & 20 \\end{bmatrix}, \\quad\\Sigma=\\begin{bmatrix} 3 & 0 \\\\ 0 & 3 \\end{bmatrix}.\n",
        "\\end{align*}\n",
        "\n",
        "Now plot the data and the centroid of data sampled from each of the distributions."
      ],
      "metadata": {
        "id": "lOUBqaUmxngL"
      }
    },
    {
      "cell_type": "markdown",
      "source": [
        "### **Exercise 1**. generate 1000 data points from each normal distribution (use ```np.random.normal```)"
      ],
      "metadata": {
        "id": "zoAao2mt7pPL"
      }
    },
    {
      "cell_type": "code",
      "source": [
        "n = 1000\n",
        "###########################\n",
        "\n",
        "# Enter your code\n",
        "\n",
        "###########################\n",
        "\n",
        "x1.shape, x2.shape, x3.shape"
      ],
      "metadata": {
        "id": "WhNDe9Ke7e1K"
      },
      "execution_count": null,
      "outputs": []
    },
    {
      "cell_type": "markdown",
      "source": [
        "### **Exercise 2**. compute the mean and covariance for x1, x2, x3"
      ],
      "metadata": {
        "id": "Mhyv-edp8Vmt"
      }
    },
    {
      "cell_type": "code",
      "source": [
        "# Enter your code"
      ],
      "metadata": {
        "id": "fEUOLzPX8VGQ"
      },
      "execution_count": null,
      "outputs": []
    },
    {
      "cell_type": "markdown",
      "source": [
        "### **Exercise 3**. plot the sampled data and the centroids"
      ],
      "metadata": {
        "id": "92Qf20jC9DOK"
      }
    },
    {
      "cell_type": "code",
      "source": [
        "###########################\n",
        "\n",
        "# Enter your code\n",
        "\n",
        "###########################\n",
        "\n",
        "plt.grid()\n",
        "plt.legend(loc='upper left')\n",
        "plt.show()"
      ],
      "metadata": {
        "id": "gvl2P13P9MlI"
      },
      "execution_count": null,
      "outputs": []
    },
    {
      "cell_type": "markdown",
      "metadata": {
        "id": "Pkgk-rayeCZa"
      },
      "source": [
        "## References\n",
        "\n",
        "https://numpy.org/\n",
        "\n",
        "https://cs231n.github.io/python-numpy-tutorial/#numpy\n",
        "\n",
        "http://aikorea.org/cs231n/python-numpy-tutorial/\n",
        "\n",
        "https://nbviewer.jupyter.org/gist/FinanceData/274d1a051b8ef10379b35b3fa72dd931\n",
        "\n",
        "https://matplotlib.org/"
      ]
    },
    {
      "cell_type": "code",
      "source": [],
      "metadata": {
        "id": "I4TEb-MHteND"
      },
      "execution_count": null,
      "outputs": []
    }
  ],
  "metadata": {
    "colab": {
      "collapsed_sections": [
        "BsaheuZzgSEC",
        "v0O7ya42kHRo",
        "Muu34ANY5aNb",
        "c_2LN5Z6jQEp",
        "ZdBNp8Gn5ewE",
        "wm5gY8i1pjZ1",
        "oaEg599cgSEM",
        "908iFVpYuIA_",
        "NGtOA1DQvhtY"
      ],
      "provenance": []
    },
    "kernelspec": {
      "display_name": "Python 3",
      "language": "python",
      "name": "python3"
    },
    "language_info": {
      "codemirror_mode": {
        "name": "ipython",
        "version": 3
      },
      "file_extension": ".py",
      "mimetype": "text/x-python",
      "name": "python",
      "nbconvert_exporter": "python",
      "pygments_lexer": "ipython3",
      "version": "3.6.9"
    }
  },
  "nbformat": 4,
  "nbformat_minor": 0
}