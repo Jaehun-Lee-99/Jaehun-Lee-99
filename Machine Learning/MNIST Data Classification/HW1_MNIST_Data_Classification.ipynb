{
  "nbformat": 4,
  "nbformat_minor": 0,
  "metadata": {
    "colab": {
      "provenance": [],
      "gpuType": "T4"
    },
    "kernelspec": {
      "name": "python3",
      "display_name": "Python 3"
    },
    "language_info": {
      "name": "python"
    },
    "accelerator": "GPU"
  },
  "cells": [
    {
      "cell_type": "markdown",
      "source": [
        "#  (MAS473) Introduction to Artificial Intelligence with Mathematics\n",
        "# Homework #1: Introduction to the Neural Network"
      ],
      "metadata": {
        "id": "nWigUXEiRZnw"
      }
    },
    {
      "cell_type": "markdown",
      "source": [
        "# 1. Prerequisites\n",
        "\n",
        "The purpose of this homework is to practice for implementing some basic neural networks.\n",
        "\n",
        "You can use following packages in this HW:"
      ],
      "metadata": {
        "id": "3tdGYwZgx4CK"
      }
    },
    {
      "cell_type": "markdown",
      "source": [
        "##  Data Loading\n",
        "\n",
        "### Download data\n",
        "Gathering proper dataset for given tasks is a starting point of solving a deep learning problem.\n",
        "In our tutorial, we use ```torchvision.datasets``` class, which provides diverse benchmark datasets for various deep learning tasks. The following are some main parameters of the class.\n",
        "* **root**(string) - Root directory of dataset\n",
        "* **train**(bool) - If true, creates dataset for training, otherwise for test.\n",
        "* **download**(bool) - If false, dataset is not downloaded again.\n",
        "* **transform**(callable) - A function/transform that takes in an PIL image and returns a transformed version.\n",
        "\n",
        "MNIST data contains 60,000 training and 10,000 test images. They are images of numbers and labels of the numbers.\n",
        "\n",
        "https://pytorch.org/docs/stable/torchvision/datasets.html#torchvision.datasets.MNIST\n",
        "\n",
        "If you want to use your own data, we prepare the data with csv file (obviously other types ok) and upload into the Google drive and set the file directory."
      ],
      "metadata": {
        "id": "7mNipM_SEEf0"
      }
    },
    {
      "cell_type": "code",
      "source": [
        "!pip install torch torchvision"
      ],
      "metadata": {
        "id": "6d3SvmegSAR6",
        "colab": {
          "base_uri": "https://localhost:8080/"
        },
        "outputId": "fd64fd3c-929a-4534-9002-d59dd0172fe8"
      },
      "execution_count": null,
      "outputs": [
        {
          "output_type": "stream",
          "name": "stdout",
          "text": [
            "Requirement already satisfied: torch in /usr/local/lib/python3.10/dist-packages (2.0.1+cu118)\n",
            "Requirement already satisfied: torchvision in /usr/local/lib/python3.10/dist-packages (0.15.2+cu118)\n",
            "Requirement already satisfied: filelock in /usr/local/lib/python3.10/dist-packages (from torch) (3.12.2)\n",
            "Requirement already satisfied: typing-extensions in /usr/local/lib/python3.10/dist-packages (from torch) (4.5.0)\n",
            "Requirement already satisfied: sympy in /usr/local/lib/python3.10/dist-packages (from torch) (1.12)\n",
            "Requirement already satisfied: networkx in /usr/local/lib/python3.10/dist-packages (from torch) (3.1)\n",
            "Requirement already satisfied: jinja2 in /usr/local/lib/python3.10/dist-packages (from torch) (3.1.2)\n",
            "Requirement already satisfied: triton==2.0.0 in /usr/local/lib/python3.10/dist-packages (from torch) (2.0.0)\n",
            "Requirement already satisfied: cmake in /usr/local/lib/python3.10/dist-packages (from triton==2.0.0->torch) (3.27.4.1)\n",
            "Requirement already satisfied: lit in /usr/local/lib/python3.10/dist-packages (from triton==2.0.0->torch) (16.0.6)\n",
            "Requirement already satisfied: numpy in /usr/local/lib/python3.10/dist-packages (from torchvision) (1.23.5)\n",
            "Requirement already satisfied: requests in /usr/local/lib/python3.10/dist-packages (from torchvision) (2.31.0)\n",
            "Requirement already satisfied: pillow!=8.3.*,>=5.3.0 in /usr/local/lib/python3.10/dist-packages (from torchvision) (9.4.0)\n",
            "Requirement already satisfied: MarkupSafe>=2.0 in /usr/local/lib/python3.10/dist-packages (from jinja2->torch) (2.1.3)\n",
            "Requirement already satisfied: charset-normalizer<4,>=2 in /usr/local/lib/python3.10/dist-packages (from requests->torchvision) (3.2.0)\n",
            "Requirement already satisfied: idna<4,>=2.5 in /usr/local/lib/python3.10/dist-packages (from requests->torchvision) (3.4)\n",
            "Requirement already satisfied: urllib3<3,>=1.21.1 in /usr/local/lib/python3.10/dist-packages (from requests->torchvision) (2.0.4)\n",
            "Requirement already satisfied: certifi>=2017.4.17 in /usr/local/lib/python3.10/dist-packages (from requests->torchvision) (2023.7.22)\n",
            "Requirement already satisfied: mpmath>=0.19 in /usr/local/lib/python3.10/dist-packages (from sympy->torch) (1.3.0)\n"
          ]
        }
      ]
    },
    {
      "cell_type": "code",
      "source": [
        "import torchvision\n",
        "import torchvision.transforms as transforms\n",
        "\n",
        "trainset_mnist = torchvision.datasets.MNIST(root='./data', train=True, transform=transforms.ToTensor(), download=True)\n",
        "testset_mnist = torchvision.datasets.MNIST(root='./data', train=False, transform=transforms.ToTensor(), download=True)"
      ],
      "metadata": {
        "id": "prLJzFheOP_8",
        "colab": {
          "base_uri": "https://localhost:8080/"
        },
        "outputId": "5234f633-6082-4851-c1f3-fa0d50ed14d2"
      },
      "execution_count": null,
      "outputs": [
        {
          "output_type": "stream",
          "name": "stdout",
          "text": [
            "Downloading http://yann.lecun.com/exdb/mnist/train-images-idx3-ubyte.gz\n",
            "Downloading http://yann.lecun.com/exdb/mnist/train-images-idx3-ubyte.gz to ./data/MNIST/raw/train-images-idx3-ubyte.gz\n"
          ]
        },
        {
          "output_type": "stream",
          "name": "stderr",
          "text": [
            "100%|██████████| 9912422/9912422 [00:00<00:00, 105949403.16it/s]\n"
          ]
        },
        {
          "output_type": "stream",
          "name": "stdout",
          "text": [
            "Extracting ./data/MNIST/raw/train-images-idx3-ubyte.gz to ./data/MNIST/raw\n",
            "\n",
            "Downloading http://yann.lecun.com/exdb/mnist/train-labels-idx1-ubyte.gz\n",
            "Downloading http://yann.lecun.com/exdb/mnist/train-labels-idx1-ubyte.gz to ./data/MNIST/raw/train-labels-idx1-ubyte.gz\n"
          ]
        },
        {
          "output_type": "stream",
          "name": "stderr",
          "text": [
            "100%|██████████| 28881/28881 [00:00<00:00, 91978507.08it/s]\n"
          ]
        },
        {
          "output_type": "stream",
          "name": "stdout",
          "text": [
            "Extracting ./data/MNIST/raw/train-labels-idx1-ubyte.gz to ./data/MNIST/raw\n",
            "\n",
            "Downloading http://yann.lecun.com/exdb/mnist/t10k-images-idx3-ubyte.gz\n",
            "Downloading http://yann.lecun.com/exdb/mnist/t10k-images-idx3-ubyte.gz to ./data/MNIST/raw/t10k-images-idx3-ubyte.gz\n"
          ]
        },
        {
          "output_type": "stream",
          "name": "stderr",
          "text": [
            "100%|██████████| 1648877/1648877 [00:00<00:00, 24368633.86it/s]\n"
          ]
        },
        {
          "output_type": "stream",
          "name": "stdout",
          "text": [
            "Extracting ./data/MNIST/raw/t10k-images-idx3-ubyte.gz to ./data/MNIST/raw\n",
            "\n",
            "Downloading http://yann.lecun.com/exdb/mnist/t10k-labels-idx1-ubyte.gz\n",
            "Downloading http://yann.lecun.com/exdb/mnist/t10k-labels-idx1-ubyte.gz to ./data/MNIST/raw/t10k-labels-idx1-ubyte.gz\n"
          ]
        },
        {
          "output_type": "stream",
          "name": "stderr",
          "text": [
            "100%|██████████| 4542/4542 [00:00<00:00, 21238047.68it/s]"
          ]
        },
        {
          "output_type": "stream",
          "name": "stdout",
          "text": [
            "Extracting ./data/MNIST/raw/t10k-labels-idx1-ubyte.gz to ./data/MNIST/raw\n",
            "\n"
          ]
        },
        {
          "output_type": "stream",
          "name": "stderr",
          "text": [
            "\n"
          ]
        }
      ]
    },
    {
      "cell_type": "markdown",
      "source": [
        "###Dataloader\n",
        "\n",
        "After the dataset is prepared, we need an appropriate tool to process the data.\n",
        "We use ```torch.utils.data.DataLoader``` module for the purpose.\n",
        "\n",
        "\n",
        "* **dataset**(Dataset) - dataset.\n",
        "* **batch_size**(int) - how many samples per mini-batch to load.\n",
        "* **sampler**(Sampler) - defines the strategy to draw samples from the dataset.\n",
        "\n",
        "In our case, sampler will be used to train a part of the dataset. This will speed up the process. If you want to run the code with more samples, increase ```ratio_split = data_ratio``` ($< 1$) or set ```sampler = None```.\n",
        "\n",
        "https://pytorch.org/docs/stable/data.html#torch.utils.data.DataLoader\n"
      ],
      "metadata": {
        "id": "BYiTDj0GOhL0"
      }
    },
    {
      "cell_type": "code",
      "source": [
        "import numpy as np\n",
        "from torch.utils.data import DataLoader\n",
        "from torch.utils.data.sampler import SubsetRandomSampler\n",
        "\n",
        "def dataset_sampler(ratio_split, len_dataset):\n",
        "\n",
        "    # set parameter\n",
        "    offset_split = int(np.floor(ratio_split * len_dataset))\n",
        "    indices = list(range(len_dataset))\n",
        "\n",
        "    # shuffle\n",
        "    np.random.shuffle(indices)\n",
        "\n",
        "    # set samplers\n",
        "    sampler = SubsetRandomSampler(indices[:offset_split])\n",
        "\n",
        "    return sampler\n",
        "\n",
        "data_ratio = 0.1\n",
        "batch_size = 8\n",
        "\n",
        "\n",
        "train_sampler = dataset_sampler(data_ratio, len(trainset_mnist))\n",
        "train_loader = DataLoader(dataset = trainset_mnist, batch_size = batch_size, sampler=train_sampler)\n",
        "test_loader = DataLoader(dataset = testset_mnist, batch_size = batch_size)"
      ],
      "metadata": {
        "id": "hYciiJdwOh5a"
      },
      "execution_count": null,
      "outputs": []
    },
    {
      "cell_type": "markdown",
      "source": [
        "### Visualizer\n",
        "Let us show what the dataset contains and how the dataloader works.\n",
        "The results should show what the images are."
      ],
      "metadata": {
        "id": "fYwLPhCfOoGd"
      }
    },
    {
      "cell_type": "code",
      "source": [
        "%matplotlib inline\n",
        "import matplotlib.pyplot as plt\n",
        "\n",
        "# get some images\n",
        "\n",
        "dataiter = iter(train_loader)\n",
        "images, labels = next(dataiter)\n",
        "\n",
        "# functions setting to show an image\n",
        "\n",
        "plt.rcParams['figure.figsize'] = (10, 10)\n",
        "plt.rcParams['image.cmap'] = 'gray'\n",
        "\n",
        "# show images\n",
        "plt.imshow(torchvision.utils.make_grid(images).permute(1,2,0))\n",
        "# print labels\n",
        "print('  '+' '.join('%7s' % labels[j].item() for j in range(8)))\n"
      ],
      "metadata": {
        "colab": {
          "base_uri": "https://localhost:8080/",
          "height": 185
        },
        "id": "wEHMnwfFOoq6",
        "outputId": "b33c47a8-2d0c-46d2-c420-f4d3fd167ff9"
      },
      "execution_count": null,
      "outputs": [
        {
          "output_type": "stream",
          "name": "stdout",
          "text": [
            "        7       2       2       1       1       5       2       1\n"
          ]
        },
        {
          "output_type": "display_data",
          "data": {
            "text/plain": [
              "<Figure size 1000x1000 with 1 Axes>"
            ],
            "image/png": "[encoded data removed]"
          },
          "metadata": {}
        }
      ]
    },
    {
      "cell_type": "markdown",
      "source": [
        "#Implemeting a neural network\n"
      ],
      "metadata": {
        "id": "fAFDewwtUeDS"
      }
    },
    {
      "cell_type": "markdown",
      "source": [
        "## 1. Define a network\n",
        "### Design your network - multiclass classifier\n",
        "\n",
        "Our final goal is to obtain a neural network that distinguish images of numbers.\n",
        "* When the input of the network is an image of a number, the output should be a vector of 10 elements, which $i$th component representing probability of the given input being an image of number $i$ - like logistic regression.  \n",
        "\n",
        "\n",
        "* Whether elements in the vector satisfy the axiom of probability(i.e., $0\\le p_i\\le 1, \\sum p_i =1$) does not matter right now. We will see why.\n"
      ],
      "metadata": {
        "id": "8FZh88v6OtEM"
      }
    },
    {
      "cell_type": "code",
      "source": [
        "import torch\n",
        "import torch.nn as nn\n",
        "import torch.nn.functional as F\n",
        "\n",
        "class MyNetwork(nn.Module):\n",
        "    def __init__(self, params):\n",
        "        super(MyNetwork, self).__init__()\n",
        "        self.data_size = params['data_size']\n",
        "        self.hidden_units = params['hidden_units']\n",
        "        self.layers = nn.Sequential(\n",
        "            nn.Linear(self.data_size, self.hidden_units),\n",
        "            nn.ReLU(),\n",
        "            nn.Linear(self.hidden_units, 10))\n",
        "\n",
        "    def forward(self, x):\n",
        "\n",
        "        return F.softmax(self.layers(x), dim=1)"
      ],
      "metadata": {
        "id": "QoC8U4JrOtuC"
      },
      "execution_count": null,
      "outputs": []
    },
    {
      "cell_type": "markdown",
      "source": [
        "## 2. Loss function\n",
        "We designed a neural network with parameters. Then, a loss function is used to optimize parameters. One of basic options is **cross entropy loss**. Minimizing cross-entropy loss is equivalent to minimizing KL divergence, which measures the difference between two distributions.\n",
        "\n",
        "$$H(p,q) = -\\sum p(x) \\log q(x)$$\n",
        "\n",
        "In our case, we would get $q_i, i=0,...,9$ as an output of network. The target distribution $p$ is, $p_i(x) = 1$ if $x$ is an image of number $i$, and $p_i(x) = 0$ otherwise. That is, $p(y) = 1$ for some $y$, $H(p,q) = -\\log q(y)$\n",
        "\n",
        "\n",
        "Before getting to an example of computing cross-entropy loss using ```torch.nn```, the function is implemented in reality as following.\n",
        "\n",
        "$$loss(\\text{output}, label) = -\\text{output}[label] + \\log \\Big( \\sum_{i: \\text{ possible labels}} \\exp(\\text{output} (i)) \\Big) .$$\n",
        "\n",
        "As you see, the only difference is softmax function in ```nn.CrossEntropyLoss```. Therefore, we do not have to worry whether the output is larger than 1, or even less than 0. Note that all the computation is done parallel, sample-wise in mini-batch and then averaged.\n",
        "\n",
        "Here is an example of the function, classification of 4 categories, two samples in a mini-batch.\n",
        "Check the computed loss by ```criterion``` function. The result from concatenated one is an average of other two.\n",
        "\n",
        "\n",
        "https://pytorch.org/docs/stable/nn.html#torch.nn.CrossEntropyLoss"
      ],
      "metadata": {
        "id": "nwFH4ss1PbGM"
      }
    },
    {
      "cell_type": "code",
      "source": [
        "criterion = nn.CrossEntropyLoss()\n",
        "a = torch.tensor([[3, 0.1, -7, 0]])\n",
        "b = torch.tensor([[0.3, 0.1, -20, 100]])\n",
        "c = torch.cat((a,b))\n",
        "print(c)\n",
        "print(criterion(a, torch.tensor([0])).item())\n",
        "print(criterion(b, torch.tensor([2])).item())\n",
        "print(criterion(c, torch.tensor([0,2])).item())"
      ],
      "metadata": {
        "colab": {
          "base_uri": "https://localhost:8080/"
        },
        "id": "BnYqop8-Pc9b",
        "outputId": "ca925911-dbe3-4b8a-ed41-a765c705fc6c"
      },
      "execution_count": null,
      "outputs": [
        {
          "output_type": "stream",
          "name": "stdout",
          "text": [
            "tensor([[  3.0000,   0.1000,  -7.0000,   0.0000],\n",
            "        [  0.3000,   0.1000, -20.0000, 100.0000]])\n",
            "0.09971469640731812\n",
            "120.0\n",
            "60.04985809326172\n"
          ]
        }
      ]
    },
    {
      "cell_type": "markdown",
      "source": [
        "## 3. Train\n",
        "### Optimizer\n",
        "Let us optimize our parameters of network with the loss function. As soon as we compute loss of output of network, autograd leaves mark of operations, so ```backward()```\n",
        "computes a gradient in parameter space.\n",
        "This is what we have learned in pytorch tutorial previously. ```torch.optim``` class is initialized with parameters of a network, and ```step()``` method modifies parameters simultaneously by the computed gradient. Next, using ```zero_grad()```, we delete the recorded gradient for next optmization step. We will see how these items are organized in training step.\n",
        "\n",
        "### Hyperparameter\n",
        "Before diving into the training process, we have to determine hyperparameters. For example, the number of epochs for training, a optimizer to employ, and magnitude of learning rate for the optimizer. Of course, the number of samples and images to load in one mini-batch are all hyperparameters - even designing network architecture.\n",
        "\n",
        "The following are some hyperparameters that we mainly adjust during training.\n",
        "*  **epoch** : the number of iterations for the whole dataset in gradient descent\n",
        "*   **loss_show_freq** : interval of recording average loss during training\n",
        "*   **learning_rate** : step size of gradient descent (parameter of optimizer)"
      ],
      "metadata": {
        "id": "vTwEfqdvPgWM"
      }
    },
    {
      "cell_type": "code",
      "source": [
        "# hyperparameters\n",
        "epoch = 300\n",
        "loss_show_freq = 2\n",
        "learning_rate = 0.005"
      ],
      "metadata": {
        "id": "MBthwyKkPgvX"
      },
      "execution_count": null,
      "outputs": []
    },
    {
      "cell_type": "markdown",
      "source": [
        "The following code calls a network, a loss, and an optimizer. Then, the network is trained. After the training is finished, the graph of average loss appears."
      ],
      "metadata": {
        "id": "kBVG05mXPqck"
      }
    },
    {
      "cell_type": "code",
      "source": [
        "import time\n",
        "\n",
        "print(\"\\n>> TRAIN \")\n",
        "params = {'data_size': 784,\n",
        "         'hidden_units' : 256}\n",
        "loss_arr=[]\n",
        "\n",
        "device = torch.device(\"cuda:0\" if(torch.cuda.is_available()) else \"cpu\")\n",
        "print(device, \" will be used.\\n\")\n",
        "\n",
        "net = MyNetwork(params).to(device)\n",
        "criterion = nn.CrossEntropyLoss()\n",
        "optimizer = torch.optim.SGD(net.parameters(), lr=learning_rate)\n",
        "\n",
        "\n",
        "for i in range(epoch):\n",
        "    loss_sum = 0\n",
        "    if (i == 0):\n",
        "        t1 = time.time()\n",
        "\n",
        "    for j, [image, label] in enumerate(train_loader):\n",
        "        # Get batch size.\n",
        "        bs = image.size(0)\n",
        "        # Flatten the image.\n",
        "        image = image.view(bs, -1).to(device)\n",
        "        label = label.to(device)\n",
        "        optimizer.zero_grad()\n",
        "        result = net.forward(image)\n",
        "        loss = criterion(result, label)\n",
        "\n",
        "        loss.backward()\n",
        "        optimizer.step()\n",
        "\n",
        "        loss_sum += loss.item()\n",
        "\n",
        "    # Loss #######\n",
        "    loss_mean = loss_sum * (batch_size / (data_ratio * (len(trainset_mnist))))\n",
        "    loss_arr.append(loss_mean)\n",
        "    if ((i+1)%loss_show_freq==0):\n",
        "        print('Epoch[%d] Loss = %f'%((i+1), loss_mean))\n",
        "\n",
        "    # time #######\n",
        "    if (i == 0):\n",
        "        t2 = time.time()\n",
        "        duration = t2-t1\n",
        "        train_time = duration * epoch\n",
        "        print(\">> %d second / %d minutes expected \" % (train_time, train_time / 60))\n",
        "\n",
        "plt.figure(1)\n",
        "plt.plot(loss_arr)\n",
        "plt.show()"
      ],
      "metadata": {
        "colab": {
          "base_uri": "https://localhost:8080/",
          "height": 1000
        },
        "id": "MocL8TIFPqi2",
        "outputId": "d8f7d773-2dd5-4cd3-a9eb-805f24b80d13"
      },
      "execution_count": null,
      "outputs": [
        {
          "output_type": "stream",
          "name": "stdout",
          "text": [
            "\n",
            ">> TRAIN \n",
            "cuda:0  will be used.\n",
            "\n",
            ">> 868 second / 14 minutes expected \n",
            "Epoch[2] Loss = 2.285884\n",
            "Epoch[4] Loss = 2.223319\n",
            "Epoch[6] Loss = 2.126781\n",
            "Epoch[8] Loss = 1.953934\n",
            "Epoch[10] Loss = 1.833696\n",
            "Epoch[12] Loss = 1.787800\n",
            "Epoch[14] Loss = 1.765039\n",
            "Epoch[16] Loss = 1.750976\n",
            "Epoch[18] Loss = 1.741058\n",
            "Epoch[20] Loss = 1.733207\n",
            "Epoch[22] Loss = 1.709674\n",
            "Epoch[24] Loss = 1.684438\n",
            "Epoch[26] Loss = 1.671807\n",
            "Epoch[28] Loss = 1.662994\n",
            "Epoch[30] Loss = 1.656164\n",
            "Epoch[32] Loss = 1.650588\n",
            "Epoch[34] Loss = 1.645959\n",
            "Epoch[36] Loss = 1.642161\n",
            "Epoch[38] Loss = 1.638847\n",
            "Epoch[40] Loss = 1.635937\n",
            "Epoch[42] Loss = 1.633331\n",
            "Epoch[44] Loss = 1.630906\n",
            "Epoch[46] Loss = 1.628856\n",
            "Epoch[48] Loss = 1.626894\n",
            "Epoch[50] Loss = 1.625104\n",
            "Epoch[52] Loss = 1.623495\n",
            "Epoch[54] Loss = 1.621870\n",
            "Epoch[56] Loss = 1.620566\n",
            "Epoch[58] Loss = 1.619195\n",
            "Epoch[60] Loss = 1.617983\n",
            "Epoch[62] Loss = 1.616798\n",
            "Epoch[64] Loss = 1.615563\n",
            "Epoch[66] Loss = 1.614624\n",
            "Epoch[68] Loss = 1.613595\n",
            "Epoch[70] Loss = 1.612618\n",
            "Epoch[72] Loss = 1.611653\n",
            "Epoch[74] Loss = 1.610765\n",
            "Epoch[76] Loss = 1.609987\n",
            "Epoch[78] Loss = 1.609101\n",
            "Epoch[80] Loss = 1.608342\n",
            "Epoch[82] Loss = 1.607597\n",
            "Epoch[84] Loss = 1.606863\n",
            "Epoch[86] Loss = 1.606182\n",
            "Epoch[88] Loss = 1.605495\n",
            "Epoch[90] Loss = 1.604904\n",
            "Epoch[92] Loss = 1.604285\n",
            "Epoch[94] Loss = 1.603627\n",
            "Epoch[96] Loss = 1.603132\n",
            "Epoch[98] Loss = 1.602558\n",
            "Epoch[100] Loss = 1.602004\n",
            "Epoch[102] Loss = 1.601505\n",
            "Epoch[104] Loss = 1.600996\n",
            "Epoch[106] Loss = 1.600455\n",
            "Epoch[108] Loss = 1.599995\n",
            "Epoch[110] Loss = 1.599487\n",
            "Epoch[112] Loss = 1.599062\n",
            "Epoch[114] Loss = 1.598635\n",
            "Epoch[116] Loss = 1.598224\n",
            "Epoch[118] Loss = 1.597797\n",
            "Epoch[120] Loss = 1.597321\n",
            "Epoch[122] Loss = 1.596886\n",
            "Epoch[124] Loss = 1.596477\n",
            "Epoch[126] Loss = 1.595944\n",
            "Epoch[128] Loss = 1.595210\n",
            "Epoch[130] Loss = 1.592186\n",
            "Epoch[132] Loss = 1.571453\n",
            "Epoch[134] Loss = 1.561755\n",
            "Epoch[136] Loss = 1.555282\n",
            "Epoch[138] Loss = 1.550902\n",
            "Epoch[140] Loss = 1.547642\n",
            "Epoch[142] Loss = 1.544842\n",
            "Epoch[144] Loss = 1.542218\n",
            "Epoch[146] Loss = 1.540329\n",
            "Epoch[148] Loss = 1.538493\n",
            "Epoch[150] Loss = 1.536803\n",
            "Epoch[152] Loss = 1.535276\n",
            "Epoch[154] Loss = 1.533787\n",
            "Epoch[156] Loss = 1.532427\n",
            "Epoch[158] Loss = 1.531160\n",
            "Epoch[160] Loss = 1.529834\n",
            "Epoch[162] Loss = 1.528643\n",
            "Epoch[164] Loss = 1.527535\n",
            "Epoch[166] Loss = 1.526482\n",
            "Epoch[168] Loss = 1.525407\n",
            "Epoch[170] Loss = 1.524505\n",
            "Epoch[172] Loss = 1.523459\n",
            "Epoch[174] Loss = 1.522702\n",
            "Epoch[176] Loss = 1.521810\n",
            "Epoch[178] Loss = 1.521015\n",
            "Epoch[180] Loss = 1.520259\n",
            "Epoch[182] Loss = 1.519585\n",
            "Epoch[184] Loss = 1.518852\n",
            "Epoch[186] Loss = 1.518185\n",
            "Epoch[188] Loss = 1.517504\n",
            "Epoch[190] Loss = 1.516908\n",
            "Epoch[192] Loss = 1.516327\n",
            "Epoch[194] Loss = 1.515734\n",
            "Epoch[196] Loss = 1.515204\n",
            "Epoch[198] Loss = 1.514700\n",
            "Epoch[200] Loss = 1.514130\n",
            "Epoch[202] Loss = 1.513637\n",
            "Epoch[204] Loss = 1.513175\n",
            "Epoch[206] Loss = 1.512672\n",
            "Epoch[208] Loss = 1.512178\n",
            "Epoch[210] Loss = 1.511766\n",
            "Epoch[212] Loss = 1.511254\n",
            "Epoch[214] Loss = 1.510886\n",
            "Epoch[216] Loss = 1.510487\n",
            "Epoch[218] Loss = 1.510035\n",
            "Epoch[220] Loss = 1.509592\n",
            "Epoch[222] Loss = 1.509151\n",
            "Epoch[224] Loss = 1.508795\n",
            "Epoch[226] Loss = 1.508438\n",
            "Epoch[228] Loss = 1.508067\n",
            "Epoch[230] Loss = 1.507669\n",
            "Epoch[232] Loss = 1.507329\n",
            "Epoch[234] Loss = 1.507003\n",
            "Epoch[236] Loss = 1.506640\n",
            "Epoch[238] Loss = 1.506267\n",
            "Epoch[240] Loss = 1.505985\n",
            "Epoch[242] Loss = 1.505686\n",
            "Epoch[244] Loss = 1.505359\n",
            "Epoch[246] Loss = 1.504986\n",
            "Epoch[248] Loss = 1.504711\n",
            "Epoch[250] Loss = 1.504453\n",
            "Epoch[252] Loss = 1.504152\n",
            "Epoch[254] Loss = 1.503885\n",
            "Epoch[256] Loss = 1.503584\n",
            "Epoch[258] Loss = 1.503336\n",
            "Epoch[260] Loss = 1.503059\n",
            "Epoch[262] Loss = 1.502786\n",
            "Epoch[264] Loss = 1.502542\n",
            "Epoch[266] Loss = 1.502325\n",
            "Epoch[268] Loss = 1.502054\n",
            "Epoch[270] Loss = 1.501826\n",
            "Epoch[272] Loss = 1.501567\n",
            "Epoch[274] Loss = 1.501357\n",
            "Epoch[276] Loss = 1.501142\n",
            "Epoch[278] Loss = 1.500910\n",
            "Epoch[280] Loss = 1.500692\n",
            "Epoch[282] Loss = 1.500480\n",
            "Epoch[284] Loss = 1.500250\n",
            "Epoch[286] Loss = 1.500065\n",
            "Epoch[288] Loss = 1.499837\n",
            "Epoch[290] Loss = 1.499643\n",
            "Epoch[292] Loss = 1.499470\n",
            "Epoch[294] Loss = 1.499260\n",
            "Epoch[296] Loss = 1.499063\n",
            "Epoch[298] Loss = 1.498877\n",
            "Epoch[300] Loss = 1.498692\n"
          ]
        },
        {
          "output_type": "display_data",
          "data": {
            "text/plain": [
              "<Figure size 1000x1000 with 1 Axes>"
            ],
            "image/png": "[encoded data removed]"
          },
          "metadata": {}
        }
      ]
    },
    {
      "cell_type": "markdown",
      "source": [
        "## 4. Test\n",
        "We can test performance of the trained network. Notice that we use another dataloader, ```test_loader```"
      ],
      "metadata": {
        "id": "VB_dGNIdPurE"
      }
    },
    {
      "cell_type": "code",
      "source": [
        "print(\"\\n>> TEST \")\n",
        "net.eval()\n",
        "correct = 0\n",
        "total = 0\n",
        "\n",
        "for image, label in test_loader:\n",
        "    #image = Variable(image)#.cuda()\n",
        "    bs = image.size(0)\n",
        "    # Flatten the image.\n",
        "    image = image.view(bs, -1).to(device)\n",
        "    label = label.to(device)\n",
        "    result = net(image)#.cuda()\n",
        "    _, predicted = torch.max(result.data, 1)\n",
        "    total += label.size(0)\n",
        "    correct += (predicted == label).sum()#.cuda()).sum()\n",
        "print(' Test Accuracy of the model on the 10000 test images:  %f %%' % (100 * correct / total))\n",
        "\n"
      ],
      "metadata": {
        "colab": {
          "base_uri": "https://localhost:8080/"
        },
        "id": "sY3Wo3d9PxdI",
        "outputId": "25a43418-ace4-4c34-f683-a005c03edfbe"
      },
      "execution_count": null,
      "outputs": [
        {
          "output_type": "stream",
          "name": "stdout",
          "text": [
            "\n",
            ">> TEST \n",
            " Test Accuracy of the model on the 10000 test images:  92.809998 %\n"
          ]
        }
      ]
    },
    {
      "cell_type": "markdown",
      "source": [
        "#  HOMEWORK\n",
        "\n",
        "Using the above, you create a Fully Connected Neural Network or Convolutional Neural Network to learn the MNIST dataset.\n",
        "\n",
        "Your network should satisfy\n",
        "\n",
        "\n",
        "1.   the number of hidden layers of the neural network is larger than 2\n",
        "2.   the test accuracy should exeed 94%.\n",
        "\n",
        "\n",
        "Hint :\n",
        "\n",
        "\n",
        "\n",
        "*   You can find a lot of examples in google or github. It is fine to adapt those examples in our model. but you should not copy them totally.\n",
        "*   In the pytorch documents, you can find definitions of the parameters in pytorch. Please visit the official site.\n",
        "*   For example, you can change **epoch**, **learning rate**, **loss function** , **structure of the neural networks** **,the size of the batch** , **optimizer** and so on. (For later Homeworks, I recommand you try to do these.\n",
        "*   If you want to use another tools such as keras, tensorflow etc, it is ok but you have to explain the each code you wrote.\n",
        "\n",
        "\n",
        "\n",
        "https://pytorch.org/docs/stable/index.html\n",
        "\n",
        "\n",
        "\n",
        "\n",
        "\n",
        "\n"
      ],
      "metadata": {
        "id": "up2JzA6CPvU_"
      }
    },
    {
      "cell_type": "code",
      "source": [
        "import torch\n",
        "import torch.nn as nn\n",
        "import torch.nn.functional as F\n",
        "\n",
        "class MyNetwork(nn.Module):\n",
        "    def __init__(self, params):\n",
        "        super(MyNetwork, self).__init__()\n",
        "        self.data_size = params['data_size']\n",
        "\n",
        "        # First Hidden Layer: Convolutional layer, ReLU & MaxPool\n",
        "\n",
        "        self.layer1 = nn.Sequential(\n",
        "            nn.Conv2d(in_channels = 1, out_channels = 32, kernel_size = 3, stride = 1, padding = 0),\n",
        "            nn.ReLU(),\n",
        "            nn.MaxPool2d(kernel_size=2, stride=2)\n",
        "            )\n",
        "\n",
        "        # Second Hidden Layer: Convolutional layer, ReLU & MaxPool\n",
        "\n",
        "        self.layer2 = nn.Sequential(\n",
        "            nn.Conv2d(in_channels = 32, out_channels = 64, kernel_size = 3, stride = 1, padding = 0),\n",
        "            nn.ReLU(),\n",
        "            nn.MaxPool2d(kernel_size=2, stride=2)\n",
        "        )\n",
        "\n",
        "        # Last Hidden Layer: Linear layer\n",
        "\n",
        "        self.fc = nn.Linear(5 * 5 * 64, 10, bias=True)  # Stride와 MaxPooling 이후로 data가 28*28에서 5*5로 변환됨.\n",
        "\n",
        "        # initialize the weight for the linear layer\n",
        "        nn.init.xavier_uniform_(self.fc.weight)\n",
        "\n",
        "\n",
        "    def forward(self, x):\n",
        "\n",
        "        out = self.layer1(x)\n",
        "        out = self.layer2(out)\n",
        "        out = out.view(out.size(0), -1)   # 전결합층을 위해서 Flatten\n",
        "        out = self.fc(out)\n",
        "\n",
        "        return out"
      ],
      "metadata": {
        "id": "unZnTD1eRJqZ"
      },
      "execution_count": null,
      "outputs": []
    },
    {
      "cell_type": "code",
      "source": [
        "# hyperparameters , you have to set proper hyperparameters. It is ok using the above.\n",
        "epoch = 20\n",
        "learning_rate = 0.005"
      ],
      "metadata": {
        "id": "jzrsvt9UTQmr"
      },
      "execution_count": null,
      "outputs": []
    },
    {
      "cell_type": "code",
      "source": [
        "import time\n",
        "\n",
        "print(\"\\n>> TRAIN \")\n",
        "params = {'data_size': 784,\n",
        "          }\n",
        "loss_arr=[]\n",
        "\n",
        "device = torch.device(\"cuda:0\" if(torch.cuda.is_available()) else \"cpu\")\n",
        "print(device, \" will be used.\\n\")\n",
        "\n",
        "net = MyNetwork(params).to(device)\n",
        "criterion = nn.CrossEntropyLoss()\n",
        "optimizer = torch.optim.SGD(net.parameters(), lr=learning_rate)\n",
        "\n",
        "\n",
        "for i in range(epoch):\n",
        "    loss_sum = 0\n",
        "    if (i == 0):\n",
        "        t1 = time.time()\n",
        "\n",
        "    for j, [image, label] in enumerate(train_loader):\n",
        "        # Get batch size.\n",
        "        bs = image.size(0)\n",
        "        # Flatten the image.\n",
        "        # image = image.view(bs, -1).to(device)\n",
        "        image = image.to(device)\n",
        "        label = label.to(device)\n",
        "        optimizer.zero_grad()\n",
        "        result = net.forward(image)\n",
        "        loss = criterion(result, label)\n",
        "\n",
        "        loss.backward()\n",
        "        optimizer.step()\n",
        "\n",
        "        loss_sum += loss.item()\n",
        "\n",
        "    # Loss #######\n",
        "    loss_mean = loss_sum * (batch_size / (data_ratio * (len(trainset_mnist))))\n",
        "    loss_arr.append(loss_mean)\n",
        "    if ((i+1)%loss_show_freq==0):\n",
        "        print('Epoch[%d] Loss = %f'%((i+1), loss_mean))\n",
        "\n",
        "    # time #######\n",
        "    if (i == 0):\n",
        "        t2 = time.time()\n",
        "        duration = t2-t1\n",
        "        train_time = duration * epoch\n",
        "        print(\">> %d second / %d minutes expected \" % (train_time, train_time / 60))\n",
        "\n",
        "plt.figure(1)\n",
        "plt.plot(loss_arr)\n",
        "plt.show()"
      ],
      "metadata": {
        "id": "UVA6OPJ9RJ-U",
        "colab": {
          "base_uri": "https://localhost:8080/",
          "height": 1000
        },
        "outputId": "4f229be5-b13e-4af6-9f38-07096c72cb7d"
      },
      "execution_count": null,
      "outputs": [
        {
          "output_type": "stream",
          "name": "stdout",
          "text": [
            "\n",
            ">> TRAIN \n",
            "cuda:0  will be used.\n",
            "\n",
            ">> 49 second / 0 minutes expected \n",
            "Epoch[2] Loss = 0.423288\n",
            "Epoch[4] Loss = 0.246612\n",
            "Epoch[6] Loss = 0.175529\n",
            "Epoch[8] Loss = 0.134614\n",
            "Epoch[10] Loss = 0.108887\n",
            "Epoch[12] Loss = 0.091303\n",
            "Epoch[14] Loss = 0.078488\n",
            "Epoch[16] Loss = 0.067198\n",
            "Epoch[18] Loss = 0.058896\n",
            "Epoch[20] Loss = 0.050925\n"
          ]
        },
        {
          "output_type": "display_data",
          "data": {
            "text/plain": [
              "<Figure size 1000x1000 with 1 Axes>"
            ],
            "image/png": "[encoded data removed]"
          },
          "metadata": {}
        }
      ]
    },
    {
      "cell_type": "code",
      "source": [
        "print(\"\\n>> TEST \")\n",
        "net.eval()\n",
        "correct = 0\n",
        "total = 0\n",
        "\n",
        "for image, label in test_loader:\n",
        "    #image = Variable(image)#.cuda()\n",
        "    bs = image.size(0)\n",
        "    # Flatten the image.\n",
        "    # image = image.view(bs, -1).to(device)\n",
        "    image = image.to(device)\n",
        "    label = label.to(device)\n",
        "    result = net(image)#.cuda()\n",
        "    _, predicted = torch.max(result.data, 1)\n",
        "    total += label.size(0)\n",
        "    correct += (predicted == label).sum()#.cuda()).sum()\n",
        "print(' Test Accuracy of the model on the 10000 test images:  %f %%' % (100 * correct / total))\n",
        "\n"
      ],
      "metadata": {
        "id": "9pgTm7MjRKFh",
        "colab": {
          "base_uri": "https://localhost:8080/"
        },
        "outputId": "7cc0761a-bfca-457a-8baa-57dbe537b965"
      },
      "execution_count": null,
      "outputs": [
        {
          "output_type": "stream",
          "name": "stdout",
          "text": [
            "\n",
            ">> TEST \n",
            " Test Accuracy of the model on the 10000 test images:  97.309998 %\n"
          ]
        }
      ]
    },
    {
      "cell_type": "code",
      "source": [],
      "metadata": {
        "id": "GROM-IyXJbDf"
      },
      "execution_count": null,
      "outputs": []
    }
  ]
}