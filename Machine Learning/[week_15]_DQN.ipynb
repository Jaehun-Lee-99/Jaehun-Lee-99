{
  "cells": [
    {
      "cell_type": "markdown",
      "metadata": {
        "id": "AoloL9b4QzfL"
      },
      "source": [
        "# **[Week 15] Deep Q-Network (DQN)**\n",
        "\n",
        "In this practice session, we will cover the following:\n",
        "- Deep Q-Network\n",
        "\n",
        "&nbsp;\n",
        "\n",
        "**[Important]** The results of exercises should be included in your weekly report for this practice session. The weekly report for this session should be submitted on KLMS by this friday. No late submission would be accepted."
      ]
    },
    {
      "cell_type": "markdown",
      "metadata": {
        "id": "MpM0xG5SWVlr"
      },
      "source": [
        "## 0. Preview\n",
        "\n",
        "![demo](https://www.gymlibrary.dev/_images/cart_pole.gif)\n",
        "\n",
        "**Cartpole** is a problem of maintaining balance by pushing the cart to the left or right. When DQN (and other RL algorithms) is applied to this game, it autonomously learns by repeatedly remembering and replaying experiences, gradually developing strategies.\n",
        "\n",
        "&nbsp;\n",
        "\n",
        "As learned in the lecture, in order to apply RL algorithms, the environment must be clearly defined in terms of states, actions, and rewards.\n",
        "\n",
        "### Let's analyze the state, action, and reward of Cartpole.\n",
        "\n",
        "&nbsp;\n",
        "\n",
        "**Checking the overall environment setup**\n",
        "\n",
        "![](https://drive.google.com/uc?export=view&id=1mp0pl6R6kuR0W38zsSmEDR4PwmVRiqiK)\n",
        "\n",
        "&nbsp;\n",
        "\n",
        "**State space**: Current position, angle of the pole, velocity, angle velocity of the pole (four numbers in four dimensions).\n",
        "\n",
        "![](https://drive.google.com/uc?export=view&id=1ofqlrfpEAXRQ9klns_gHjuzWrGfrBMQC)\n",
        "\n",
        "\n",
        "&nbsp;\n",
        "\n",
        "**Action space**: Push to the right or left.\n",
        "\n",
        "![](https://drive.google.com/uc?export=view&id=1APePl4WaoP4qdH5hO1zt3-79JiB-i7RX)\n",
        "\n",
        "&nbsp;\n",
        "\n",
        "**Reward function**: Receives a reward of +1 at each time step.\n",
        "If the pole tilts more than 2.4 units from the center, the episode terminates."
      ]
    },
    {
      "cell_type": "markdown",
      "metadata": {
        "id": "-AGuKmA6Wnl-"
      },
      "source": [
        "Next, let's define the CartPole environment using the gym library. We can confirm that the state space and action space match what we analyzed earlier."
      ]
    },
    {
      "cell_type": "code",
      "execution_count": null,
      "metadata": {
        "id": "sQr8KCmHsAee"
      },
      "outputs": [],
      "source": [
        "# import required libraries\n",
        "import gym\n",
        "import numpy as np\n",
        "import collections\n",
        "import random\n",
        "import matplotlib.pyplot as plt\n",
        "%matplotlib inline\n",
        "\n",
        "import torch\n",
        "import torch.nn as nn\n",
        "import torch.nn.functional as F\n",
        "import torch.optim as optim"
      ]
    },
    {
      "cell_type": "code",
      "execution_count": null,
      "metadata": {
        "id": "0vRUssCovJe-",
        "colab": {
          "base_uri": "https://localhost:8080/"
        },
        "outputId": "13c320df-9d7e-4187-a72f-e0e29f0eff05"
      },
      "outputs": [
        {
          "output_type": "stream",
          "name": "stderr",
          "text": [
            "/usr/local/lib/python3.10/dist-packages/ipykernel/ipkernel.py:283: DeprecationWarning: `should_run_async` will not call `transform_cell` automatically in the future. Please pass the result to `transformed_cell` argument and any exception that happen during thetransform in `preprocessing_exc_tuple` in IPython 7.17 and above.\n",
            "  and should_run_async(code)\n"
          ]
        },
        {
          "output_type": "stream",
          "name": "stdout",
          "text": [
            "Requirement already satisfied: gym==0.25.2 in /usr/local/lib/python3.10/dist-packages (0.25.2)\n",
            "Requirement already satisfied: numpy>=1.18.0 in /usr/local/lib/python3.10/dist-packages (from gym==0.25.2) (1.23.5)\n",
            "Requirement already satisfied: cloudpickle>=1.2.0 in /usr/local/lib/python3.10/dist-packages (from gym==0.25.2) (2.2.1)\n",
            "Requirement already satisfied: gym-notices>=0.0.4 in /usr/local/lib/python3.10/dist-packages (from gym==0.25.2) (0.0.8)\n"
          ]
        }
      ],
      "source": [
        "!pip install gym==0.25.2"
      ]
    },
    {
      "cell_type": "code",
      "execution_count": null,
      "metadata": {
        "id": "Liw8eX7OWXpj",
        "colab": {
          "base_uri": "https://localhost:8080/"
        },
        "outputId": "d7d2f142-3d7f-4751-92d2-b3647de49997"
      },
      "outputs": [
        {
          "output_type": "stream",
          "name": "stdout",
          "text": [
            "state space dimension: 4\n",
            "action space dimension: 2\n"
          ]
        },
        {
          "output_type": "stream",
          "name": "stderr",
          "text": [
            "/usr/local/lib/python3.10/dist-packages/gym/envs/registration.py:593: UserWarning: \u001b[33mWARN: The environment CartPole-v0 is out of date. You should consider upgrading to version `v1`.\u001b[0m\n",
            "  logger.warn(\n",
            "/usr/local/lib/python3.10/dist-packages/gym/core.py:317: DeprecationWarning: \u001b[33mWARN: Initializing wrapper in old step API which returns one bool instead of two. It is recommended to set `new_step_api=True` to use new step API. This will be the default behaviour in future.\u001b[0m\n",
            "  deprecation(\n",
            "/usr/local/lib/python3.10/dist-packages/gym/wrappers/step_api_compatibility.py:39: DeprecationWarning: \u001b[33mWARN: Initializing environment in old step API which returns one bool instead of two. It is recommended to set `new_step_api=True` to use new step API. This will be the default behaviour in future.\u001b[0m\n",
            "  deprecation(\n"
          ]
        }
      ],
      "source": [
        "env = gym.make('CartPole-v0')\n",
        "\n",
        "state_dim = env.observation_space.shape[0]\n",
        "action_dim = env.action_space.n\n",
        "\n",
        "print(\"state space dimension: {}\".format(state_dim))\n",
        "print(\"action space dimension: {}\".format(action_dim))"
      ]
    },
    {
      "cell_type": "markdown",
      "metadata": {
        "id": "950kOExaMdFX"
      },
      "source": [
        "Checking Built-in Methods in the **env**.\n",
        "\n",
        "- The **env.reset()** function returns initial state information.\n",
        "- The **env.step(action)** function returns information about the \\<next state, reward, done (whether the episode is done or not), truncated (do not use)\\> information obtained after taking an action"
      ]
    },
    {
      "cell_type": "code",
      "execution_count": null,
      "metadata": {
        "id": "FkkrFo9GLtPC",
        "colab": {
          "base_uri": "https://localhost:8080/"
        },
        "outputId": "12e52359-5625-472a-80ed-ce2f125ce467"
      },
      "outputs": [
        {
          "output_type": "stream",
          "name": "stdout",
          "text": [
            "[ 0.04202547  0.03524836 -0.04448224 -0.01062784]\n",
            "(array([ 0.04273044, -0.15920837, -0.0446948 ,  0.26769525], dtype=float32), 1.0, False, {})\n"
          ]
        }
      ],
      "source": [
        "print(env.reset())\n",
        "\n",
        "action = env.action_space.sample()\n",
        "print(env.step(action))"
      ]
    },
    {
      "cell_type": "markdown",
      "metadata": {
        "id": "4uFP8Ln7Plx1"
      },
      "source": [
        "Before diving into the application of RL algorithms, let's visually witness how Cartpole reacts to actions in the rendering environment.\n",
        "\n",
        "To make this observation possible, a few library installations are necessary."
      ]
    },
    {
      "cell_type": "code",
      "execution_count": null,
      "metadata": {
        "id": "yL9Liq5oaV5-"
      },
      "outputs": [],
      "source": [
        "# Install xvfb & other dependencies\n",
        "!apt-get install x11-utils > /dev/null 2>&1\n",
        "!pip install pyglet > /dev/null 2>&1\n",
        "!apt-get install -y xvfb python-opengl > /dev/null 2>&1\n",
        "\n",
        "# As well as pyvirtual display\n",
        "!pip install gym pyvirtualdisplay > /dev/null 2>&1"
      ]
    },
    {
      "cell_type": "code",
      "execution_count": null,
      "metadata": {
        "id": "AC93Te_mrZCc"
      },
      "outputs": [],
      "source": [
        "# then import all your libraries, including matplotlib & ipythondisplay\n",
        "from IPython import display as ipythondisplay\n",
        "from pyvirtualdisplay import Display"
      ]
    },
    {
      "cell_type": "code",
      "execution_count": null,
      "metadata": {
        "id": "2lG-6OJXcjKO",
        "colab": {
          "base_uri": "https://localhost:8080/",
          "height": 352
        },
        "outputId": "9dda3777-1c0c-4a21-b379-dcd05c7e10b5"
      },
      "outputs": [
        {
          "output_type": "error",
          "ename": "FileNotFoundError",
          "evalue": "ignored",
          "traceback": [
            "\u001b[0;31m---------------------------------------------------------------------------\u001b[0m",
            "\u001b[0;31mFileNotFoundError\u001b[0m                         Traceback (most recent call last)",
            "\u001b[0;32m<ipython-input-7-ae3b8e5e1258>\u001b[0m in \u001b[0;36m<cell line: 1>\u001b[0;34m()\u001b[0m\n\u001b[0;32m----> 1\u001b[0;31m \u001b[0mDisplay\u001b[0m\u001b[0;34m(\u001b[0m\u001b[0mvisible\u001b[0m\u001b[0;34m=\u001b[0m\u001b[0;36m0\u001b[0m\u001b[0;34m,\u001b[0m \u001b[0msize\u001b[0m\u001b[0;34m=\u001b[0m\u001b[0;34m(\u001b[0m\u001b[0;36m400\u001b[0m\u001b[0;34m,\u001b[0m \u001b[0;36m300\u001b[0m\u001b[0;34m)\u001b[0m\u001b[0;34m)\u001b[0m\u001b[0;34m.\u001b[0m\u001b[0mstart\u001b[0m\u001b[0;34m(\u001b[0m\u001b[0;34m)\u001b[0m\u001b[0;34m\u001b[0m\u001b[0;34m\u001b[0m\u001b[0m\n\u001b[0m",
            "\u001b[0;32m/usr/local/lib/python3.10/dist-packages/pyvirtualdisplay/display.py\u001b[0m in \u001b[0;36m__init__\u001b[0;34m(self, backend, visible, size, color_depth, bgcolor, use_xauth, retries, extra_args, manage_global_env, **kwargs)\u001b[0m\n\u001b[1;32m     52\u001b[0m             \u001b[0;32mraise\u001b[0m \u001b[0mValueError\u001b[0m\u001b[0;34m(\u001b[0m\u001b[0;34m\"unknown backend: %s\"\u001b[0m \u001b[0;34m%\u001b[0m \u001b[0mself\u001b[0m\u001b[0;34m.\u001b[0m\u001b[0m_backend\u001b[0m\u001b[0;34m)\u001b[0m\u001b[0;34m\u001b[0m\u001b[0;34m\u001b[0m\u001b[0m\n\u001b[1;32m     53\u001b[0m \u001b[0;34m\u001b[0m\u001b[0m\n\u001b[0;32m---> 54\u001b[0;31m         self._obj = cls(\n\u001b[0m\u001b[1;32m     55\u001b[0m             \u001b[0msize\u001b[0m\u001b[0;34m=\u001b[0m\u001b[0msize\u001b[0m\u001b[0;34m,\u001b[0m\u001b[0;34m\u001b[0m\u001b[0;34m\u001b[0m\u001b[0m\n\u001b[1;32m     56\u001b[0m             \u001b[0mcolor_depth\u001b[0m\u001b[0;34m=\u001b[0m\u001b[0mcolor_depth\u001b[0m\u001b[0;34m,\u001b[0m\u001b[0;34m\u001b[0m\u001b[0;34m\u001b[0m\u001b[0m\n",
            "\u001b[0;32m/usr/local/lib/python3.10/dist-packages/pyvirtualdisplay/xvfb.py\u001b[0m in \u001b[0;36m__init__\u001b[0;34m(self, size, color_depth, bgcolor, use_xauth, fbdir, dpi, retries, extra_args, manage_global_env)\u001b[0m\n\u001b[1;32m     42\u001b[0m         \u001b[0mself\u001b[0m\u001b[0;34m.\u001b[0m\u001b[0m_dpi\u001b[0m \u001b[0;34m=\u001b[0m \u001b[0mdpi\u001b[0m\u001b[0;34m\u001b[0m\u001b[0;34m\u001b[0m\u001b[0m\n\u001b[1;32m     43\u001b[0m \u001b[0;34m\u001b[0m\u001b[0m\n\u001b[0;32m---> 44\u001b[0;31m         AbstractDisplay.__init__(\n\u001b[0m\u001b[1;32m     45\u001b[0m             \u001b[0mself\u001b[0m\u001b[0;34m,\u001b[0m\u001b[0;34m\u001b[0m\u001b[0;34m\u001b[0m\u001b[0m\n\u001b[1;32m     46\u001b[0m             \u001b[0mPROGRAM\u001b[0m\u001b[0;34m,\u001b[0m\u001b[0;34m\u001b[0m\u001b[0;34m\u001b[0m\u001b[0m\n",
            "\u001b[0;32m/usr/local/lib/python3.10/dist-packages/pyvirtualdisplay/abstractdisplay.py\u001b[0m in \u001b[0;36m__init__\u001b[0;34m(self, program, use_xauth, retries, extra_args, manage_global_env)\u001b[0m\n\u001b[1;32m     83\u001b[0m         \u001b[0mself\u001b[0m\u001b[0;34m.\u001b[0m\u001b[0m_retries_current\u001b[0m \u001b[0;34m=\u001b[0m \u001b[0;36m0\u001b[0m\u001b[0;34m\u001b[0m\u001b[0;34m\u001b[0m\u001b[0m\n\u001b[1;32m     84\u001b[0m \u001b[0;34m\u001b[0m\u001b[0m\n\u001b[0;32m---> 85\u001b[0;31m         \u001b[0mhelptext\u001b[0m \u001b[0;34m=\u001b[0m \u001b[0mget_helptext\u001b[0m\u001b[0;34m(\u001b[0m\u001b[0mprogram\u001b[0m\u001b[0;34m)\u001b[0m\u001b[0;34m\u001b[0m\u001b[0;34m\u001b[0m\u001b[0m\n\u001b[0m\u001b[1;32m     86\u001b[0m         \u001b[0mself\u001b[0m\u001b[0;34m.\u001b[0m\u001b[0m_has_displayfd\u001b[0m \u001b[0;34m=\u001b[0m \u001b[0;34m\"-displayfd\"\u001b[0m \u001b[0;32min\u001b[0m \u001b[0mhelptext\u001b[0m\u001b[0;34m\u001b[0m\u001b[0;34m\u001b[0m\u001b[0m\n\u001b[1;32m     87\u001b[0m         \u001b[0;32mif\u001b[0m \u001b[0;32mnot\u001b[0m \u001b[0mself\u001b[0m\u001b[0;34m.\u001b[0m\u001b[0m_has_displayfd\u001b[0m\u001b[0;34m:\u001b[0m\u001b[0;34m\u001b[0m\u001b[0;34m\u001b[0m\u001b[0m\n",
            "\u001b[0;32m/usr/local/lib/python3.10/dist-packages/pyvirtualdisplay/util.py\u001b[0m in \u001b[0;36mget_helptext\u001b[0;34m(program)\u001b[0m\n\u001b[1;32m     11\u001b[0m \u001b[0;34m\u001b[0m\u001b[0m\n\u001b[1;32m     12\u001b[0m     \u001b[0;31m# py3.6 also\u001b[0m\u001b[0;34m\u001b[0m\u001b[0;34m\u001b[0m\u001b[0m\n\u001b[0;32m---> 13\u001b[0;31m     p = subprocess.Popen(\n\u001b[0m\u001b[1;32m     14\u001b[0m         \u001b[0mcmd\u001b[0m\u001b[0;34m,\u001b[0m\u001b[0;34m\u001b[0m\u001b[0;34m\u001b[0m\u001b[0m\n\u001b[1;32m     15\u001b[0m         \u001b[0mstdout\u001b[0m\u001b[0;34m=\u001b[0m\u001b[0msubprocess\u001b[0m\u001b[0;34m.\u001b[0m\u001b[0mPIPE\u001b[0m\u001b[0;34m,\u001b[0m\u001b[0;34m\u001b[0m\u001b[0;34m\u001b[0m\u001b[0m\n",
            "\u001b[0;32m/usr/lib/python3.10/subprocess.py\u001b[0m in \u001b[0;36m__init__\u001b[0;34m(self, args, bufsize, executable, stdin, stdout, stderr, preexec_fn, close_fds, shell, cwd, env, universal_newlines, startupinfo, creationflags, restore_signals, start_new_session, pass_fds, user, group, extra_groups, encoding, errors, text, umask, pipesize)\u001b[0m\n\u001b[1;32m    969\u001b[0m                             encoding=encoding, errors=errors)\n\u001b[1;32m    970\u001b[0m \u001b[0;34m\u001b[0m\u001b[0m\n\u001b[0;32m--> 971\u001b[0;31m             self._execute_child(args, executable, preexec_fn, close_fds,\n\u001b[0m\u001b[1;32m    972\u001b[0m                                 \u001b[0mpass_fds\u001b[0m\u001b[0;34m,\u001b[0m \u001b[0mcwd\u001b[0m\u001b[0;34m,\u001b[0m \u001b[0menv\u001b[0m\u001b[0;34m,\u001b[0m\u001b[0;34m\u001b[0m\u001b[0;34m\u001b[0m\u001b[0m\n\u001b[1;32m    973\u001b[0m                                 \u001b[0mstartupinfo\u001b[0m\u001b[0;34m,\u001b[0m \u001b[0mcreationflags\u001b[0m\u001b[0;34m,\u001b[0m \u001b[0mshell\u001b[0m\u001b[0;34m,\u001b[0m\u001b[0;34m\u001b[0m\u001b[0;34m\u001b[0m\u001b[0m\n",
            "\u001b[0;32m/usr/lib/python3.10/subprocess.py\u001b[0m in \u001b[0;36m_execute_child\u001b[0;34m(self, args, executable, preexec_fn, close_fds, pass_fds, cwd, env, startupinfo, creationflags, shell, p2cread, p2cwrite, c2pread, c2pwrite, errread, errwrite, restore_signals, gid, gids, uid, umask, start_new_session)\u001b[0m\n\u001b[1;32m   1861\u001b[0m                     \u001b[0;32mif\u001b[0m \u001b[0merrno_num\u001b[0m \u001b[0;34m!=\u001b[0m \u001b[0;36m0\u001b[0m\u001b[0;34m:\u001b[0m\u001b[0;34m\u001b[0m\u001b[0;34m\u001b[0m\u001b[0m\n\u001b[1;32m   1862\u001b[0m                         \u001b[0merr_msg\u001b[0m \u001b[0;34m=\u001b[0m \u001b[0mos\u001b[0m\u001b[0;34m.\u001b[0m\u001b[0mstrerror\u001b[0m\u001b[0;34m(\u001b[0m\u001b[0merrno_num\u001b[0m\u001b[0;34m)\u001b[0m\u001b[0;34m\u001b[0m\u001b[0;34m\u001b[0m\u001b[0m\n\u001b[0;32m-> 1863\u001b[0;31m                     \u001b[0;32mraise\u001b[0m \u001b[0mchild_exception_type\u001b[0m\u001b[0;34m(\u001b[0m\u001b[0merrno_num\u001b[0m\u001b[0;34m,\u001b[0m \u001b[0merr_msg\u001b[0m\u001b[0;34m,\u001b[0m \u001b[0merr_filename\u001b[0m\u001b[0;34m)\u001b[0m\u001b[0;34m\u001b[0m\u001b[0;34m\u001b[0m\u001b[0m\n\u001b[0m\u001b[1;32m   1864\u001b[0m                 \u001b[0;32mraise\u001b[0m \u001b[0mchild_exception_type\u001b[0m\u001b[0;34m(\u001b[0m\u001b[0merr_msg\u001b[0m\u001b[0;34m)\u001b[0m\u001b[0;34m\u001b[0m\u001b[0;34m\u001b[0m\u001b[0m\n\u001b[1;32m   1865\u001b[0m \u001b[0;34m\u001b[0m\u001b[0m\n",
            "\u001b[0;31mFileNotFoundError\u001b[0m: [Errno 2] No such file or directory: 'Xvfb'"
          ]
        }
      ],
      "source": [
        "Display(visible=0, size=(400, 300)).start()"
      ]
    },
    {
      "cell_type": "code",
      "execution_count": null,
      "metadata": {
        "id": "8Bkql3-C32-D"
      },
      "outputs": [],
      "source": [
        "# Set random seeds fixed for reproducibility\n",
        "seed = 7    # Do NOT change the seed\n",
        "random.seed(seed)\n",
        "np.random.seed(seed)\n",
        "torch.manual_seed(seed)\n",
        "if torch.cuda.is_available():\n",
        "    torch.cuda.manual_seed(seed)"
      ]
    },
    {
      "cell_type": "markdown",
      "metadata": {
        "id": "5nhhq5v0QxTN"
      },
      "source": [
        "### Now, let's observe the changes in the CartPole environment after performing random actions for 100 time steps."
      ]
    },
    {
      "cell_type": "code",
      "execution_count": null,
      "metadata": {
        "id": "c4LYnQLbcZZa",
        "colab": {
          "base_uri": "https://localhost:8080/",
          "height": 396
        },
        "outputId": "f79858a6-8724-4d2b-d68a-529bb03c4b57"
      },
      "outputs": [
        {
          "output_type": "display_data",
          "data": {
            "text/plain": [
              "<Figure size 640x480 with 1 Axes>"
            ],
            "image/png": "[encoded data removed]"
          },
          "metadata": {}
        }
      ],
      "source": [
        "from IPython import display\n",
        "\n",
        "env = gym.make(\"CartPole-v0\")\n",
        "env.reset()\n",
        "img = plt.imshow(env.render('rgb_array')) # only call this once\n",
        "for i in range(100):\n",
        "    img.set_data(env.render('rgb_array')) # just update the data\n",
        "    display.display(plt.gcf())\n",
        "    display.clear_output(wait=True)\n",
        "    action = env.action_space.sample()\n",
        "    env.step(action)"
      ]
    },
    {
      "cell_type": "markdown",
      "metadata": {
        "id": "mJ0TWAaAOUsu"
      },
      "source": [
        "## 1. Implementing the Deep Q-Network (DQN)\n",
        "\n",
        "\n",
        "Let's implement the DQN algorithm!\n",
        "\n",
        "&nbsp;\n",
        "\n",
        "The DQN algorithm can be visualized with the diagram below. We can observe that it consists of two networks: **the Policy network and the Target network**. The Policy network is the network we aim to train, while the Target network has the same structure as the Policy network and serves to enhance training stability.\n",
        "\n",
        "&nbsp;\n",
        "\n",
        "During the training process, actions sampled from the Policy network result in the dynamics of the environment being stored in a place called the replay memory. Subsequently, at specific intervals, the samples stored in the memory are used to optimize the network, and the parameters of the target network are updated with the parameters of the current policy network periodically.\n",
        "\n",
        "&nbsp;\n",
        "\n",
        "\n",
        "Each structure will be explained in the order of the numbers in the diagram.\n",
        "\n",
        "<img src=\"https://drive.google.com/uc?export=view&id=1skkb6PgU5mDn5_PGmxmhH6JhaYTFQLSW\" width=\"920\" height=\"500\" />\n"
      ]
    },
    {
      "cell_type": "markdown",
      "metadata": {
        "id": "xrbza17VNfCX"
      },
      "source": [
        "### 1.1. Define a replay buffer (memory)\n",
        "\n",
        "Replay buffer is the storage of observed agent transitions, available for subsequent training reuse. Random sampling from this buffer mixes transitions to mitigate correlation, ultimately enhancing DQN training stability and performance. This technique significantly improves the training process of DQNs.\n",
        "\n",
        "&nbsp;\n",
        "\n",
        "The ReplayBuffer class is defined by the following methods.\n",
        "\n",
        "&nbsp;\n",
        "\n",
        "**ReplayBuffer()**\n",
        "- put(): A method for inserting\n",
        "  - buffer_limit: Maximum size of the buffer\n",
        "  - Its role involves placing transitions into the buffer as they arrive.\n",
        "- sample(): A method for extracting\n",
        "  - It involves selecting 32 items and converting them into a tensor.\n",
        "  - It randomly picks 32 items from the buffer to create a mini_batch_.\n",
        "- size(): Indicates the number of items currently in the buffer."
      ]
    },
    {
      "cell_type": "code",
      "execution_count": null,
      "metadata": {
        "id": "P4KFbEC3NldZ"
      },
      "outputs": [],
      "source": [
        "class ReplayBuffer():\n",
        "    def __init__(self):\n",
        "        self.buffer = collections.deque(maxlen=buffer_limit)\n",
        "\n",
        "    def put(self, transition):\n",
        "        self.buffer.append(transition)\n",
        "\n",
        "    def sample(self, n):\n",
        "        mini_batch = random.sample(self.buffer, n)\n",
        "        s_lst, a_lst, r_lst, s_prime_lst, done_mask_lst = [], [], [], [], []\n",
        "\n",
        "        for transition in mini_batch:\n",
        "            s, a, r, s_prime, done_mask = transition\n",
        "            s_lst.append(s)\n",
        "            a_lst.append([a])\n",
        "            r_lst.append([r])\n",
        "            s_prime_lst.append(s_prime)\n",
        "            done_mask_lst.append([done_mask])\n",
        "\n",
        "        return torch.tensor(s_lst, dtype=torch.float), torch.tensor(a_lst), \\\n",
        "               torch.tensor(r_lst), torch.tensor(s_prime_lst, dtype=torch.float), \\\n",
        "               torch.tensor(done_mask_lst)\n",
        "\n",
        "    def size(self):\n",
        "        return len(self.buffer)"
      ]
    },
    {
      "cell_type": "markdown",
      "metadata": {
        "id": "gUsfl3O8NoX4"
      },
      "source": [
        "### 1.2. Define a Q-Network\n",
        "\n",
        "The Q-network refers to a neural network that approximates the Q-values of different actions in a given state. Q-values represent the expected cumulative reward that an agent can achieve by taking a specific action in a particular state and then following the optimal policy thereafter.\n",
        "\n",
        "The Q-network takes the current state as input and outputs a vector of Q-values, where each value corresponds to a different action that the agent can take. The highest Q-value indicates the action that the agent believes will yield the maximum expected reward.\n",
        "\n",
        "\n",
        "&nbsp;\n",
        "\n",
        "<img src=\"https://drive.google.com/uc?export=view&id=1sSgJQxb5X4hEbdi3yT4IYGu9vnSbcBLV\" width=\"570\" height=\"450\" />\n",
        "\n",
        "&nbsp;\n",
        "\n",
        "The QNet class is defined by the following methods.\n",
        "\n",
        "&nbsp;\n",
        "\n",
        "- sample_action(): with a probability of epsilon, take a random action, and in the remaining cases, take the greedy action (the action with the highest q-value).\n",
        "\n"
      ]
    },
    {
      "cell_type": "code",
      "execution_count": null,
      "metadata": {
        "id": "hhQ6PXfMNrnA"
      },
      "outputs": [],
      "source": [
        "class Qnet(nn.Module):\n",
        "    def __init__(self):\n",
        "        super(Qnet, self).__init__()\n",
        "        self.fc1 = nn.Linear(4, 128)\n",
        "        self.fc2 = nn.Linear(128, 128)\n",
        "        self.fc3 = nn.Linear(128, 2)\n",
        "\n",
        "    def forward(self, x):\n",
        "        x = F.relu(self.fc1(x))\n",
        "        x = F.relu(self.fc2(x))\n",
        "        x = self.fc3(x)\n",
        "        return x\n",
        "\n",
        "    def sample_action(self, obs, epsilon):\n",
        "        out = self.forward(obs)\n",
        "        coin = random.random()\n",
        "        if coin < epsilon:\n",
        "            return random.randint(0,1)\n",
        "        else:\n",
        "            return out.argmax().item()"
      ]
    },
    {
      "cell_type": "markdown",
      "metadata": {
        "id": "RFAgZFlBY7pG"
      },
      "source": [
        "### 1.3. Updating the model using samples stored in the buffer.\n",
        "\n",
        "\n",
        "<img src=\"https://drive.google.com/uc?export=view&id=1PiVEfCUbQy9AInJfxfLyOMjDoGw2xVBo\" width=\"600\" height=\"130\" />\n"
      ]
    },
    {
      "cell_type": "code",
      "execution_count": null,
      "metadata": {
        "id": "7SdVGgQEOZq4"
      },
      "outputs": [],
      "source": [
        "# Hyperparameters\n",
        "\n",
        "learning_rate = 0.0005\n",
        "gamma         = 0.98\n",
        "buffer_limit  = 50000\n",
        "batch_size    = 32"
      ]
    },
    {
      "cell_type": "markdown",
      "source": [
        "#### **Exercise**. Referencing the Loss function in the diagram, implement the loss that will be used to update the model.\n",
        "Obtain the predicted Q-values through the policy network (green part in the diagram), then compute the target Q-values using the target network (blue part in the diagram). By calculating the difference between these two Q-values, you can define the loss."
      ],
      "metadata": {
        "id": "v-ARtnXXxwXb"
      }
    },
    {
      "cell_type": "code",
      "execution_count": null,
      "metadata": {
        "id": "uEDR2ehTOJpT"
      },
      "outputs": [],
      "source": [
        "def update_model(q, q_target, memory, optimizer, criterion):\n",
        "    for i in range(10):\n",
        "        s, a, r, s_prime, done_mask = memory.sample(batch_size)\n",
        "\n",
        "        \"\"\" ### Implement the code yourself ### \"\"\"\n",
        "        # get predicted q value (using policy network)\n",
        "        q_a = q(s).gather(1,a)\n",
        "\n",
        "        # get target q value (using target network)\n",
        "        target = r + gamma * q_target(s_prime).max(1)[0].unsqueeze(1) * done_mask\n",
        "\n",
        "        # define loss\n",
        "        loss = criterion(q_a, target)\n",
        "\n",
        "        optimizer.zero_grad()\n",
        "        loss.backward()\n",
        "        optimizer.step()"
      ]
    },
    {
      "cell_type": "markdown",
      "metadata": {
        "id": "c8ujXqG4Fenc"
      },
      "source": [
        "### 1-4. Train the DQN"
      ]
    },
    {
      "cell_type": "code",
      "execution_count": null,
      "metadata": {
        "colab": {
          "base_uri": "https://localhost:8080/"
        },
        "id": "smPm2hhLOMYc",
        "outputId": "227d04b0-8097-4d9f-d23b-fda58c5a945a"
      },
      "outputs": [
        {
          "output_type": "stream",
          "name": "stdout",
          "text": [
            "n_episode :20, score : 10.0, n_buffer : 200, eps : 7.9%\n",
            "n_episode :40, score : 9.6, n_buffer : 392, eps : 7.8%\n",
            "n_episode :60, score : 9.8, n_buffer : 588, eps : 7.7%\n",
            "n_episode :80, score : 10.2, n_buffer : 791, eps : 7.6%\n",
            "n_episode :100, score : 9.7, n_buffer : 985, eps : 7.5%\n",
            "n_episode :120, score : 9.9, n_buffer : 1184, eps : 7.4%\n",
            "n_episode :140, score : 9.3, n_buffer : 1370, eps : 7.3%\n",
            "n_episode :160, score : 9.8, n_buffer : 1565, eps : 7.2%\n",
            "n_episode :180, score : 9.7, n_buffer : 1758, eps : 7.1%\n",
            "n_episode :200, score : 9.8, n_buffer : 1955, eps : 7.0%\n"
          ]
        },
        {
          "output_type": "stream",
          "name": "stderr",
          "text": [
            "<ipython-input-10-2b19540d4b3a>:20: UserWarning: Creating a tensor from a list of numpy.ndarrays is extremely slow. Please consider converting the list to a single numpy.ndarray with numpy.array() before converting to a tensor. (Triggered internally at ../torch/csrc/utils/tensor_new.cpp:261.)\n",
            "  return torch.tensor(s_lst, dtype=torch.float), torch.tensor(a_lst), \\\n"
          ]
        },
        {
          "output_type": "stream",
          "name": "stdout",
          "text": [
            "n_episode :220, score : 10.1, n_buffer : 2157, eps : 6.9%\n",
            "n_episode :240, score : 10.2, n_buffer : 2361, eps : 6.8%\n",
            "n_episode :260, score : 10.4, n_buffer : 2570, eps : 6.7%\n",
            "n_episode :280, score : 15.1, n_buffer : 2871, eps : 6.6%\n",
            "n_episode :300, score : 15.3, n_buffer : 3177, eps : 6.5%\n",
            "n_episode :320, score : 13.2, n_buffer : 3442, eps : 6.4%\n",
            "n_episode :340, score : 28.1, n_buffer : 4004, eps : 6.3%\n",
            "n_episode :360, score : 50.1, n_buffer : 5006, eps : 6.2%\n",
            "n_episode :380, score : 154.3, n_buffer : 8092, eps : 6.1%\n",
            "n_episode :400, score : 177.1, n_buffer : 11634, eps : 6.0%\n",
            "n_episode :420, score : 182.6, n_buffer : 15285, eps : 5.9%\n",
            "n_episode :440, score : 163.6, n_buffer : 18556, eps : 5.8%\n",
            "n_episode :460, score : 178.0, n_buffer : 22116, eps : 5.7%\n",
            "n_episode :480, score : 182.2, n_buffer : 25759, eps : 5.6%\n",
            "n_episode :500, score : 170.2, n_buffer : 29163, eps : 5.5%\n",
            "n_episode :520, score : 160.3, n_buffer : 32369, eps : 5.4%\n",
            "n_episode :540, score : 179.5, n_buffer : 35959, eps : 5.3%\n",
            "n_episode :560, score : 157.8, n_buffer : 39115, eps : 5.2%\n",
            "n_episode :580, score : 159.1, n_buffer : 42297, eps : 5.1%\n",
            "n_episode :600, score : 168.9, n_buffer : 45675, eps : 5.0%\n",
            "n_episode :620, score : 169.2, n_buffer : 49058, eps : 4.9%\n",
            "n_episode :640, score : 169.1, n_buffer : 50000, eps : 4.8%\n",
            "n_episode :660, score : 157.1, n_buffer : 50000, eps : 4.7%\n",
            "n_episode :680, score : 182.8, n_buffer : 50000, eps : 4.6%\n",
            "n_episode :700, score : 181.3, n_buffer : 50000, eps : 4.5%\n",
            "n_episode :720, score : 152.6, n_buffer : 50000, eps : 4.4%\n",
            "n_episode :740, score : 167.9, n_buffer : 50000, eps : 4.3%\n",
            "n_episode :760, score : 168.5, n_buffer : 50000, eps : 4.2%\n",
            "n_episode :780, score : 168.7, n_buffer : 50000, eps : 4.1%\n",
            "n_episode :800, score : 147.5, n_buffer : 50000, eps : 4.0%\n",
            "n_episode :820, score : 131.6, n_buffer : 50000, eps : 3.9%\n",
            "n_episode :840, score : 160.5, n_buffer : 50000, eps : 3.8%\n",
            "n_episode :860, score : 184.2, n_buffer : 50000, eps : 3.7%\n",
            "n_episode :880, score : 177.8, n_buffer : 50000, eps : 3.6%\n",
            "n_episode :900, score : 159.9, n_buffer : 50000, eps : 3.5%\n",
            "n_episode :920, score : 178.1, n_buffer : 50000, eps : 3.4%\n",
            "n_episode :940, score : 162.3, n_buffer : 50000, eps : 3.3%\n",
            "n_episode :960, score : 181.2, n_buffer : 50000, eps : 3.2%\n",
            "n_episode :980, score : 165.8, n_buffer : 50000, eps : 3.1%\n"
          ]
        }
      ],
      "source": [
        "q = Qnet()\n",
        "q_target = Qnet()\n",
        "q_target.load_state_dict(q.state_dict())\n",
        "memory = ReplayBuffer()\n",
        "\n",
        "print_interval = 20\n",
        "score = 0.0\n",
        "\n",
        "optimizer = optim.Adam(q.parameters(), lr=learning_rate)\n",
        "criterion = F.smooth_l1_loss\n",
        "\n",
        "for n_epi in range(1000):\n",
        "    epsilon = max(0.01, 0.08 - 0.01*(n_epi/200)) #Linear annealing from 8% to 1%\n",
        "    s = env.reset()\n",
        "    done = False\n",
        "\n",
        "    while not done:\n",
        "        a = q.sample_action(torch.from_numpy(s).float(), epsilon)\n",
        "        s_prime, r, done, truncated = env.step(a)\n",
        "        done_mask = 0.0 if done else 1.0\n",
        "        memory.put((s,a,r/100.0,s_prime, done_mask))\n",
        "        s = s_prime\n",
        "\n",
        "        score += r\n",
        "        if done:\n",
        "            break\n",
        "\n",
        "    if memory.size() > 2000:\n",
        "        update_model(q, q_target, memory, optimizer, criterion)\n",
        "\n",
        "    if n_epi%print_interval==0 and n_epi!=0:\n",
        "        q_target.load_state_dict(q.state_dict())\n",
        "        print(\"n_episode :{}, score : {:.1f}, n_buffer : {}, eps : {:.1f}%\".format(\n",
        "                                                        n_epi, score/print_interval, memory.size(), epsilon*100))\n",
        "        score = 0.0\n",
        "env.close()"
      ]
    },
    {
      "cell_type": "markdown",
      "metadata": {
        "id": "WlJ1yG2YS8ON"
      },
      "source": [
        "### Now, let's use our trained DQN model to observe how CartPole moves. You'll notice a distinct difference compared to the initial behavior."
      ]
    },
    {
      "cell_type": "code",
      "execution_count": null,
      "metadata": {
        "id": "qUyq9iFiQsyF",
        "colab": {
          "base_uri": "https://localhost:8080/",
          "height": 396
        },
        "outputId": "e54803be-0c88-48f3-f078-a307c9bb62a6"
      },
      "outputs": [
        {
          "output_type": "display_data",
          "data": {
            "text/plain": [
              "<Figure size 640x480 with 1 Axes>"
            ],
            "image/png": "[encoded data removed]"
          },
          "metadata": {}
        }
      ],
      "source": [
        "env = gym.make('CartPole-v0')\n",
        "s = env.reset()\n",
        "img = plt.imshow(env.render('rgb_array')) # only call this once\n",
        "for i in range(100):\n",
        "    img.set_data(env.render('rgb_array')) # just update the data\n",
        "    display.display(plt.gcf())\n",
        "    display.clear_output(wait=True)\n",
        "    action = q.sample_action(torch.from_numpy(s).float(), 0)\n",
        "    s, _, _, _ = env.step(action)"
      ]
    },
    {
      "cell_type": "markdown",
      "metadata": {
        "id": "aTGWgC2oNZ8d"
      },
      "source": [
        "## References\n",
        "  - https://github.com/seungeunrho/minimalRL\n",
        "  - https://github.com/rlcode/per\n",
        "  - https://pytorch.org/tutorials/intermediate/reinforcement_q_learning.html\n",
        "  - https://www.gymlibrary.dev/environments/classic_control/cart_pole/"
      ]
    }
  ],
  "metadata": {
    "colab": {
      "provenance": []
    },
    "kernelspec": {
      "display_name": "Python 3",
      "name": "python3"
    },
    "language_info": {
      "name": "python"
    }
  },
  "nbformat": 4,
  "nbformat_minor": 0
}